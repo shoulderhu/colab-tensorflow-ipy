{
  "nbformat": 4,
  "nbformat_minor": 0,
  "metadata": {
    "colab": {
      "name": "NTPU_02_MLP_classification.ipynb",
      "version": "0.3.2",
      "provenance": [],
      "collapsed_sections": [
        "evKkN6KKJaM4",
        "8NKflvD1J8sW",
        "ct_aTrV-LpXY",
        "7fxyjan8MHHJ",
        "a24w7EdQRPzi",
        "-TsGbz58RwwE",
        "oMo1uKBfxkry"
      ],
      "include_colab_link": true
    },
    "kernelspec": {
      "name": "python3",
      "display_name": "Python 3"
    },
    "accelerator": "GPU"
  },
  "cells": [
    {
      "cell_type": "markdown",
      "metadata": {
        "id": "view-in-github",
        "colab_type": "text"
      },
      "source": [
        "<a href=\"https://colab.research.google.com/github/shoulderhu/colab-tensorflow-ipy/blob/master/NTPU_02_MLP_classification.ipynb\" target=\"_parent\"><img src=\"https://colab.research.google.com/assets/colab-badge.svg\" alt=\"Open In Colab\"/></a>"
      ]
    },
    {
      "cell_type": "markdown",
      "metadata": {
        "id": "evKkN6KKJaM4",
        "colab_type": "text"
      },
      "source": [
        "# Lab 2: MLP for Classification\n",
        "Now that we've learned about MLPs, let's implement a neural network for classification, using the classic MNIST dataset. \n",
        "\n",
        "The MNIST dataset contains 60,000 handwritten digits ('0' ~ '9') for the training set, and 10,000 for the testing set. Each handwritten digit is presented in grayscale, with an input size of 28x28. There's actually quite a lot of *pre-processing* done to the data samples; we'll not go into detail but you should know that pre-processing data is a lot of work, and is extremely important if you want your model to learn things."
      ]
    },
    {
      "cell_type": "markdown",
      "metadata": {
        "id": "8NKflvD1J8sW",
        "colab_type": "text"
      },
      "source": [
        "## Installing Tensorflow 2.0\n",
        "Tensorflow 2.0 is an improvement on Tensorflow 1 in many ways. The first beta version was just recently released (June 2019). Moving forward, its adoption is expected to grow, so to be up-to-date, we will be using Tensorflow 2.0 for our labs.\n",
        "\n",
        "First, let's check what version of Tensorflow we are using on this notebook."
      ]
    },
    {
      "cell_type": "code",
      "metadata": {
        "id": "U1o5iqd3BOJF",
        "colab_type": "code",
        "outputId": "f7fa5706-c9d4-4c1f-9dd0-61dffdb7a301",
        "colab": {
          "base_uri": "https://localhost:8080/",
          "height": 34
        }
      },
      "source": [
        "import tensorflow as tf\n",
        "\n",
        "print(tf.__version__)"
      ],
      "execution_count": 1,
      "outputs": [
        {
          "output_type": "stream",
          "text": [
            "1.14.0\n"
          ],
          "name": "stdout"
        }
      ]
    },
    {
      "cell_type": "markdown",
      "metadata": {
        "id": "MP7aB2pQLBSr",
        "colab_type": "text"
      },
      "source": [
        "If your notebook is still on Tensorflow 1, run the following line to install Tensorflow 2.0 beta. Don't worry about how to set up your environment, we'll quickly explain when we have time."
      ]
    },
    {
      "cell_type": "code",
      "metadata": {
        "id": "sqeLFezFKIfx",
        "colab_type": "code",
        "outputId": "ce48330c-2027-403a-fe83-569eda35934b",
        "colab": {
          "base_uri": "https://localhost:8080/",
          "height": 51
        }
      },
      "source": [
        "!pip uninstall -y tensorflow"
      ],
      "execution_count": 2,
      "outputs": [
        {
          "output_type": "stream",
          "text": [
            "Uninstalling tensorflow-1.14.0:\n",
            "  Successfully uninstalled tensorflow-1.14.0\n"
          ],
          "name": "stdout"
        }
      ]
    },
    {
      "cell_type": "code",
      "metadata": {
        "id": "Rn9DLWDbAcx6",
        "colab_type": "code",
        "outputId": "bfd9428f-25a3-4d71-91ff-924191397b83",
        "colab": {
          "base_uri": "https://localhost:8080/",
          "height": 581
        }
      },
      "source": [
        "!pip install -U tensorflow-gpu==2.0.0-beta1"
      ],
      "execution_count": 3,
      "outputs": [
        {
          "output_type": "stream",
          "text": [
            "Collecting tensorflow-gpu==2.0.0-beta1\n",
            "\u001b[?25l  Downloading https://files.pythonhosted.org/packages/2b/53/e18c5e7a2263d3581a979645a185804782e59b8e13f42b9c3c3cfb5bb503/tensorflow_gpu-2.0.0b1-cp36-cp36m-manylinux1_x86_64.whl (348.9MB)\n",
            "\u001b[K     |████████████████████████████████| 348.9MB 59kB/s \n",
            "\u001b[?25hRequirement already satisfied, skipping upgrade: termcolor>=1.1.0 in /usr/local/lib/python3.6/dist-packages (from tensorflow-gpu==2.0.0-beta1) (1.1.0)\n",
            "Requirement already satisfied, skipping upgrade: gast>=0.2.0 in /usr/local/lib/python3.6/dist-packages (from tensorflow-gpu==2.0.0-beta1) (0.2.2)\n",
            "Requirement already satisfied, skipping upgrade: six>=1.10.0 in /usr/local/lib/python3.6/dist-packages (from tensorflow-gpu==2.0.0-beta1) (1.12.0)\n",
            "Requirement already satisfied, skipping upgrade: numpy<2.0,>=1.14.5 in /usr/local/lib/python3.6/dist-packages (from tensorflow-gpu==2.0.0-beta1) (1.16.4)\n",
            "Requirement already satisfied, skipping upgrade: keras-preprocessing>=1.0.5 in /usr/local/lib/python3.6/dist-packages (from tensorflow-gpu==2.0.0-beta1) (1.1.0)\n",
            "Requirement already satisfied, skipping upgrade: keras-applications>=1.0.6 in /usr/local/lib/python3.6/dist-packages (from tensorflow-gpu==2.0.0-beta1) (1.0.8)\n",
            "Requirement already satisfied, skipping upgrade: astor>=0.6.0 in /usr/local/lib/python3.6/dist-packages (from tensorflow-gpu==2.0.0-beta1) (0.8.0)\n",
            "Collecting tb-nightly<1.14.0a20190604,>=1.14.0a20190603 (from tensorflow-gpu==2.0.0-beta1)\n",
            "\u001b[?25l  Downloading https://files.pythonhosted.org/packages/a4/96/571b875cd81dda9d5dfa1422a4f9d749e67c0a8d4f4f0b33a4e5f5f35e27/tb_nightly-1.14.0a20190603-py3-none-any.whl (3.1MB)\n",
            "\u001b[K     |████████████████████████████████| 3.1MB 40.1MB/s \n",
            "\u001b[?25hCollecting tf-estimator-nightly<1.14.0.dev2019060502,>=1.14.0.dev2019060501 (from tensorflow-gpu==2.0.0-beta1)\n",
            "\u001b[?25l  Downloading https://files.pythonhosted.org/packages/32/dd/99c47dd007dcf10d63fd895611b063732646f23059c618a373e85019eb0e/tf_estimator_nightly-1.14.0.dev2019060501-py2.py3-none-any.whl (496kB)\n",
            "\u001b[K     |████████████████████████████████| 501kB 52.1MB/s \n",
            "\u001b[?25hRequirement already satisfied, skipping upgrade: google-pasta>=0.1.6 in /usr/local/lib/python3.6/dist-packages (from tensorflow-gpu==2.0.0-beta1) (0.1.7)\n",
            "Requirement already satisfied, skipping upgrade: grpcio>=1.8.6 in /usr/local/lib/python3.6/dist-packages (from tensorflow-gpu==2.0.0-beta1) (1.15.0)\n",
            "Requirement already satisfied, skipping upgrade: wheel>=0.26 in /usr/local/lib/python3.6/dist-packages (from tensorflow-gpu==2.0.0-beta1) (0.33.4)\n",
            "Requirement already satisfied, skipping upgrade: protobuf>=3.6.1 in /usr/local/lib/python3.6/dist-packages (from tensorflow-gpu==2.0.0-beta1) (3.7.1)\n",
            "Requirement already satisfied, skipping upgrade: absl-py>=0.7.0 in /usr/local/lib/python3.6/dist-packages (from tensorflow-gpu==2.0.0-beta1) (0.7.1)\n",
            "Requirement already satisfied, skipping upgrade: wrapt>=1.11.1 in /usr/local/lib/python3.6/dist-packages (from tensorflow-gpu==2.0.0-beta1) (1.11.2)\n",
            "Requirement already satisfied, skipping upgrade: h5py in /usr/local/lib/python3.6/dist-packages (from keras-applications>=1.0.6->tensorflow-gpu==2.0.0-beta1) (2.8.0)\n",
            "Requirement already satisfied, skipping upgrade: werkzeug>=0.11.15 in /usr/local/lib/python3.6/dist-packages (from tb-nightly<1.14.0a20190604,>=1.14.0a20190603->tensorflow-gpu==2.0.0-beta1) (0.15.4)\n",
            "Requirement already satisfied, skipping upgrade: setuptools>=41.0.0 in /usr/local/lib/python3.6/dist-packages (from tb-nightly<1.14.0a20190604,>=1.14.0a20190603->tensorflow-gpu==2.0.0-beta1) (41.0.1)\n",
            "Requirement already satisfied, skipping upgrade: markdown>=2.6.8 in /usr/local/lib/python3.6/dist-packages (from tb-nightly<1.14.0a20190604,>=1.14.0a20190603->tensorflow-gpu==2.0.0-beta1) (3.1.1)\n",
            "Installing collected packages: tb-nightly, tf-estimator-nightly, tensorflow-gpu\n",
            "Successfully installed tb-nightly-1.14.0a20190603 tensorflow-gpu-2.0.0b1 tf-estimator-nightly-1.14.0.dev2019060501\n"
          ],
          "name": "stdout"
        },
        {
          "output_type": "display_data",
          "data": {
            "application/vnd.colab-display-data+json": {
              "pip_warning": {
                "packages": [
                  "tensorboard",
                  "tensorflow",
                  "tensorflow_estimator"
                ]
              }
            }
          },
          "metadata": {
            "tags": []
          }
        }
      ]
    },
    {
      "cell_type": "markdown",
      "metadata": {
        "id": "1xpTt6EaLfsY",
        "colab_type": "text"
      },
      "source": [
        "While it is installing, let's talk about what Keras is, and how it can help you.\n",
        "\n",
        "Keras is a high-level DL API that makes building, training, evaluating neural networks easy. It is open source so there are many implementations. We will be using ```tf.keras``` (Keras implemented by the Tensorflow team). Since Keras calls the basic Tensorflow operations, it is definitely possible to build your neural networks using the basic Tensorflow operations. We won't go too much into depth on using low-level Tensorflow functions though, since this is an introductory course.\n",
        "\n",
        "![alt text](https://drive.google.com/uc?id=1aEHxg19hKDGx9KEnmN7CP0YSJ6XKst20)\n",
        "\n",
        "**Remember to restart the runtime so that the new Tensorflow takes effect.**"
      ]
    },
    {
      "cell_type": "markdown",
      "metadata": {
        "id": "ct_aTrV-LpXY",
        "colab_type": "text"
      },
      "source": [
        "## Importing the necessary modules\n",
        "Now that we've installed Tensorflow 2.0, let's import it and Keras, then check to see if the versions are correct."
      ]
    },
    {
      "cell_type": "code",
      "metadata": {
        "id": "v-x6cYE9BoSp",
        "colab_type": "code",
        "outputId": "00dfb028-7fbf-4d13-bc2b-e42e9cd04fe5",
        "colab": {
          "base_uri": "https://localhost:8080/",
          "height": 51
        }
      },
      "source": [
        "# import and verify version\n",
        "import tensorflow as tf\n",
        "from tensorflow import keras\n",
        "import matplotlib.pyplot as plt\n",
        "\n",
        "print(tf.__version__)\n",
        "print(keras.__version__)\n",
        "\n",
        "import numpy as np"
      ],
      "execution_count": 4,
      "outputs": [
        {
          "output_type": "stream",
          "text": [
            "1.14.0\n",
            "2.2.4-tf\n"
          ],
          "name": "stdout"
        }
      ]
    },
    {
      "cell_type": "markdown",
      "metadata": {
        "id": "7fxyjan8MHHJ",
        "colab_type": "text"
      },
      "source": [
        "## Splitting the Data into Three Sets\n",
        "As previously mentioned in the lecture, we want to split the data we have into three sets: training, validation, and testing.\n",
        "\n",
        "Luckily, the MNIST dataset already has a training set and a test set. All we have to do is parcel out a validation set from the training set. Let's take the first 5000 samples as the validation.\n",
        "\n",
        "In practice, the process of splitting the data into sets can be much more sophisticated. Think about a scenario where the number of data samples increase over time. Let's say you have some data on hand, but you know more data will be arriving regularly every week. How would you split your data set?"
      ]
    },
    {
      "cell_type": "code",
      "metadata": {
        "id": "okPM3OVsB-u9",
        "colab_type": "code",
        "outputId": "b71afc3b-8f88-4e7b-9f4a-13f0fa969900",
        "colab": {
          "base_uri": "https://localhost:8080/",
          "height": 85
        }
      },
      "source": [
        "# load data\n",
        "mnist = keras.datasets.mnist\n",
        "(X_train_full, y_train_full), (X_test, y_test) = mnist.load_data()\n",
        "\n",
        "# Split into training and validation sets\n",
        "X_valid, X_train = X_train_full[:5000] / 255.0, X_train_full[5000:] / 255.0\n",
        "y_valid, y_train = y_train_full[:5000], y_train_full[5000:]\n",
        "\n",
        "print(\"Shape of the training set: {}\".format(X_train_full.shape))\n",
        "print(\"Datatype: {}\".format(X_train_full.dtype))"
      ],
      "execution_count": 0,
      "outputs": [
        {
          "output_type": "stream",
          "text": [
            "Downloading data from https://storage.googleapis.com/tensorflow/tf-keras-datasets/mnist.npz\n",
            "11493376/11490434 [==============================] - 0s 0us/step\n",
            "Shape of the training set: (60000, 28, 28)\n",
            "Datatype: uint8\n"
          ],
          "name": "stdout"
        }
      ]
    },
    {
      "cell_type": "markdown",
      "metadata": {
        "id": "5BbmsOMUSKGL",
        "colab_type": "text"
      },
      "source": [
        "Okay, that's nice, but what does each data sample look like? For images, we can print them onto the screen by using .imshow()."
      ]
    },
    {
      "cell_type": "code",
      "metadata": {
        "id": "7hfL3LYgSVKL",
        "colab_type": "code",
        "outputId": "65c694bf-d550-4ef2-ae22-5dd421f93a92",
        "colab": {
          "base_uri": "https://localhost:8080/",
          "height": 286
        }
      },
      "source": [
        "plt.figure()\n",
        "index = np.random.randint(0,54999)\n",
        "plt.imshow(X_train[index], cmap=\"gray_r\")\n",
        "plt.show()\n",
        "\n",
        "print(\"The label for X_train[{}] is: {}\".format(index, y_train[index]))"
      ],
      "execution_count": 0,
      "outputs": [
        {
          "output_type": "display_data",
          "data": {
            "image/png": "[encoded data removed]",
            "text/plain": [
              "<Figure size 432x288 with 1 Axes>"
            ]
          },
          "metadata": {
            "tags": []
          }
        },
        {
          "output_type": "stream",
          "text": [
            "The label for X_train[54242] is: 3\n"
          ],
          "name": "stdout"
        }
      ]
    },
    {
      "cell_type": "markdown",
      "metadata": {
        "id": "a24w7EdQRPzi",
        "colab_type": "text"
      },
      "source": [
        "## Building the Actual Neural Network\n",
        "We'll be using what's called the ```Sequential``` API to implement our first MLP."
      ]
    },
    {
      "cell_type": "code",
      "metadata": {
        "id": "yCWv6gJSCGuB",
        "colab_type": "code",
        "colab": {}
      },
      "source": [
        "model = keras.models.Sequential()\n",
        "## flatten is the same as reshape(-1, 1); -1 basically means \"figure it out for me\"\n",
        "model.add(keras.layers.Flatten(input_shape=[28, 28]))\n",
        "model.add(keras.layers.Dense(20, activation=\"relu\"))\n",
        "model.add(keras.layers.Dense(20, activation=\"relu\"))\n",
        "model.add(keras.layers.Dense(10, activation=\"softmax\"))\n",
        "\n",
        "## alternatively:\n",
        "# model = keras.models.Sequential([\n",
        "#     keras.layers.Flatten(input_shape=[28, 28]),\n",
        "#     keras.layers.Dense(20, activation=\"relu\"),\n",
        "#     keras.layers.Dense(20, activation=\"relu\"),\n",
        "#     keras.layers.Dense(10, activation=\"softmax\")\n",
        "# ])"
      ],
      "execution_count": 0,
      "outputs": []
    },
    {
      "cell_type": "markdown",
      "metadata": {
        "id": "c6a4wnnvRXWR",
        "colab_type": "text"
      },
      "source": [
        "Let's print out some information so we can see what the network looks like."
      ]
    },
    {
      "cell_type": "code",
      "metadata": {
        "id": "CzWq8YTvSxcK",
        "colab_type": "code",
        "outputId": "3d2ee6d7-f385-412b-a4ef-0ff19b3f0a0d",
        "colab": {
          "base_uri": "https://localhost:8080/",
          "height": 632
        }
      },
      "source": [
        "model.summary()\n",
        "\n",
        "print(model.layers)\n",
        "print(model.layers[2].name)\n",
        "print(model.get_layer('dense_2').name)\n",
        "\n",
        "weights, biases = model.layers[1].get_weights()\n",
        "print(weights.shape)\n",
        "print(weights)\n",
        "print(biases.shape)\n",
        "print(biases)"
      ],
      "execution_count": 0,
      "outputs": [
        {
          "output_type": "stream",
          "text": [
            "Model: \"sequential\"\n",
            "_________________________________________________________________\n",
            "Layer (type)                 Output Shape              Param #   \n",
            "=================================================================\n",
            "flatten (Flatten)            (None, 784)               0         \n",
            "_________________________________________________________________\n",
            "dense (Dense)                (None, 20)                15700     \n",
            "_________________________________________________________________\n",
            "dense_1 (Dense)              (None, 20)                420       \n",
            "_________________________________________________________________\n",
            "dense_2 (Dense)              (None, 10)                210       \n",
            "=================================================================\n",
            "Total params: 16,330\n",
            "Trainable params: 16,330\n",
            "Non-trainable params: 0\n",
            "_________________________________________________________________\n",
            "[<tensorflow.python.keras.layers.core.Flatten object at 0x7f406870acc0>, <tensorflow.python.keras.layers.core.Dense object at 0x7f4065e03f60>, <tensorflow.python.keras.layers.core.Dense object at 0x7f4065e03198>, <tensorflow.python.keras.layers.core.Dense object at 0x7f4065e65f98>]\n",
            "dense_1\n",
            "dense_2\n",
            "(784, 20)\n",
            "[[ 0.03658447 -0.04638909  0.05585875 ...  0.08494484 -0.00750094\n",
            "  -0.07674643]\n",
            " [-0.08508214 -0.03236345 -0.05366382 ...  0.07601665 -0.08368452\n",
            "   0.04275569]\n",
            " [ 0.06905369 -0.01408362  0.01647805 ... -0.07306576 -0.05488971\n",
            "  -0.04406501]\n",
            " ...\n",
            " [ 0.07700026 -0.02957402 -0.07035635 ... -0.06872718  0.08597039\n",
            "   0.02234244]\n",
            " [ 0.00610831  0.04272909 -0.05154182 ...  0.03539855 -0.08206963\n",
            "  -0.0486761 ]\n",
            " [ 0.01573589  0.06199591  0.05077043 ...  0.00104707  0.07797952\n",
            "  -0.01817366]]\n",
            "(20,)\n",
            "[0. 0. 0. 0. 0. 0. 0. 0. 0. 0. 0. 0. 0. 0. 0. 0. 0. 0. 0. 0.]\n"
          ],
          "name": "stdout"
        }
      ]
    },
    {
      "cell_type": "markdown",
      "metadata": {
        "id": "KEjua59pRcPY",
        "colab_type": "text"
      },
      "source": [
        "After we define the network, we will need to compile it. We need to specify the loss function, optimizer, and the metrics it uses to evaluate how well it performs.\n",
        "\n",
        "Again, we call the function .fit() to start training."
      ]
    },
    {
      "cell_type": "code",
      "metadata": {
        "id": "5Vz_OCzRIACW",
        "colab_type": "code",
        "outputId": "37d2cf17-99d5-4964-8c45-d069f7029ac5",
        "colab": {
          "base_uri": "https://localhost:8080/",
          "height": 462
        }
      },
      "source": [
        "model.compile(loss=\"sparse_categorical_crossentropy\",\n",
        "    optimizer=\"sgd\",\n",
        "    metrics=[\"accuracy\"])\n",
        "\n",
        "history = model.fit(X_train, y_train, epochs=10, validation_data=(X_valid, y_valid))"
      ],
      "execution_count": 0,
      "outputs": [
        {
          "output_type": "stream",
          "text": [
            "WARNING: Logging before flag parsing goes to stderr.\n",
            "W0708 06:25:06.745878 139915553908608 deprecation.py:323] From /usr/local/lib/python3.6/dist-packages/tensorflow/python/ops/math_grad.py:1250: add_dispatch_support.<locals>.wrapper (from tensorflow.python.ops.array_ops) is deprecated and will be removed in a future version.\n",
            "Instructions for updating:\n",
            "Use tf.where in 2.0, which has the same broadcast rule as np.where\n"
          ],
          "name": "stderr"
        },
        {
          "output_type": "stream",
          "text": [
            "Train on 55000 samples, validate on 5000 samples\n",
            "Epoch 1/10\n",
            "55000/55000 [==============================] - 3s 49us/sample - loss: 0.8846 - accuracy: 0.7356 - val_loss: 0.3904 - val_accuracy: 0.8902\n",
            "Epoch 2/10\n",
            "55000/55000 [==============================] - 3s 46us/sample - loss: 0.3662 - accuracy: 0.8942 - val_loss: 0.3096 - val_accuracy: 0.9130\n",
            "Epoch 3/10\n",
            "55000/55000 [==============================] - 3s 46us/sample - loss: 0.3074 - accuracy: 0.9110 - val_loss: 0.2677 - val_accuracy: 0.9246\n",
            "Epoch 4/10\n",
            "55000/55000 [==============================] - 3s 46us/sample - loss: 0.2720 - accuracy: 0.9214 - val_loss: 0.2390 - val_accuracy: 0.9352\n",
            "Epoch 5/10\n",
            "55000/55000 [==============================] - 2s 45us/sample - loss: 0.2459 - accuracy: 0.9291 - val_loss: 0.2210 - val_accuracy: 0.9380\n",
            "Epoch 6/10\n",
            "55000/55000 [==============================] - 2s 45us/sample - loss: 0.2267 - accuracy: 0.9349 - val_loss: 0.2080 - val_accuracy: 0.9400\n",
            "Epoch 7/10\n",
            "55000/55000 [==============================] - 3s 46us/sample - loss: 0.2119 - accuracy: 0.9395 - val_loss: 0.1963 - val_accuracy: 0.9454\n",
            "Epoch 8/10\n",
            "55000/55000 [==============================] - 3s 46us/sample - loss: 0.2004 - accuracy: 0.9427 - val_loss: 0.1911 - val_accuracy: 0.9446\n",
            "Epoch 9/10\n",
            "55000/55000 [==============================] - 2s 45us/sample - loss: 0.1905 - accuracy: 0.9451 - val_loss: 0.1798 - val_accuracy: 0.9490\n",
            "Epoch 10/10\n",
            "55000/55000 [==============================] - 3s 45us/sample - loss: 0.1824 - accuracy: 0.9472 - val_loss: 0.1803 - val_accuracy: 0.9520\n"
          ],
          "name": "stdout"
        }
      ]
    },
    {
      "cell_type": "markdown",
      "metadata": {
        "id": "-TsGbz58RwwE",
        "colab_type": "text"
      },
      "source": [
        "## Evaluating the Network\n",
        "Let's look at how well the model was trained."
      ]
    },
    {
      "cell_type": "code",
      "metadata": {
        "id": "GuuG9eAJ_hvs",
        "colab_type": "code",
        "outputId": "466fcf66-71a0-4695-a28a-aa569b246c96",
        "colab": {
          "base_uri": "https://localhost:8080/",
          "height": 392
        }
      },
      "source": [
        "import pandas as pd\n",
        "import matplotlib.pyplot as plt\n",
        "pd.DataFrame(history.history).plot(figsize=(8,5))\n",
        "plt.grid(True)\n",
        "plt.gca().set_ylim(0, 1)\n",
        "plt.show()\n",
        "\n",
        "model.evaluate(X_test, y_test)\n",
        "\n",
        "X_new = X_test[:3]\n",
        "y_proba = model.predict(X_new)\n",
        "print(y_proba.round(2))"
      ],
      "execution_count": 0,
      "outputs": [
        {
          "output_type": "display_data",
          "data": {
            "image/png": "[encoded data removed]",
            "text/plain": [
              "<Figure size 576x360 with 1 Axes>"
            ]
          },
          "metadata": {
            "tags": []
          }
        },
        {
          "output_type": "stream",
          "text": [
            "10000/10000 [==============================] - 0s 25us/sample - loss: 0.9954 - accuracy: 0.9371\n",
            "[[0. 0. 0. 0. 0. 0. 0. 1. 0. 0.]\n",
            " [0. 0. 1. 0. 0. 0. 0. 0. 0. 0.]\n",
            " [0. 1. 0. 0. 0. 0. 0. 0. 0. 0.]]\n"
          ],
          "name": "stdout"
        }
      ]
    },
    {
      "cell_type": "code",
      "metadata": {
        "id": "rn7oozEPiC9L",
        "colab_type": "code",
        "outputId": "d7a77640-6b74-4a2d-ca6d-b5afed4f3d81",
        "colab": {
          "base_uri": "https://localhost:8080/",
          "height": 485
        }
      },
      "source": [
        "y_pred = model.predict(X_test)\n",
        "\n",
        "# Plot a random sample of 10 test images, their predicted labels and ground truth\n",
        "figure = plt.figure(figsize=(20, 8))\n",
        "for i, index in enumerate(np.random.choice(X_test.shape[0], size=15, replace=False)):\n",
        "    ax = figure.add_subplot(3, 5, i + 1, xticks=[], yticks=[])\n",
        "    # Display each image\n",
        "    ax.imshow(np.squeeze(X_test[index]), cmap='gray_r')\n",
        "    predict_index = np.argmax(y_pred[index])\n",
        "    true_index = y_test[index]\n",
        "    # Set the title for each image\n",
        "    ax.set_title(\"{} ({})\".format(predict_index, true_index),\n",
        "                                  color=(\"green\" if predict_index == true_index else \"red\"))"
      ],
      "execution_count": 0,
      "outputs": [
        {
          "output_type": "display_data",
          "data": {
            "image/png": "[encoded data removed]",
            "text/plain": [
              "<Figure size 1440x576 with 15 Axes>"
            ]
          },
          "metadata": {
            "tags": []
          }
        }
      ]
    },
    {
      "cell_type": "markdown",
      "metadata": {
        "id": "oMo1uKBfxkry",
        "colab_type": "text"
      },
      "source": [
        "# Exercise: the Fashion MNIST Data Set\n",
        "\n",
        "Try implementing the same network, but on a different data set: fashion MNIST.\n",
        "\n",
        "Fashion MNIST is a more modern data set that uses ten different classes of clothing/accessories/shoes. With the demo above, you'll only need the following 2 lines of code. You don't have to run them right away; think about what you need to do and use code segments from the above demo."
      ]
    },
    {
      "cell_type": "code",
      "metadata": {
        "id": "1s4IaYM3TZl-",
        "colab_type": "code",
        "colab": {}
      },
      "source": [
        "# loading the fashion MNIST data\n",
        "fashion_mnist = keras.datasets.fashion_mnist\n",
        "\n",
        "# Name the classes because humans don't understand '0', '1', '2', etc.\n",
        "class_names = [\"T-shirt\", \"Trouser\", \"Pullover\", \"Dress\", \"Coat\", \"Sandal\", \"Shirt\", \"Sneaker\", \"Bag\", \"Ankle boot\"]"
      ],
      "execution_count": 0,
      "outputs": []
    },
    {
      "cell_type": "code",
      "metadata": {
        "id": "vm8jIGR6ZdCV",
        "colab_type": "code",
        "colab": {
          "base_uri": "https://localhost:8080/",
          "height": 187
        },
        "outputId": "10238432-10d8-4822-e61f-0550240eeee7"
      },
      "source": [
        "# load data\n",
        "(X_train_full, y_train_full), (X_test, y_test) = fashion_mnist.load_data()\n",
        "\n",
        "# Split into training and validation sets\n",
        "X_valid, X_train = X_train_full[:5000] / 255.0, X_train_full[5000:] / 255.0\n",
        "y_valid, y_train = y_train_full[:5000], y_train_full[5000:]\n",
        "\n",
        "print(\"Shape of the training set: {}\".format(X_train_full.shape))\n",
        "print(\"Datatype: {}\".format(X_train_full.dtype))"
      ],
      "execution_count": 7,
      "outputs": [
        {
          "output_type": "stream",
          "text": [
            "Downloading data from https://storage.googleapis.com/tensorflow/tf-keras-datasets/train-labels-idx1-ubyte.gz\n",
            "32768/29515 [=================================] - 0s 0us/step\n",
            "Downloading data from https://storage.googleapis.com/tensorflow/tf-keras-datasets/train-images-idx3-ubyte.gz\n",
            "26427392/26421880 [==============================] - 1s 0us/step\n",
            "Downloading data from https://storage.googleapis.com/tensorflow/tf-keras-datasets/t10k-labels-idx1-ubyte.gz\n",
            "8192/5148 [===============================================] - 0s 0us/step\n",
            "Downloading data from https://storage.googleapis.com/tensorflow/tf-keras-datasets/t10k-images-idx3-ubyte.gz\n",
            "4423680/4422102 [==============================] - 0s 0us/step\n",
            "Shape of the training set: (60000, 28, 28)\n",
            "Datatype: uint8\n"
          ],
          "name": "stdout"
        }
      ]
    },
    {
      "cell_type": "code",
      "metadata": {
        "id": "GUNRhO4bZgx8",
        "colab_type": "code",
        "colab": {
          "base_uri": "https://localhost:8080/",
          "height": 286
        },
        "outputId": "958d0aad-aeec-410c-e27a-ff59a004fcb2"
      },
      "source": [
        "plt.figure()\n",
        "index = np.random.randint(0,54999)\n",
        "plt.imshow(X_train[index], cmap=\"gray_r\")\n",
        "plt.show()\n",
        "\n",
        "print(\"The label for X_train[{}] is: {}\".format(index, y_train[index]))"
      ],
      "execution_count": 8,
      "outputs": [
        {
          "output_type": "display_data",
          "data": {
            "image/png": "[encoded data removed]",
            "text/plain": [
              "<Figure size 432x288 with 1 Axes>"
            ]
          },
          "metadata": {
            "tags": []
          }
        },
        {
          "output_type": "stream",
          "text": [
            "The label for X_train[31423] is: 2\n"
          ],
          "name": "stdout"
        }
      ]
    },
    {
      "cell_type": "code",
      "metadata": {
        "id": "y7tFe9JHZkXD",
        "colab_type": "code",
        "colab": {
          "base_uri": "https://localhost:8080/",
          "height": 377
        },
        "outputId": "6680fcf0-5116-43d7-9fdb-62ba02a6c4b6"
      },
      "source": [
        "model = keras.models.Sequential()\n",
        "## flatten is the same as reshape(-1, 1); -1 basically means \"figure it out for me\"\n",
        "model.add(keras.layers.Flatten(input_shape=[28, 28]))\n",
        "model.add(keras.layers.Dense(20, activation=\"relu\"))\n",
        "model.add(keras.layers.Dense(20, activation=\"relu\"))\n",
        "model.add(keras.layers.Dense(10, activation=\"softmax\"))\n",
        "\n",
        "## alternatively:\n",
        "# model = keras.models.Sequential([\n",
        "#     keras.layers.Flatten(input_shape=[28, 28]),\n",
        "#     keras.layers.Dense(20, activation=\"relu\"),\n",
        "#     keras.layers.Dense(20, activation=\"relu\"),\n",
        "#     keras.layers.Dense(10, activation=\"softmax\")\n",
        "# ])\n",
        "\n",
        "model.summary()"
      ],
      "execution_count": 9,
      "outputs": [
        {
          "output_type": "stream",
          "text": [
            "WARNING: Logging before flag parsing goes to stderr.\n",
            "W0709 01:45:46.615249 140199254407040 deprecation.py:506] From /usr/local/lib/python3.6/dist-packages/tensorflow/python/ops/init_ops.py:1251: calling VarianceScaling.__init__ (from tensorflow.python.ops.init_ops) with dtype is deprecated and will be removed in a future version.\n",
            "Instructions for updating:\n",
            "Call initializer instance with the dtype argument instead of passing it to the constructor\n"
          ],
          "name": "stderr"
        },
        {
          "output_type": "stream",
          "text": [
            "Model: \"sequential\"\n",
            "_________________________________________________________________\n",
            "Layer (type)                 Output Shape              Param #   \n",
            "=================================================================\n",
            "flatten (Flatten)            (None, 784)               0         \n",
            "_________________________________________________________________\n",
            "dense (Dense)                (None, 20)                15700     \n",
            "_________________________________________________________________\n",
            "dense_1 (Dense)              (None, 20)                420       \n",
            "_________________________________________________________________\n",
            "dense_2 (Dense)              (None, 10)                210       \n",
            "=================================================================\n",
            "Total params: 16,330\n",
            "Trainable params: 16,330\n",
            "Non-trainable params: 0\n",
            "_________________________________________________________________\n"
          ],
          "name": "stdout"
        }
      ]
    },
    {
      "cell_type": "code",
      "metadata": {
        "id": "SyvMq0JwZoWb",
        "colab_type": "code",
        "colab": {
          "base_uri": "https://localhost:8080/",
          "height": 360
        },
        "outputId": "431e1cad-69d8-45b5-f8f5-20e8fdc3a01b"
      },
      "source": [
        "print(model.layers)\n",
        "print(model.layers[2].name)\n",
        "print(model.get_layer('dense_2').name)\n",
        "\n",
        "weights, biases = model.layers[1].get_weights()\n",
        "print(weights.shape)\n",
        "print(weights)\n",
        "print(biases.shape)\n",
        "print(biases)"
      ],
      "execution_count": 10,
      "outputs": [
        {
          "output_type": "stream",
          "text": [
            "[<tensorflow.python.keras.layers.core.Flatten object at 0x7f8260aa3ba8>, <tensorflow.python.keras.layers.core.Dense object at 0x7f8263793978>, <tensorflow.python.keras.layers.core.Dense object at 0x7f8260a86978>, <tensorflow.python.keras.layers.core.Dense object at 0x7f8260f0e898>]\n",
            "dense_1\n",
            "dense_2\n",
            "(784, 20)\n",
            "[[-0.02028704  0.04131241 -0.03215254 ... -0.08216835  0.0742725\n",
            "  -0.06059901]\n",
            " [ 0.08329959 -0.00308327 -0.07402211 ...  0.02252983  0.0257218\n",
            "   0.06687023]\n",
            " [-0.00064425  0.07665057  0.00592452 ...  0.06780776 -0.08074395\n",
            "   0.03260894]\n",
            " ...\n",
            " [-0.08585742 -0.04474957 -0.07688387 ...  0.07583502  0.07946925\n",
            "   0.03427995]\n",
            " [ 0.05495976  0.02635487  0.05558315 ...  0.04304039  0.05906461\n",
            "   0.02883179]\n",
            " [-0.00765519 -0.0356035   0.06673633 ... -0.07848664  0.03585052\n",
            "   0.00926377]]\n",
            "(20,)\n",
            "[0. 0. 0. 0. 0. 0. 0. 0. 0. 0. 0. 0. 0. 0. 0. 0. 0. 0. 0. 0.]\n"
          ],
          "name": "stdout"
        }
      ]
    },
    {
      "cell_type": "code",
      "metadata": {
        "id": "WKErAWhLZtsE",
        "colab_type": "code",
        "colab": {
          "base_uri": "https://localhost:8080/",
          "height": 714
        },
        "outputId": "56d17367-0b39-41a9-c8f0-340ff34ed156"
      },
      "source": [
        "model.compile(loss=\"sparse_categorical_crossentropy\",\n",
        "    optimizer=\"sgd\",\n",
        "    metrics=[\"accuracy\"])\n",
        "\n",
        "history = model.fit(X_train, y_train, epochs=20, validation_data=(X_valid, y_valid))"
      ],
      "execution_count": 11,
      "outputs": [
        {
          "output_type": "stream",
          "text": [
            "Train on 55000 samples, validate on 5000 samples\n",
            "Epoch 1/20\n",
            "55000/55000 [==============================] - 4s 75us/sample - loss: 0.8687 - acc: 0.7015 - val_loss: 0.5642 - val_acc: 0.8092\n",
            "Epoch 2/20\n",
            "55000/55000 [==============================] - 3s 62us/sample - loss: 0.5466 - acc: 0.8077 - val_loss: 0.4989 - val_acc: 0.8264\n",
            "Epoch 3/20\n",
            "55000/55000 [==============================] - 3s 63us/sample - loss: 0.4943 - acc: 0.8265 - val_loss: 0.4559 - val_acc: 0.8442\n",
            "Epoch 4/20\n",
            "55000/55000 [==============================] - 3s 62us/sample - loss: 0.4645 - acc: 0.8358 - val_loss: 0.4461 - val_acc: 0.8484\n",
            "Epoch 5/20\n",
            "55000/55000 [==============================] - 3s 62us/sample - loss: 0.4438 - acc: 0.8438 - val_loss: 0.4147 - val_acc: 0.8596\n",
            "Epoch 6/20\n",
            "55000/55000 [==============================] - 3s 62us/sample - loss: 0.4271 - acc: 0.8490 - val_loss: 0.4194 - val_acc: 0.8586\n",
            "Epoch 7/20\n",
            "55000/55000 [==============================] - 3s 62us/sample - loss: 0.4159 - acc: 0.8526 - val_loss: 0.4094 - val_acc: 0.8606\n",
            "Epoch 8/20\n",
            "55000/55000 [==============================] - 3s 62us/sample - loss: 0.4058 - acc: 0.8577 - val_loss: 0.3895 - val_acc: 0.8692\n",
            "Epoch 9/20\n",
            "55000/55000 [==============================] - 3s 63us/sample - loss: 0.3970 - acc: 0.8594 - val_loss: 0.3875 - val_acc: 0.8716\n",
            "Epoch 10/20\n",
            "55000/55000 [==============================] - 3s 62us/sample - loss: 0.3895 - acc: 0.8616 - val_loss: 0.3891 - val_acc: 0.8692\n",
            "Epoch 11/20\n",
            "55000/55000 [==============================] - 3s 62us/sample - loss: 0.3829 - acc: 0.8646 - val_loss: 0.3898 - val_acc: 0.8662\n",
            "Epoch 12/20\n",
            "55000/55000 [==============================] - 3s 62us/sample - loss: 0.3761 - acc: 0.8671 - val_loss: 0.4073 - val_acc: 0.8568\n",
            "Epoch 13/20\n",
            "55000/55000 [==============================] - 3s 61us/sample - loss: 0.3713 - acc: 0.8686 - val_loss: 0.4055 - val_acc: 0.8584\n",
            "Epoch 14/20\n",
            "55000/55000 [==============================] - 3s 61us/sample - loss: 0.3648 - acc: 0.8715 - val_loss: 0.3797 - val_acc: 0.8704\n",
            "Epoch 15/20\n",
            "55000/55000 [==============================] - 3s 62us/sample - loss: 0.3609 - acc: 0.8717 - val_loss: 0.3929 - val_acc: 0.8638\n",
            "Epoch 16/20\n",
            "55000/55000 [==============================] - 3s 62us/sample - loss: 0.3562 - acc: 0.8736 - val_loss: 0.3701 - val_acc: 0.8724\n",
            "Epoch 17/20\n",
            "55000/55000 [==============================] - 3s 61us/sample - loss: 0.3534 - acc: 0.8747 - val_loss: 0.3743 - val_acc: 0.8708\n",
            "Epoch 18/20\n",
            "55000/55000 [==============================] - 3s 62us/sample - loss: 0.3503 - acc: 0.8749 - val_loss: 0.3656 - val_acc: 0.8734\n",
            "Epoch 19/20\n",
            "55000/55000 [==============================] - 3s 62us/sample - loss: 0.3461 - acc: 0.8774 - val_loss: 0.3643 - val_acc: 0.8740\n",
            "Epoch 20/20\n",
            "55000/55000 [==============================] - 3s 63us/sample - loss: 0.3429 - acc: 0.8771 - val_loss: 0.3970 - val_acc: 0.8632\n"
          ],
          "name": "stdout"
        }
      ]
    },
    {
      "cell_type": "code",
      "metadata": {
        "id": "u54-3sOGZwIr",
        "colab_type": "code",
        "colab": {
          "base_uri": "https://localhost:8080/",
          "height": 392
        },
        "outputId": "49618c88-c27a-4472-f86d-932fd7ec1f22"
      },
      "source": [
        "import pandas as pd\n",
        "import matplotlib.pyplot as plt\n",
        "pd.DataFrame(history.history).plot(figsize=(8,5))\n",
        "plt.grid(True)\n",
        "plt.gca().set_ylim(0, 1)\n",
        "plt.show()\n",
        "\n",
        "model.evaluate(X_test, y_test)\n",
        "\n",
        "X_new = X_test[:3]\n",
        "y_proba = model.predict(X_new)\n",
        "print(y_proba.round(2))"
      ],
      "execution_count": 12,
      "outputs": [
        {
          "output_type": "display_data",
          "data": {
            "image/png": "[encoded data removed]",
            "text/plain": [
              "<Figure size 576x360 with 1 Axes>"
            ]
          },
          "metadata": {
            "tags": []
          }
        },
        {
          "output_type": "stream",
          "text": [
            "10000/10000 [==============================] - 0s 40us/sample - loss: 102.4397 - acc: 0.7832\n",
            "[[0. 0. 0. 0. 0. 0. 0. 0. 0. 1.]\n",
            " [0. 0. 1. 0. 0. 0. 0. 0. 0. 0.]\n",
            " [0. 1. 0. 0. 0. 0. 0. 0. 0. 0.]]\n"
          ],
          "name": "stdout"
        }
      ]
    },
    {
      "cell_type": "code",
      "metadata": {
        "id": "paGzCWOLZxxL",
        "colab_type": "code",
        "colab": {
          "base_uri": "https://localhost:8080/",
          "height": 485
        },
        "outputId": "d4521e52-c898-46b1-89db-60878c95c2aa"
      },
      "source": [
        "y_pred = model.predict(X_test)\n",
        "\n",
        "# Plot a random sample of 10 test images, their predicted labels and ground truth\n",
        "figure = plt.figure(figsize=(20, 8))\n",
        "for i, index in enumerate(np.random.choice(X_test.shape[0], size=15, replace=False)):\n",
        "    ax = figure.add_subplot(3, 5, i + 1, xticks=[], yticks=[])\n",
        "    # Display each image\n",
        "    ax.imshow(np.squeeze(X_test[index]), cmap='gray_r')\n",
        "    predict_index = np.argmax(y_pred[index])\n",
        "    true_index = y_test[index]\n",
        "    # Set the title for each image\n",
        "    ax.set_title(\"{} ({})\".format(class_names[predict_index], class_names[true_index]),\n",
        "                                  color=(\"green\" if predict_index == true_index else \"red\"))"
      ],
      "execution_count": 13,
      "outputs": [
        {
          "output_type": "display_data",
          "data": {
            "image/png": "[encoded data removed]",
            "text/plain": [
              "<Figure size 1440x576 with 15 Axes>"
            ]
          },
          "metadata": {
            "tags": []
          }
        }
      ]
    }
  ]
}