{
  "nbformat": 4,
  "nbformat_minor": 0,
  "metadata": {
    "colab": {
      "name": "NTPU_08_RNN_Part1.ipynb",
      "version": "0.3.2",
      "provenance": [],
      "collapsed_sections": [],
      "include_colab_link": true
    },
    "language_info": {
      "codemirror_mode": {
        "name": "ipython",
        "version": 3
      },
      "file_extension": ".py",
      "mimetype": "text/x-python",
      "name": "python",
      "nbconvert_exporter": "python",
      "pygments_lexer": "ipython3",
      "version": "3.6.8"
    },
    "kernelspec": {
      "name": "python3",
      "display_name": "Python 3"
    },
    "accelerator": "GPU"
  },
  "cells": [
    {
      "cell_type": "markdown",
      "metadata": {
        "id": "view-in-github",
        "colab_type": "text"
      },
      "source": [
        "<a href=\"https://colab.research.google.com/github/shoulderhu/colab-tensorflow-ipy/blob/master/NTPU_08_RNN_Part1.ipynb\" target=\"_parent\"><img src=\"https://colab.research.google.com/assets/colab-badge.svg\" alt=\"Open In Colab\"/></a>"
      ]
    },
    {
      "cell_type": "markdown",
      "metadata": {
        "id": "2ThvFS9FM_P2",
        "colab_type": "text"
      },
      "source": [
        "# **Recurrent Neural Networks, part 1**"
      ]
    },
    {
      "cell_type": "markdown",
      "metadata": {
        "id": "XdmWESvsM_P_",
        "colab_type": "text"
      },
      "source": [
        "## Install Tensorflow 2.0 beta"
      ]
    },
    {
      "cell_type": "code",
      "metadata": {
        "id": "zrhYreDgqs86",
        "colab_type": "code",
        "colab": {
          "base_uri": "https://localhost:8080/",
          "height": 0
        },
        "outputId": "16a70aac-0b7c-4069-d6fa-a5966dafe6d1"
      },
      "source": [
        "!pip uninstall -y tensorflow"
      ],
      "execution_count": 2,
      "outputs": [
        {
          "output_type": "stream",
          "text": [
            "\u001b[31mERROR: Operation cancelled by user\u001b[0m\n"
          ],
          "name": "stdout"
        }
      ]
    },
    {
      "cell_type": "code",
      "metadata": {
        "id": "lj9G92c6NOEO",
        "colab_type": "code",
        "outputId": "98a24be7-5313-4abb-f109-31f65326f7de",
        "colab": {
          "base_uri": "https://localhost:8080/",
          "height": 523
        }
      },
      "source": [
        "!pip install tensorflow-gpu==2.0.0-beta1"
      ],
      "execution_count": 0,
      "outputs": [
        {
          "output_type": "stream",
          "text": [
            "Collecting tensorflow-gpu==2.0.0-beta1\n",
            "\u001b[?25l  Downloading https://files.pythonhosted.org/packages/2b/53/e18c5e7a2263d3581a979645a185804782e59b8e13f42b9c3c3cfb5bb503/tensorflow_gpu-2.0.0b1-cp36-cp36m-manylinux1_x86_64.whl (348.9MB)\n",
            "\u001b[K     |████████████████████████████████| 348.9MB 50kB/s \n",
            "\u001b[?25hRequirement already satisfied: astor>=0.6.0 in /usr/local/lib/python3.6/dist-packages (from tensorflow-gpu==2.0.0-beta1) (0.8.0)\n",
            "Requirement already satisfied: absl-py>=0.7.0 in /usr/local/lib/python3.6/dist-packages (from tensorflow-gpu==2.0.0-beta1) (0.7.1)\n",
            "Requirement already satisfied: google-pasta>=0.1.6 in /usr/local/lib/python3.6/dist-packages (from tensorflow-gpu==2.0.0-beta1) (0.1.7)\n",
            "Collecting tb-nightly<1.14.0a20190604,>=1.14.0a20190603 (from tensorflow-gpu==2.0.0-beta1)\n",
            "\u001b[?25l  Downloading https://files.pythonhosted.org/packages/a4/96/571b875cd81dda9d5dfa1422a4f9d749e67c0a8d4f4f0b33a4e5f5f35e27/tb_nightly-1.14.0a20190603-py3-none-any.whl (3.1MB)\n",
            "\u001b[K     |████████████████████████████████| 3.1MB 36.8MB/s \n",
            "\u001b[?25hRequirement already satisfied: termcolor>=1.1.0 in /usr/local/lib/python3.6/dist-packages (from tensorflow-gpu==2.0.0-beta1) (1.1.0)\n",
            "Requirement already satisfied: gast>=0.2.0 in /usr/local/lib/python3.6/dist-packages (from tensorflow-gpu==2.0.0-beta1) (0.2.2)\n",
            "Requirement already satisfied: wrapt>=1.11.1 in /usr/local/lib/python3.6/dist-packages (from tensorflow-gpu==2.0.0-beta1) (1.11.2)\n",
            "Requirement already satisfied: grpcio>=1.8.6 in /usr/local/lib/python3.6/dist-packages (from tensorflow-gpu==2.0.0-beta1) (1.15.0)\n",
            "Requirement already satisfied: six>=1.10.0 in /usr/local/lib/python3.6/dist-packages (from tensorflow-gpu==2.0.0-beta1) (1.12.0)\n",
            "Requirement already satisfied: wheel>=0.26 in /usr/local/lib/python3.6/dist-packages (from tensorflow-gpu==2.0.0-beta1) (0.33.4)\n",
            "Requirement already satisfied: keras-applications>=1.0.6 in /usr/local/lib/python3.6/dist-packages (from tensorflow-gpu==2.0.0-beta1) (1.0.8)\n",
            "Requirement already satisfied: protobuf>=3.6.1 in /usr/local/lib/python3.6/dist-packages (from tensorflow-gpu==2.0.0-beta1) (3.7.1)\n",
            "Collecting tf-estimator-nightly<1.14.0.dev2019060502,>=1.14.0.dev2019060501 (from tensorflow-gpu==2.0.0-beta1)\n",
            "\u001b[?25l  Downloading https://files.pythonhosted.org/packages/32/dd/99c47dd007dcf10d63fd895611b063732646f23059c618a373e85019eb0e/tf_estimator_nightly-1.14.0.dev2019060501-py2.py3-none-any.whl (496kB)\n",
            "\u001b[K     |████████████████████████████████| 501kB 58.2MB/s \n",
            "\u001b[?25hRequirement already satisfied: keras-preprocessing>=1.0.5 in /usr/local/lib/python3.6/dist-packages (from tensorflow-gpu==2.0.0-beta1) (1.1.0)\n",
            "Requirement already satisfied: numpy<2.0,>=1.14.5 in /usr/local/lib/python3.6/dist-packages (from tensorflow-gpu==2.0.0-beta1) (1.16.4)\n",
            "Requirement already satisfied: werkzeug>=0.11.15 in /usr/local/lib/python3.6/dist-packages (from tb-nightly<1.14.0a20190604,>=1.14.0a20190603->tensorflow-gpu==2.0.0-beta1) (0.15.4)\n",
            "Requirement already satisfied: setuptools>=41.0.0 in /usr/local/lib/python3.6/dist-packages (from tb-nightly<1.14.0a20190604,>=1.14.0a20190603->tensorflow-gpu==2.0.0-beta1) (41.0.1)\n",
            "Requirement already satisfied: markdown>=2.6.8 in /usr/local/lib/python3.6/dist-packages (from tb-nightly<1.14.0a20190604,>=1.14.0a20190603->tensorflow-gpu==2.0.0-beta1) (3.1.1)\n",
            "Requirement already satisfied: h5py in /usr/local/lib/python3.6/dist-packages (from keras-applications>=1.0.6->tensorflow-gpu==2.0.0-beta1) (2.8.0)\n",
            "Installing collected packages: tb-nightly, tf-estimator-nightly, tensorflow-gpu\n",
            "Successfully installed tb-nightly-1.14.0a20190603 tensorflow-gpu-2.0.0b1 tf-estimator-nightly-1.14.0.dev2019060501\n"
          ],
          "name": "stdout"
        }
      ]
    },
    {
      "cell_type": "markdown",
      "metadata": {
        "id": "QHyRe9RQM_QB",
        "colab_type": "text"
      },
      "source": [
        "## Import Modules, Define Useful Functions"
      ]
    },
    {
      "cell_type": "code",
      "metadata": {
        "id": "gIGA7PD6M_QE",
        "colab_type": "code",
        "colab": {}
      },
      "source": [
        "# Python ≥3.5 is required\n",
        "import sys\n",
        "assert sys.version_info >= (3, 5)\n",
        "\n",
        "# Scikit-Learn ≥0.20 is required\n",
        "import sklearn\n",
        "assert sklearn.__version__ >= \"0.20\"\n",
        "\n",
        "# TensorFlow ≥2.0-preview is required\n",
        "import tensorflow as tf\n",
        "from tensorflow import keras\n",
        "assert tf.__version__ >= \"2.0\"\n",
        "\n",
        "# Common imports\n",
        "import numpy as np\n",
        "import os\n",
        "\n",
        "# to make this notebook's output stable across runs\n",
        "np.random.seed(42)\n",
        "tf.random.set_seed(42)\n",
        "\n",
        "# To plot pretty figures\n",
        "%matplotlib inline\n",
        "import matplotlib as mpl\n",
        "import matplotlib.pyplot as plt\n",
        "# Custom rc (rc is the configuration for matplotlib, like bashrc)\n",
        "mpl.rc('axes', labelsize=14)      # set the axes label size\n",
        "mpl.rc('xtick', labelsize=12)     # set the label size of xtick\n",
        "mpl.rc('ytick', labelsize=12)     # set the label size of ytick\n",
        "\n",
        "# Where to save the figures\n",
        "PROJECT_ROOT_DIR = \".\"\n",
        "CHAPTER_ID = \"rnn\"\n",
        "IMAGES_PATH = os.path.join(PROJECT_ROOT_DIR, \"images\", CHAPTER_ID)\n",
        "os.makedirs(IMAGES_PATH, exist_ok=True)\n",
        "\n",
        "def save_fig(fig_id, tight_layout=True, fig_extension=\"png\", resolution=300):\n",
        "    path = os.path.join(IMAGES_PATH, fig_id + \".\" + fig_extension)\n",
        "    print(\"Saving figure\", fig_id)\n",
        "    if tight_layout:\n",
        "        plt.tight_layout()\n",
        "    plt.savefig(path, format=fig_extension, dpi=resolution)"
      ],
      "execution_count": 0,
      "outputs": []
    },
    {
      "cell_type": "markdown",
      "metadata": {
        "id": "eYxStjVMM_QM",
        "colab_type": "text"
      },
      "source": [
        "## Basic RNNs"
      ]
    },
    {
      "cell_type": "markdown",
      "metadata": {
        "id": "YmnxboRDM_QO",
        "colab_type": "text"
      },
      "source": [
        "### Generate the Dataset\n",
        "\n",
        "Each signal consists of three parts summed together:\n",
        "\n",
        "\n",
        "*   Sine wave 1 with some random frequency and offset\n",
        "*   Sine wave 2 with some other random frequency and offset\n",
        "*   Some random noise\n",
        "\n"
      ]
    },
    {
      "cell_type": "code",
      "metadata": {
        "id": "p7_DqPtBM_QP",
        "colab_type": "code",
        "colab": {}
      },
      "source": [
        "# numpy.sin: https://docs.scipy.org/doc/numpy/reference/generated/numpy.sin.html\n",
        "\n",
        "def generate_time_series(batch_size, n_steps):\n",
        "    freq1, freq2, offsets1, offsets2 = np.random.rand(4, batch_size, 1)\n",
        "    time = np.linspace(0, 1, n_steps)                             # Return evenly spaced numbers over a specified interval\n",
        "    series = 0.5 * np.sin((time - offsets1) * (freq1 * 10 + 10))  #   wave 1\n",
        "    series += 0.2 * np.sin((time - offsets2) * (freq2 * 20 + 20)) # + wave 2\n",
        "    series += 0.1 * (np.random.rand(batch_size, n_steps) - 0.5)   # + noise\n",
        "    return series[..., np.newaxis].astype(np.float32)"
      ],
      "execution_count": 0,
      "outputs": []
    },
    {
      "cell_type": "markdown",
      "metadata": {
        "id": "1J0XDtH5yFDb",
        "colab_type": "text"
      },
      "source": [
        "From the generated batch of data (10000 samples), create a training set, a validation set and a test set. We take the first 7000 as the training set, 2000 as validation, and the remaining 1000 is used as the test set."
      ]
    },
    {
      "cell_type": "code",
      "metadata": {
        "id": "bk6nu1N3M_QW",
        "colab_type": "code",
        "colab": {}
      },
      "source": [
        "np.random.seed(42)\n",
        "\n",
        "n_steps = 50\n",
        "series = generate_time_series(10000, n_steps + 1)\n",
        "X_train, y_train = series[:7000, :n_steps], series[:7000, -1]\n",
        "X_valid, y_valid = series[7000:9000, :n_steps], series[7000:9000, -1]\n",
        "X_test, y_test = series[9000:, :n_steps], series[9000:, -1]"
      ],
      "execution_count": 0,
      "outputs": []
    },
    {
      "cell_type": "markdown",
      "metadata": {
        "id": "npYvjKAbVA1R",
        "colab_type": "text"
      },
      "source": [
        "Let's look at the shape of the signals. The dimensions are:\n",
        "\n",
        "```[batch_size, n_steps, dimensionality]```\n",
        "\n",
        "*   ```batch_size``` refers to the number of samples\n",
        "*   ```n_steps``` is the number of time steps\n",
        "*   ```dimensionality``` is the output shape. (1 for univariate, or more for multivariate series)\n",
        "\n"
      ]
    },
    {
      "cell_type": "code",
      "metadata": {
        "id": "x-hjEZepM_Qc",
        "colab_type": "code",
        "outputId": "a99dee80-3732-489b-f97c-5bd7f9a854de",
        "colab": {
          "base_uri": "https://localhost:8080/",
          "height": 35
        }
      },
      "source": [
        "X_train.shape, y_train.shape"
      ],
      "execution_count": 0,
      "outputs": [
        {
          "output_type": "execute_result",
          "data": {
            "text/plain": [
              "((7000, 50, 1), (7000, 1))"
            ]
          },
          "metadata": {
            "tags": []
          },
          "execution_count": 5
        }
      ]
    },
    {
      "cell_type": "markdown",
      "metadata": {
        "id": "X1fkkHYeyKFw",
        "colab_type": "text"
      },
      "source": [
        "Define a plotting function:"
      ]
    },
    {
      "cell_type": "code",
      "metadata": {
        "id": "sQMCSP1-M_Ql",
        "colab_type": "code",
        "colab": {}
      },
      "source": [
        "def plot_series(series, y=None, y_pred=None, x_label=\"$t$\", y_label=\"$x(t)$\"):\n",
        "    plt.plot(series, \".-\")\n",
        "    if y is not None:\n",
        "        plt.plot(n_steps, y, \"bx\", markersize=10)\n",
        "    if y_pred is not None:\n",
        "        plt.plot(n_steps, y_pred, \"ro\")\n",
        "    plt.grid(True)\n",
        "    if x_label:\n",
        "        plt.xlabel(x_label, fontsize=16)\n",
        "    if y_label:\n",
        "        plt.ylabel(y_label, fontsize=16, rotation=0)\n",
        "    plt.hlines(0, 0, 100, linewidth=1)\n",
        "    plt.axis([0, n_steps + 1, -1, 1])"
      ],
      "execution_count": 0,
      "outputs": []
    },
    {
      "cell_type": "markdown",
      "metadata": {
        "id": "wv7nXi2PyNic",
        "colab_type": "text"
      },
      "source": [
        "Plot the first 3 series in the validation set - the \"X\"s in the figures are the targets."
      ]
    },
    {
      "cell_type": "code",
      "metadata": {
        "id": "alfuu0Pzw7y5",
        "colab_type": "code",
        "outputId": "c9a3e789-0821-4aea-9b1e-421ef85c3759",
        "colab": {
          "base_uri": "https://localhost:8080/",
          "height": 243
        }
      },
      "source": [
        "fig, axes = plt.subplots(nrows=1, ncols=3, sharey=True, figsize=(12, 3))\n",
        "for col in range(3):\n",
        "    plt.sca(axes[col])\n",
        "    plot_series(X_valid[col, :, 0], y_valid[col, 0],\n",
        "                y_label=(\"$x(t)$\" if col==0 else None))\n",
        "save_fig(\"time_series_plot\")\n",
        "plt.show()"
      ],
      "execution_count": 0,
      "outputs": [
        {
          "output_type": "stream",
          "text": [
            "Saving figure time_series_plot\n"
          ],
          "name": "stdout"
        },
        {
          "output_type": "display_data",
          "data": {
            "image/png": "[encoded data removed]",
            "text/plain": [
              "<Figure size 864x216 with 3 Axes>"
            ]
          },
          "metadata": {
            "tags": []
          }
        }
      ]
    },
    {
      "cell_type": "markdown",
      "metadata": {
        "id": "ZLZOucD-M_Qu",
        "colab_type": "text"
      },
      "source": [
        "### Computing Some Baselines"
      ]
    },
    {
      "cell_type": "markdown",
      "metadata": {
        "id": "o7fuDt4lM_Qw",
        "colab_type": "text"
      },
      "source": [
        "Naive predictions (just take the last observed value as the prediction):"
      ]
    },
    {
      "cell_type": "code",
      "metadata": {
        "id": "8iMBerUHM_Qy",
        "colab_type": "code",
        "outputId": "306ccc75-a655-4551-b37c-f63a03d55ab6",
        "colab": {
          "base_uri": "https://localhost:8080/",
          "height": 35
        }
      },
      "source": [
        "y_pred = X_valid[:, -1]\n",
        "np.mean(keras.losses.mean_squared_error(y_valid, y_pred))"
      ],
      "execution_count": 0,
      "outputs": [
        {
          "output_type": "execute_result",
          "data": {
            "text/plain": [
              "0.020211367"
            ]
          },
          "metadata": {
            "tags": []
          },
          "execution_count": 8
        }
      ]
    },
    {
      "cell_type": "code",
      "metadata": {
        "id": "QtDLwx2pM_Q5",
        "colab_type": "code",
        "outputId": "8ebb3ba7-9618-4cf9-d638-e2ce1feefa03",
        "colab": {
          "base_uri": "https://localhost:8080/",
          "height": 293
        }
      },
      "source": [
        "plot_series(X_valid[0, :, 0], y_valid[0, 0], y_pred[0, 0])\n",
        "plt.show()"
      ],
      "execution_count": 0,
      "outputs": [
        {
          "output_type": "display_data",
          "data": {
            "image/png": "[encoded data removed]",
            "text/plain": [
              "<Figure size 432x288 with 1 Axes>"
            ]
          },
          "metadata": {
            "tags": []
          }
        }
      ]
    },
    {
      "cell_type": "markdown",
      "metadata": {
        "id": "W6w3vtMzM_RA",
        "colab_type": "text"
      },
      "source": [
        "*Linear* predictions, training time: less than 1 min (note how no activation is specified):\n",
        "\n",
        "![alt text](https://i.imgur.com/mfQMJAW.png)"
      ]
    },
    {
      "cell_type": "code",
      "metadata": {
        "id": "pSoe-t-wM_RC",
        "colab_type": "code",
        "outputId": "e0f671ba-706f-4f87-b459-b9eeb02d06e9",
        "colab": {
          "base_uri": "https://localhost:8080/",
          "height": 728
        }
      },
      "source": [
        "np.random.seed(42)\n",
        "tf.random.set_seed(42)\n",
        "\n",
        "model = keras.models.Sequential([\n",
        "    keras.layers.Flatten(input_shape=[50, 1]),\n",
        "    keras.layers.Dense(1)     # no activation function\n",
        "])\n",
        "\n",
        "model.compile(loss=\"mse\", optimizer=\"adam\")\n",
        "history = model.fit(X_train, y_train, epochs=20, validation_data=(X_valid, y_valid))"
      ],
      "execution_count": 0,
      "outputs": [
        {
          "output_type": "stream",
          "text": [
            "Train on 7000 samples, validate on 2000 samples\n",
            "Epoch 1/20\n",
            "7000/7000 [==============================] - 1s 167us/sample - loss: 0.1015 - val_loss: 0.0551\n",
            "Epoch 2/20\n",
            "7000/7000 [==============================] - 0s 57us/sample - loss: 0.0384 - val_loss: 0.0267\n",
            "Epoch 3/20\n",
            "7000/7000 [==============================] - 0s 58us/sample - loss: 0.0205 - val_loss: 0.0161\n",
            "Epoch 4/20\n",
            "7000/7000 [==============================] - 0s 58us/sample - loss: 0.0133 - val_loss: 0.0119\n",
            "Epoch 5/20\n",
            "7000/7000 [==============================] - 0s 58us/sample - loss: 0.0104 - val_loss: 0.0099\n",
            "Epoch 6/20\n",
            "7000/7000 [==============================] - 0s 58us/sample - loss: 0.0090 - val_loss: 0.0088\n",
            "Epoch 7/20\n",
            "7000/7000 [==============================] - 0s 56us/sample - loss: 0.0081 - val_loss: 0.0079\n",
            "Epoch 8/20\n",
            "7000/7000 [==============================] - 0s 57us/sample - loss: 0.0073 - val_loss: 0.0074\n",
            "Epoch 9/20\n",
            "7000/7000 [==============================] - 0s 58us/sample - loss: 0.0067 - val_loss: 0.0066\n",
            "Epoch 10/20\n",
            "7000/7000 [==============================] - 0s 59us/sample - loss: 0.0062 - val_loss: 0.0062\n",
            "Epoch 11/20\n",
            "7000/7000 [==============================] - 0s 56us/sample - loss: 0.0058 - val_loss: 0.0058\n",
            "Epoch 12/20\n",
            "7000/7000 [==============================] - 0s 56us/sample - loss: 0.0055 - val_loss: 0.0054\n",
            "Epoch 13/20\n",
            "7000/7000 [==============================] - 0s 57us/sample - loss: 0.0052 - val_loss: 0.0052\n",
            "Epoch 14/20\n",
            "7000/7000 [==============================] - 0s 56us/sample - loss: 0.0050 - val_loss: 0.0050\n",
            "Epoch 15/20\n",
            "7000/7000 [==============================] - 0s 56us/sample - loss: 0.0048 - val_loss: 0.0048\n",
            "Epoch 16/20\n",
            "7000/7000 [==============================] - 0s 58us/sample - loss: 0.0047 - val_loss: 0.0046\n",
            "Epoch 17/20\n",
            "7000/7000 [==============================] - 0s 57us/sample - loss: 0.0045 - val_loss: 0.0047\n",
            "Epoch 18/20\n",
            "7000/7000 [==============================] - 0s 57us/sample - loss: 0.0044 - val_loss: 0.0044\n",
            "Epoch 19/20\n",
            "7000/7000 [==============================] - 0s 57us/sample - loss: 0.0043 - val_loss: 0.0042\n",
            "Epoch 20/20\n",
            "7000/7000 [==============================] - 0s 57us/sample - loss: 0.0042 - val_loss: 0.0042\n"
          ],
          "name": "stdout"
        }
      ]
    },
    {
      "cell_type": "code",
      "metadata": {
        "id": "5x1htRs5M_RH",
        "colab_type": "code",
        "outputId": "781e2937-7973-47ce-fceb-b56b074e6278",
        "colab": {
          "base_uri": "https://localhost:8080/",
          "height": 52
        }
      },
      "source": [
        "model.evaluate(X_valid, y_valid)"
      ],
      "execution_count": 0,
      "outputs": [
        {
          "output_type": "stream",
          "text": [
            "2000/2000 [==============================] - 0s 40us/sample - loss: 0.0042\n"
          ],
          "name": "stdout"
        },
        {
          "output_type": "execute_result",
          "data": {
            "text/plain": [
              "0.004174047749489546"
            ]
          },
          "metadata": {
            "tags": []
          },
          "execution_count": 11
        }
      ]
    },
    {
      "cell_type": "code",
      "metadata": {
        "id": "yjDEl3CRM_RS",
        "colab_type": "code",
        "outputId": "a238caf5-868b-450d-d468-67beae0eb877",
        "colab": {
          "base_uri": "https://localhost:8080/",
          "height": 291
        }
      },
      "source": [
        "def plot_learning_curves(loss, val_loss):\n",
        "    plt.plot(np.arange(len(loss)) + 0.5, loss, \"b.-\", label=\"Training loss\")\n",
        "    plt.plot(np.arange(len(val_loss)) + 1, val_loss, \"r.-\", label=\"Validation loss\")\n",
        "    plt.gca().xaxis.set_major_locator(mpl.ticker.MaxNLocator(integer=True))\n",
        "    plt.axis([1, 20, 0, 0.05])\n",
        "    plt.legend(fontsize=14)\n",
        "    plt.xlabel(\"Epochs\")\n",
        "    plt.ylabel(\"Loss\")\n",
        "    plt.grid(True)\n",
        "\n",
        "plot_learning_curves(history.history[\"loss\"], history.history[\"val_loss\"])\n",
        "plt.show()"
      ],
      "execution_count": 0,
      "outputs": [
        {
          "output_type": "display_data",
          "data": {
            "image/png": "[encoded data removed]",
            "text/plain": [
              "<Figure size 432x288 with 1 Axes>"
            ]
          },
          "metadata": {
            "tags": []
          }
        }
      ]
    },
    {
      "cell_type": "code",
      "metadata": {
        "id": "gluiKyuNM_RZ",
        "colab_type": "code",
        "outputId": "03caded7-4f26-4e9a-f01a-fd4d8eea108f",
        "colab": {
          "base_uri": "https://localhost:8080/",
          "height": 293
        }
      },
      "source": [
        "y_pred = model.predict(X_valid)\n",
        "plot_series(X_valid[0, :, 0], y_valid[0, 0], y_pred[0, 0])\n",
        "plt.show()"
      ],
      "execution_count": 0,
      "outputs": [
        {
          "output_type": "display_data",
          "data": {
            "image/png": "[encoded data removed]",
            "text/plain": [
              "<Figure size 432x288 with 1 Axes>"
            ]
          },
          "metadata": {
            "tags": []
          }
        }
      ]
    },
    {
      "cell_type": "markdown",
      "metadata": {
        "id": "KnVX6nMSM_Re",
        "colab_type": "text"
      },
      "source": [
        "### Using a Simple RNN"
      ]
    },
    {
      "cell_type": "markdown",
      "metadata": {
        "id": "wv0Gw2aKKfX6",
        "colab_type": "text"
      },
      "source": [
        "Simple RNN\n",
        "![alt text](https://i.imgur.com/lTXIldL.png) (source: http://colah.github.io/posts/2015-08-Understanding-LSTMs/)"
      ]
    },
    {
      "cell_type": "markdown",
      "metadata": {
        "id": "j1iQLZZNzRGf",
        "colab_type": "text"
      },
      "source": [
        "(training time: 5 mins)\n",
        "![alt text](https://i.imgur.com/iM8Dzrj.png)"
      ]
    },
    {
      "cell_type": "code",
      "metadata": {
        "id": "2Nie0Js6M_Rh",
        "colab_type": "code",
        "outputId": "93035816-4297-4f46-d939-a53d4522afc8",
        "colab": {
          "base_uri": "https://localhost:8080/",
          "height": 191
        }
      },
      "source": [
        "np.random.seed(42)\n",
        "tf.random.set_seed(42)\n",
        "\n",
        "model = keras.models.Sequential([\n",
        "    keras.layers.SimpleRNN(1, input_shape=[None, 1]) # a recurrent neural network can process any number of time steps\n",
        "])\n",
        "\n",
        "model.summary()"
      ],
      "execution_count": 0,
      "outputs": [
        {
          "output_type": "stream",
          "text": [
            "Model: \"sequential_1\"\n",
            "_________________________________________________________________\n",
            "Layer (type)                 Output Shape              Param #   \n",
            "=================================================================\n",
            "simple_rnn (SimpleRNN)       (None, 1)                 3         \n",
            "=================================================================\n",
            "Total params: 3\n",
            "Trainable params: 3\n",
            "Non-trainable params: 0\n",
            "_________________________________________________________________\n"
          ],
          "name": "stdout"
        }
      ]
    },
    {
      "cell_type": "code",
      "metadata": {
        "id": "pzVWS8z_HmBB",
        "colab_type": "code",
        "outputId": "0d71844b-8c7f-4f66-f7fa-81e633716822",
        "colab": {
          "base_uri": "https://localhost:8080/",
          "height": 381
        }
      },
      "source": [
        "# You could try to save the model after every epoch. (put this callback function into callbacks)\n",
        "save_model_callback = keras.callbacks.ModelCheckpoint(\"weights.{epoch:02d}-{val_loss:.2f}.hdf5\")\n",
        "\n",
        "optimizer = keras.optimizers.Adam(lr=0.005)\n",
        "model.compile(loss=\"mse\", optimizer=optimizer)\n",
        "history = model.fit(X_train, y_train, epochs=10,\n",
        "                    validation_data=(X_valid, y_valid),\n",
        "                    callbacks=[save_model_callback])"
      ],
      "execution_count": 0,
      "outputs": [
        {
          "output_type": "stream",
          "text": [
            "Train on 7000 samples, validate on 2000 samples\n",
            "Epoch 1/10\n",
            "7000/7000 [==============================] - 6s 921us/sample - loss: 0.0960 - val_loss: 0.0482\n",
            "Epoch 2/10\n",
            "7000/7000 [==============================] - 6s 840us/sample - loss: 0.0366 - val_loss: 0.0293\n",
            "Epoch 3/10\n",
            "7000/7000 [==============================] - 6s 844us/sample - loss: 0.0251 - val_loss: 0.0216\n",
            "Epoch 4/10\n",
            "7000/7000 [==============================] - 6s 877us/sample - loss: 0.0196 - val_loss: 0.0175\n",
            "Epoch 5/10\n",
            "7000/7000 [==============================] - 6s 877us/sample - loss: 0.0165 - val_loss: 0.0150\n",
            "Epoch 6/10\n",
            "7000/7000 [==============================] - 6s 847us/sample - loss: 0.0145 - val_loss: 0.0133\n",
            "Epoch 7/10\n",
            "7000/7000 [==============================] - 6s 861us/sample - loss: 0.0132 - val_loss: 0.0123\n",
            "Epoch 8/10\n",
            "7000/7000 [==============================] - 6s 852us/sample - loss: 0.0123 - val_loss: 0.0116\n",
            "Epoch 9/10\n",
            "7000/7000 [==============================] - 6s 844us/sample - loss: 0.0118 - val_loss: 0.0112\n",
            "Epoch 10/10\n",
            "7000/7000 [==============================] - 6s 846us/sample - loss: 0.0116 - val_loss: 0.0110\n"
          ],
          "name": "stdout"
        }
      ]
    },
    {
      "cell_type": "code",
      "metadata": {
        "id": "E4S36xBK1GOu",
        "colab_type": "code",
        "outputId": "d1589829-b46b-4649-9d67-443ebe11d32c",
        "colab": {
          "base_uri": "https://localhost:8080/",
          "height": 52
        }
      },
      "source": [
        "model.evaluate(X_valid, y_valid)"
      ],
      "execution_count": 0,
      "outputs": [
        {
          "output_type": "stream",
          "text": [
            "2000/2000 [==============================] - 1s 356us/sample - loss: 0.0110\n"
          ],
          "name": "stdout"
        },
        {
          "output_type": "execute_result",
          "data": {
            "text/plain": [
              "0.011008462056517601"
            ]
          },
          "metadata": {
            "tags": []
          },
          "execution_count": 16
        }
      ]
    },
    {
      "cell_type": "code",
      "metadata": {
        "id": "kU3munSfM_Ru",
        "colab_type": "code",
        "outputId": "34c9cee7-a684-417c-ee24-16d22aefe972",
        "colab": {
          "base_uri": "https://localhost:8080/",
          "height": 291
        }
      },
      "source": [
        "plot_learning_curves(history.history[\"loss\"], history.history[\"val_loss\"])\n",
        "plt.show()"
      ],
      "execution_count": 0,
      "outputs": [
        {
          "output_type": "display_data",
          "data": {
            "image/png": "[encoded data removed]",
            "text/plain": [
              "<Figure size 432x288 with 1 Axes>"
            ]
          },
          "metadata": {
            "tags": []
          }
        }
      ]
    },
    {
      "cell_type": "code",
      "metadata": {
        "id": "Yk94RiOwM_R2",
        "colab_type": "code",
        "outputId": "91827db0-42e2-49a2-9611-266fd974dd46",
        "colab": {
          "base_uri": "https://localhost:8080/",
          "height": 293
        }
      },
      "source": [
        "y_pred = model.predict(X_valid)\n",
        "plot_series(X_valid[0, :, 0], y_valid[0, 0], y_pred[0, 0])\n",
        "plt.show()"
      ],
      "execution_count": 0,
      "outputs": [
        {
          "output_type": "display_data",
          "data": {
            "image/png": "[encoded data removed]",
            "text/plain": [
              "<Figure size 432x288 with 1 Axes>"
            ]
          },
          "metadata": {
            "tags": []
          }
        }
      ]
    },
    {
      "cell_type": "markdown",
      "metadata": {
        "id": "1SUyB7JUM_R6",
        "colab_type": "text"
      },
      "source": [
        "## Deep RNNs"
      ]
    },
    {
      "cell_type": "markdown",
      "metadata": {
        "id": "pIIXIoHu5NXZ",
        "colab_type": "text"
      },
      "source": [
        "(training time: 20mins)\n",
        "\n",
        "![alt text](https://i.imgur.com/pCmwDhG.png)\n",
        "![alt text](https://i.imgur.com/G6ffsS0.png)"
      ]
    },
    {
      "cell_type": "code",
      "metadata": {
        "id": "St27CLo1M_R7",
        "colab_type": "code",
        "outputId": "0ba294c1-1795-48f2-b566-2041950fee54",
        "colab": {
          "base_uri": "https://localhost:8080/",
          "height": 260
        }
      },
      "source": [
        "# simpleRNN api doc: https://www.tensorflow.org/api_docs/python/tf/keras/layers/SimpleRNN\n",
        "\n",
        "np.random.seed(42)\n",
        "tf.random.set_seed(42)\n",
        "\n",
        "# return_sequences: Boolean. Whether to return the last output in the output sequence, or the full sequence.\n",
        "\n",
        "model = keras.models.Sequential([\n",
        "    keras.layers.SimpleRNN(20, return_sequences=True, input_shape=[None, 1]),\n",
        "    keras.layers.SimpleRNN(20, return_sequences=True),\n",
        "    keras.layers.SimpleRNN(1)\n",
        "])\n",
        "\n",
        "model.summary()"
      ],
      "execution_count": 0,
      "outputs": [
        {
          "output_type": "stream",
          "text": [
            "Model: \"sequential_2\"\n",
            "_________________________________________________________________\n",
            "Layer (type)                 Output Shape              Param #   \n",
            "=================================================================\n",
            "simple_rnn_1 (SimpleRNN)     (None, None, 20)          440       \n",
            "_________________________________________________________________\n",
            "simple_rnn_2 (SimpleRNN)     (None, None, 20)          820       \n",
            "_________________________________________________________________\n",
            "simple_rnn_3 (SimpleRNN)     (None, 1)                 22        \n",
            "=================================================================\n",
            "Total params: 1,282\n",
            "Trainable params: 1,282\n",
            "Non-trainable params: 0\n",
            "_________________________________________________________________\n"
          ],
          "name": "stdout"
        }
      ]
    },
    {
      "cell_type": "code",
      "metadata": {
        "id": "TTwDlnXFLxuB",
        "colab_type": "code",
        "outputId": "bf467651-e09f-46c1-970d-bd80e9371b2b",
        "colab": {
          "base_uri": "https://localhost:8080/",
          "height": 243
        }
      },
      "source": [
        "model.compile(loss=\"mse\", optimizer=\"adam\")\n",
        "history = model.fit(X_train, y_train, epochs=10,\n",
        "                    validation_data=(X_valid, y_valid))"
      ],
      "execution_count": 0,
      "outputs": [
        {
          "output_type": "stream",
          "text": [
            "Train on 7000 samples, validate on 2000 samples\n",
            "Epoch 1/10\n",
            "7000/7000 [==============================] - 36s 5ms/sample - loss: 0.0502 - val_loss: 0.0093\n",
            "Epoch 2/10\n",
            "7000/7000 [==============================] - 35s 5ms/sample - loss: 0.0069 - val_loss: 0.0055\n",
            "Epoch 3/10\n",
            "7000/7000 [==============================] - 35s 5ms/sample - loss: 0.0050 - val_loss: 0.0044\n",
            "Epoch 4/10\n",
            "7000/7000 [==============================] - 34s 5ms/sample - loss: 0.0048 - val_loss: 0.0040\n",
            "Epoch 5/10\n",
            "7000/7000 [==============================] - 35s 5ms/sample - loss: 0.0041 - val_loss: 0.0037\n",
            "Epoch 6/10\n",
            "3072/7000 [============>.................] - ETA: 18s - loss: 0.0043"
          ],
          "name": "stdout"
        }
      ]
    },
    {
      "cell_type": "code",
      "metadata": {
        "id": "ShzR8MoGM_SD",
        "colab_type": "code",
        "colab": {}
      },
      "source": [
        "model.evaluate(X_valid, y_valid)"
      ],
      "execution_count": 0,
      "outputs": []
    },
    {
      "cell_type": "code",
      "metadata": {
        "id": "Ou4BsO_JM_SI",
        "colab_type": "code",
        "colab": {}
      },
      "source": [
        "plot_learning_curves(history.history[\"loss\"], history.history[\"val_loss\"])\n",
        "plt.show()"
      ],
      "execution_count": 0,
      "outputs": []
    },
    {
      "cell_type": "code",
      "metadata": {
        "id": "zuNKwtwQM_SM",
        "colab_type": "code",
        "colab": {}
      },
      "source": [
        "y_pred = model.predict(X_valid)\n",
        "plot_series(X_valid[0, :, 0], y_valid[0, 0], y_pred[0, 0])\n",
        "plt.show()"
      ],
      "execution_count": 0,
      "outputs": []
    },
    {
      "cell_type": "markdown",
      "metadata": {
        "id": "1b0SkvqeM_SR",
        "colab_type": "text"
      },
      "source": [
        "Make the second `SimpleRNN` layer return only the last output:"
      ]
    },
    {
      "cell_type": "markdown",
      "metadata": {
        "id": "EEo7_ik3A74I",
        "colab_type": "text"
      },
      "source": [
        "(training time: 10~15 mins)\n",
        "![alt text](https://i.imgur.com/Lm4VAOP.png)"
      ]
    },
    {
      "cell_type": "code",
      "metadata": {
        "id": "v04VJ2ZFM_SS",
        "colab_type": "code",
        "colab": {}
      },
      "source": [
        "np.random.seed(42)\n",
        "tf.random.set_seed(42)\n",
        "\n",
        "model = keras.models.Sequential([\n",
        "    keras.layers.SimpleRNN(20, return_sequences=True, input_shape=[None, 1]),\n",
        "    keras.layers.SimpleRNN(20),\n",
        "    keras.layers.Dense(1)\n",
        "])\n",
        "\n",
        "model.compile(loss=\"mse\", optimizer=\"adam\")\n",
        "history = model.fit(X_train, y_train, epochs=10,\n",
        "                    validation_data=(X_valid, y_valid))"
      ],
      "execution_count": 0,
      "outputs": []
    },
    {
      "cell_type": "code",
      "metadata": {
        "id": "EOJ4FIrhM_SV",
        "colab_type": "code",
        "colab": {}
      },
      "source": [
        "model.evaluate(X_valid, y_valid)"
      ],
      "execution_count": 0,
      "outputs": []
    },
    {
      "cell_type": "code",
      "metadata": {
        "id": "TtUhamMCM_Sc",
        "colab_type": "code",
        "colab": {}
      },
      "source": [
        "plot_learning_curves(history.history[\"loss\"], history.history[\"val_loss\"])\n",
        "plt.show()"
      ],
      "execution_count": 0,
      "outputs": []
    },
    {
      "cell_type": "code",
      "metadata": {
        "id": "DEtMORekM_Sg",
        "colab_type": "code",
        "colab": {}
      },
      "source": [
        "y_pred = model.predict(X_valid)\n",
        "plot_series(X_valid[0, :, 0], y_valid[0, 0], y_pred[0, 0])\n",
        "plt.show()"
      ],
      "execution_count": 0,
      "outputs": []
    },
    {
      "cell_type": "markdown",
      "metadata": {
        "id": "CoZWXBGSM_Sk",
        "colab_type": "text"
      },
      "source": [
        "## Forecasting Several Steps Ahead\n",
        "\n",
        "If you want to predict, say the output for the next 10 time steps, you can just feed the output of the back into the input as if it is the real input. (T: use whiteboard)"
      ]
    },
    {
      "cell_type": "code",
      "metadata": {
        "id": "XoRmfK_4M_Sl",
        "colab_type": "code",
        "colab": {}
      },
      "source": [
        "np.random.seed(43) # not 42, as it would give the first series in the train set\n",
        "\n",
        "series = generate_time_series(1, n_steps + 10)            # generate a time series for testing\n",
        "X_new, Y_new = series[:, :n_steps], series[:, n_steps:]   # X_new: 50 steps, Y_new: 10 steps\n",
        "X = X_new\n",
        "for step_ahead in range(10):\n",
        "    y_pred_one = model.predict(X[:, step_ahead:])[:, np.newaxis, :]\n",
        "    X = np.concatenate([X, y_pred_one], axis=1)\n",
        "\n",
        "Y_pred = X[:, n_steps:]"
      ],
      "execution_count": 0,
      "outputs": []
    },
    {
      "cell_type": "code",
      "metadata": {
        "id": "ApVbNmPPM_Sn",
        "colab_type": "code",
        "outputId": "8595f895-b3d9-436e-e268-44c85362db71",
        "colab": {
          "base_uri": "https://localhost:8080/",
          "height": 34
        }
      },
      "source": [
        "Y_pred.shape"
      ],
      "execution_count": 0,
      "outputs": [
        {
          "output_type": "execute_result",
          "data": {
            "text/plain": [
              "(1, 10, 1)"
            ]
          },
          "metadata": {
            "tags": []
          },
          "execution_count": 36
        }
      ]
    },
    {
      "cell_type": "code",
      "metadata": {
        "id": "1mkOzDJ4M_Sr",
        "colab_type": "code",
        "outputId": "c8eb9422-1672-43a0-9dd4-d3a6f50afc5a",
        "colab": {
          "base_uri": "https://localhost:8080/",
          "height": 314
        }
      },
      "source": [
        "def plot_multiple_forecasts(X, Y, Y_pred):\n",
        "    n_steps = X.shape[1]\n",
        "    ahead = Y.shape[1]\n",
        "    plot_series(X[0, :, 0])\n",
        "    plt.plot(np.arange(n_steps, n_steps + ahead), Y_pred[0, :, 0], \"ro-\", label=\"Actual\")\n",
        "    plt.plot(np.arange(n_steps, n_steps + ahead), Y[0, :, 0], \"bx-\", label=\"Forecast\", markersize=10)\n",
        "    plt.axis([0, n_steps + ahead, -1, 1])\n",
        "    plt.legend(fontsize=14)\n",
        "\n",
        "plot_multiple_forecasts(X_new, Y_new, Y_pred)\n",
        "save_fig(\"forecast_ahead_plot\")\n",
        "plt.show()"
      ],
      "execution_count": 0,
      "outputs": [
        {
          "output_type": "stream",
          "text": [
            "Saving figure forecast_ahead_plot\n"
          ],
          "name": "stdout"
        },
        {
          "output_type": "display_data",
          "data": {
            "image/png": "[encoded data removed]",
            "text/plain": [
              "<Figure size 432x288 with 1 Axes>"
            ]
          },
          "metadata": {
            "tags": []
          }
        }
      ]
    },
    {
      "cell_type": "markdown",
      "metadata": {
        "id": "6ZfiY36VjYpa",
        "colab_type": "text"
      },
      "source": [
        "You can see that as the prediction moves further in the future, the results are worse."
      ]
    },
    {
      "cell_type": "markdown",
      "metadata": {
        "id": "GE0Yh9_ZM_Sv",
        "colab_type": "text"
      },
      "source": [
        "Alternatively, we can create an RNN that predicts all 10 next values at once. You essentially change it into a **sequence to vector** network."
      ]
    },
    {
      "cell_type": "code",
      "metadata": {
        "id": "373Qt50nM_Sw",
        "colab_type": "code",
        "colab": {}
      },
      "source": [
        "np.random.seed(42)\n",
        "\n",
        "n_steps = 50\n",
        "series = generate_time_series(10000, n_steps + 10)\n",
        "X_train, Y_train = series[:7000, :n_steps], series[:7000, -10:, 0]\n",
        "X_valid, Y_valid = series[7000:9000, :n_steps], series[7000:9000, -10:, 0]\n",
        "X_test, Y_test = series[9000:, :n_steps], series[9000:, -10:, 0]"
      ],
      "execution_count": 0,
      "outputs": []
    },
    {
      "cell_type": "markdown",
      "metadata": {
        "id": "E7cAjqhcv16J",
        "colab_type": "text"
      },
      "source": [
        "![alt text](https://i.imgur.com/230OzFu.png)"
      ]
    },
    {
      "cell_type": "code",
      "metadata": {
        "id": "XvkAXpBSM_Sz",
        "colab_type": "code",
        "outputId": "35677e3f-b291-4edd-84ee-f6e38d0afe09",
        "colab": {
          "base_uri": "https://localhost:8080/",
          "height": 102
        }
      },
      "source": [
        "np.random.seed(42)\n",
        "tf.random.set_seed(42)\n",
        "\n",
        "model = keras.models.Sequential([\n",
        "    keras.layers.SimpleRNN(20, return_sequences=True, input_shape=[None, 1]),\n",
        "    keras.layers.SimpleRNN(20),\n",
        "    keras.layers.Dense(10)       # output all 10 next values at once\n",
        "])\n",
        "\n",
        "model.compile(loss=\"mse\", optimizer=\"adam\")\n",
        "history = model.fit(X_train, Y_train, epochs=10,\n",
        "                    validation_data=(X_valid, Y_valid))"
      ],
      "execution_count": 0,
      "outputs": [
        {
          "output_type": "stream",
          "text": [
            "Train on 7000 samples, validate on 2000 samples\n",
            "Epoch 1/2\n",
            "7000/7000 [==============================] - 33s 5ms/sample - loss: 0.0670 - val_loss: 0.0341\n",
            "Epoch 2/2\n",
            "7000/7000 [==============================] - 32s 5ms/sample - loss: 0.0267 - val_loss: 0.0195\n"
          ],
          "name": "stdout"
        }
      ]
    },
    {
      "cell_type": "code",
      "metadata": {
        "id": "so7A-F_uM_S1",
        "colab_type": "code",
        "colab": {}
      },
      "source": [
        "np.random.seed(43)\n",
        "\n",
        "series = generate_time_series(1, 50 + 10)\n",
        "X_new, Y_new = series[:, :50, :], series[:, -10:, :]\n",
        "Y_pred = model.predict(X_new)[..., np.newaxis]"
      ],
      "execution_count": 0,
      "outputs": []
    },
    {
      "cell_type": "code",
      "metadata": {
        "id": "T6o3EITBM_S4",
        "colab_type": "code",
        "outputId": "d3777431-e396-4880-e360-b13873685b6e",
        "colab": {
          "base_uri": "https://localhost:8080/",
          "height": 293
        }
      },
      "source": [
        "plot_multiple_forecasts(X_new, Y_new, Y_pred)\n",
        "plt.show()"
      ],
      "execution_count": 0,
      "outputs": [
        {
          "output_type": "display_data",
          "data": {
            "image/png": "[encoded data removed]",
            "text/plain": [
              "<Figure size 432x288 with 1 Axes>"
            ]
          },
          "metadata": {
            "tags": []
          }
        }
      ]
    },
    {
      "cell_type": "markdown",
      "metadata": {
        "id": "lUzn5Pt1M_S8",
        "colab_type": "text"
      },
      "source": [
        "Now let's create an RNN that predicts the next 10 steps at each time step. This makes your model a **sequence to sequence** network. That is, instead of just forecasting time steps 50 to 59 based on time steps 0 to 49, it will forecast time steps 1 to 10 at time step 0, then time steps 2 to 11 at time step 1, and so on, and finally it will forecast time steps 50 to 59 at the last time step. Notice that the model is causal: when it makes predictions at any time step, it can only see past time steps."
      ]
    },
    {
      "cell_type": "code",
      "metadata": {
        "id": "lxzdKHUNM_S9",
        "colab_type": "code",
        "colab": {}
      },
      "source": [
        "np.random.seed(42)\n",
        "\n",
        "n_steps = 50\n",
        "series = generate_time_series(10000, n_steps + 10)\n",
        "X_train = series[:7000, :n_steps]\n",
        "X_valid = series[7000:9000, :n_steps]\n",
        "X_test = series[9000:, :n_steps]\n",
        "Y = np.empty((10000, n_steps, 10))\n",
        "\n",
        "for step_ahead in range(1, 10 + 1):\n",
        "    Y[..., step_ahead - 1] = series[..., step_ahead:step_ahead + n_steps, 0]\n",
        "\n",
        "Y_train = Y[:7000]\n",
        "Y_valid = Y[7000:9000]\n",
        "Y_test = Y[9000:]"
      ],
      "execution_count": 0,
      "outputs": []
    },
    {
      "cell_type": "code",
      "metadata": {
        "id": "Y8f7zM-AM_S-",
        "colab_type": "code",
        "outputId": "ad4c9b71-a475-4c1c-b62a-0af548e71869",
        "colab": {
          "base_uri": "https://localhost:8080/",
          "height": 34
        }
      },
      "source": [
        "X_train.shape, Y_train.shape"
      ],
      "execution_count": 0,
      "outputs": [
        {
          "output_type": "execute_result",
          "data": {
            "text/plain": [
              "((7000, 50, 1), (7000, 50, 10))"
            ]
          },
          "metadata": {
            "tags": []
          },
          "execution_count": 43
        }
      ]
    },
    {
      "cell_type": "markdown",
      "metadata": {
        "id": "5H1BTnc0tYtm",
        "colab_type": "text"
      },
      "source": [
        "(training time: 10~15 mins)\n",
        "![alt text](https://i.imgur.com/6FjfRpr.png)"
      ]
    },
    {
      "cell_type": "code",
      "metadata": {
        "id": "IDIw9XWJM_TD",
        "colab_type": "code",
        "outputId": "1e219cfd-0b03-4581-def4-b2dca1a10fd3",
        "colab": {
          "base_uri": "https://localhost:8080/",
          "height": 204
        }
      },
      "source": [
        "# tf.keras.layers.TimeDistributed api doc: https://www.tensorflow.org/api_docs/python/tf/keras/layers/TimeDistributed\n",
        "\n",
        "np.random.seed(42)\n",
        "tf.random.set_seed(42)\n",
        "\n",
        "model = keras.models.Sequential([\n",
        "    keras.layers.SimpleRNN(20, return_sequences=True, input_shape=[None, 1]),\n",
        "    keras.layers.SimpleRNN(20, return_sequences=True),\n",
        "    keras.layers.TimeDistributed(keras.layers.Dense(10))\n",
        "])\n",
        "\n",
        "def last_time_step_mse(Y_true, Y_pred):\n",
        "    return keras.metrics.mean_squared_error(Y_true[:, -1], Y_pred[:, -1])\n",
        "\n",
        "model.compile(loss=\"mse\", optimizer=\"adam\", metrics=[last_time_step_mse])\n",
        "history = model.fit(X_train, Y_train, epochs=10,\n",
        "                    validation_data=(X_valid, Y_valid))"
      ],
      "execution_count": 0,
      "outputs": [
        {
          "output_type": "stream",
          "text": [
            "Train on 7000 samples, validate on 2000 samples\n",
            "Epoch 1/5\n",
            "7000/7000 [==============================] - 33s 5ms/sample - loss: 0.0743 - last_time_step_mse: 0.0648 - val_loss: 0.0470 - val_last_time_step_mse: 0.0343\n",
            "Epoch 2/5\n",
            "7000/7000 [==============================] - 32s 5ms/sample - loss: 0.0440 - last_time_step_mse: 0.0310 - val_loss: 0.0412 - val_last_time_step_mse: 0.0267\n",
            "Epoch 3/5\n",
            "7000/7000 [==============================] - 32s 5ms/sample - loss: 0.0397 - last_time_step_mse: 0.0258 - val_loss: 0.0379 - val_last_time_step_mse: 0.0232\n",
            "Epoch 4/5\n",
            "7000/7000 [==============================] - 32s 5ms/sample - loss: 0.0373 - last_time_step_mse: 0.0225 - val_loss: 0.0361 - val_last_time_step_mse: 0.0214\n",
            "Epoch 5/5\n",
            "7000/7000 [==============================] - 32s 5ms/sample - loss: 0.0359 - last_time_step_mse: 0.0211 - val_loss: 0.0355 - val_last_time_step_mse: 0.0205\n"
          ],
          "name": "stdout"
        }
      ]
    },
    {
      "cell_type": "code",
      "metadata": {
        "id": "p8Ki3CZnM_TF",
        "colab_type": "code",
        "colab": {}
      },
      "source": [
        "np.random.seed(43)\n",
        "\n",
        "series = generate_time_series(1, 50 + 10)\n",
        "X_new, Y_new = series[:, :50, :], series[:, 50:, :]\n",
        "Y_pred = model.predict(X_new)[:, -1][..., np.newaxis]"
      ],
      "execution_count": 0,
      "outputs": []
    },
    {
      "cell_type": "code",
      "metadata": {
        "id": "a7d7g0WzM_TH",
        "colab_type": "code",
        "outputId": "01ae7b79-adce-4f54-e84b-f1b3c4b11fdc",
        "colab": {
          "base_uri": "https://localhost:8080/",
          "height": 293
        }
      },
      "source": [
        "plot_multiple_forecasts(X_new, Y_new, Y_pred)\n",
        "plt.show()"
      ],
      "execution_count": 0,
      "outputs": [
        {
          "output_type": "display_data",
          "data": {
            "image/png": "[encoded data removed]",
            "text/plain": [
              "<Figure size 432x288 with 1 Axes>"
            ]
          },
          "metadata": {
            "tags": []
          }
        }
      ]
    },
    {
      "cell_type": "code",
      "metadata": {
        "id": "Bv-meR-Xwgrt",
        "colab_type": "code",
        "colab": {}
      },
      "source": [
        "np.random.seed(44) # not 42, as it would give the first series in the train set\n",
        "\n",
        "series = generate_time_series(1, n_steps + 20)            # generate a time series for testing\n",
        "X_new, Y_new = series[:, :n_steps], series[:, n_steps:]   # X_new: 50 steps, Y_new: 20 steps\n",
        "X = X_new\n",
        "\n",
        "# X: [batch size, steps, 1]\n",
        "# predition: [batch_size, 10]\n",
        "for step_ahead in range(2):\n",
        "    y_pred_one = model.predict(X[:, step_ahead*10:])[:, -1][...,np.newaxis]\n",
        "    X = np.concatenate([X, y_pred_one], axis=1)\n",
        "\n",
        "Y_pred = X[:, n_steps:]"
      ],
      "execution_count": 0,
      "outputs": []
    },
    {
      "cell_type": "code",
      "metadata": {
        "id": "BzZoNhg4xZ6f",
        "colab_type": "code",
        "outputId": "04bbfa92-eb9f-4179-efb5-0d61641e6aa2",
        "colab": {
          "base_uri": "https://localhost:8080/",
          "height": 293
        }
      },
      "source": [
        "plot_multiple_forecasts(X_new, Y_new, Y_pred)\n",
        "plt.show()"
      ],
      "execution_count": 0,
      "outputs": [
        {
          "output_type": "display_data",
          "data": {
            "image/png": "[encoded data removed]",
            "text/plain": [
              "<Figure size 432x288 with 1 Axes>"
            ]
          },
          "metadata": {
            "tags": []
          }
        }
      ]
    },
    {
      "cell_type": "markdown",
      "metadata": {
        "id": "jcwn9BFIM_TK",
        "colab_type": "text"
      },
      "source": [
        "# Deep RNN with Batch Norm"
      ]
    },
    {
      "cell_type": "code",
      "metadata": {
        "id": "LU-WNT7TM_TL",
        "colab_type": "code",
        "outputId": "e053d047-3198-4f81-8563-abab491339cc",
        "colab": {
          "base_uri": "https://localhost:8080/",
          "height": 204
        }
      },
      "source": [
        "# In practice, Batch norm is detrimental to RNN\n",
        "\n",
        "np.random.seed(42)\n",
        "tf.random.set_seed(42)\n",
        "\n",
        "model = keras.models.Sequential([\n",
        "    keras.layers.SimpleRNN(20, return_sequences=True, input_shape=[None, 1]),\n",
        "    keras.layers.BatchNormalization(),\n",
        "    keras.layers.SimpleRNN(20, return_sequences=True),\n",
        "    keras.layers.BatchNormalization(),\n",
        "    keras.layers.TimeDistributed(keras.layers.Dense(10))\n",
        "])\n",
        "\n",
        "model.compile(loss=\"mse\", optimizer=\"adam\", metrics=[last_time_step_mse])\n",
        "history = model.fit(X_train, Y_train, epochs=10,\n",
        "                    validation_data=(X_valid, Y_valid))"
      ],
      "execution_count": 0,
      "outputs": [
        {
          "output_type": "stream",
          "text": [
            "Train on 7000 samples, validate on 2000 samples\n",
            "Epoch 1/5\n",
            "7000/7000 [==============================] - 34s 5ms/sample - loss: 0.1939 - last_time_step_mse: 0.1922 - val_loss: 0.0876 - val_last_time_step_mse: 0.0834\n",
            "Epoch 2/5\n",
            "7000/7000 [==============================] - 32s 5ms/sample - loss: 0.0536 - last_time_step_mse: 0.0448 - val_loss: 0.0553 - val_last_time_step_mse: 0.0467\n",
            "Epoch 3/5\n",
            "7000/7000 [==============================] - 32s 5ms/sample - loss: 0.0472 - last_time_step_mse: 0.0377 - val_loss: 0.0450 - val_last_time_step_mse: 0.0353\n",
            "Epoch 4/5\n",
            "7000/7000 [==============================] - 32s 5ms/sample - loss: 0.0438 - last_time_step_mse: 0.0338 - val_loss: 0.0423 - val_last_time_step_mse: 0.0331\n",
            "Epoch 5/5\n",
            "7000/7000 [==============================] - 32s 5ms/sample - loss: 0.0408 - last_time_step_mse: 0.0304 - val_loss: 0.0394 - val_last_time_step_mse: 0.0285\n"
          ],
          "name": "stdout"
        }
      ]
    },
    {
      "cell_type": "markdown",
      "metadata": {
        "id": "LEHJD3QBM_TO",
        "colab_type": "text"
      },
      "source": [
        "# Deep RNNs with Layer Norm"
      ]
    },
    {
      "cell_type": "code",
      "metadata": {
        "id": "G9vtGMx8M_TO",
        "colab_type": "code",
        "colab": {}
      },
      "source": [
        "from tensorflow.keras.layers import LayerNormalization"
      ],
      "execution_count": 0,
      "outputs": []
    },
    {
      "cell_type": "code",
      "metadata": {
        "id": "IEHiEGp0M_TR",
        "colab_type": "code",
        "colab": {}
      },
      "source": [
        "# subclassing tutorial: https://www.tensorflow.org/beta/guide/keras/custom_layers_and_models\n",
        "\n",
        "class LNSimpleRNNCell(keras.layers.Layer):\n",
        "    def __init__(self, units, activation=\"tanh\", **kwargs):\n",
        "        super().__init__(**kwargs)\n",
        "        self.state_size = units\n",
        "        self.output_size = units\n",
        "        self.simple_rnn_cell = keras.layers.SimpleRNNCell(units,\n",
        "                                                          activation=None)\n",
        "        self.layer_norm = LayerNormalization()\n",
        "        self.activation = keras.activations.get(activation)\n",
        "        \n",
        "    def get_initial_state(self, inputs=None, batch_size=None, dtype=None):\n",
        "        if inputs is not None:\n",
        "            batch_size = tf.shape(inputs)[0]\n",
        "            dtype = inputs.dtype\n",
        "        return [tf.zeros([batch_size, self.state_size], dtype=dtype)]\n",
        "    \n",
        "    def call(self, inputs, states):\n",
        "        outputs, new_states = self.simple_rnn_cell(inputs, states)\n",
        "        norm_outputs = self.activation(self.layer_norm(outputs))\n",
        "        return norm_outputs, [norm_outputs]"
      ],
      "execution_count": 0,
      "outputs": []
    },
    {
      "cell_type": "code",
      "metadata": {
        "id": "8NTrvUqWM_TS",
        "colab_type": "code",
        "outputId": "7cb9f6c1-b7d5-4edb-b960-63c22e565e36",
        "colab": {
          "base_uri": "https://localhost:8080/",
          "height": 102
        }
      },
      "source": [
        "np.random.seed(42)\n",
        "tf.random.set_seed(42)\n",
        "\n",
        "model = keras.models.Sequential([\n",
        "    keras.layers.RNN(LNSimpleRNNCell(20), return_sequences=True, input_shape=[None, 1]),\n",
        "    keras.layers.RNN(LNSimpleRNNCell(20), return_sequences=True),\n",
        "    keras.layers.TimeDistributed(keras.layers.Dense(10))\n",
        "])\n",
        "\n",
        "model.compile(loss=\"mse\", optimizer=\"adam\", metrics=[last_time_step_mse])\n",
        "history = model.fit(X_train, Y_train, epochs=10,\n",
        "                    validation_data=(X_valid, Y_valid))"
      ],
      "execution_count": 0,
      "outputs": [
        {
          "output_type": "stream",
          "text": [
            "Train on 7000 samples, validate on 2000 samples\n",
            "Epoch 1/2\n",
            "7000/7000 [==============================] - 67s 10ms/sample - loss: 0.1645 - last_time_step_mse: 0.1595 - val_loss: 0.0740 - val_last_time_step_mse: 0.0700\n",
            "Epoch 2/2\n",
            "7000/7000 [==============================] - 65s 9ms/sample - loss: 0.0646 - last_time_step_mse: 0.0565 - val_loss: 0.0592 - val_last_time_step_mse: 0.0500\n"
          ],
          "name": "stdout"
        }
      ]
    },
    {
      "cell_type": "markdown",
      "metadata": {
        "id": "vGPuAOEGM_Tb",
        "colab_type": "text"
      },
      "source": [
        "# LSTMs"
      ]
    },
    {
      "cell_type": "markdown",
      "metadata": {
        "id": "93EaQ5PMvyU6",
        "colab_type": "text"
      },
      "source": [
        "(training time: 2~3 mins)\n",
        "![alt text](https://i.imgur.com/cVbrrOK.png)"
      ]
    },
    {
      "cell_type": "code",
      "metadata": {
        "scrolled": true,
        "id": "rRxCYuAJM_Tc",
        "colab_type": "code",
        "outputId": "b13eca7f-95fc-48ff-bcac-bfd24a2b71ed",
        "colab": {
          "base_uri": "https://localhost:8080/",
          "height": 255
        }
      },
      "source": [
        "np.random.seed(42)\n",
        "tf.random.set_seed(42)\n",
        "\n",
        "model = keras.models.Sequential([\n",
        "    keras.layers.LSTM(20, return_sequences=True, input_shape=[None, 1]),\n",
        "    keras.layers.LSTM(20, return_sequences=True),\n",
        "    keras.layers.TimeDistributed(keras.layers.Dense(10))\n",
        "])\n",
        "\n",
        "\n",
        "model.summary()"
      ],
      "execution_count": 0,
      "outputs": [
        {
          "output_type": "stream",
          "text": [
            "Model: \"sequential_16\"\n",
            "_________________________________________________________________\n",
            "Layer (type)                 Output Shape              Param #   \n",
            "=================================================================\n",
            "lstm_6 (LSTM)                (None, None, 20)          1760      \n",
            "_________________________________________________________________\n",
            "lstm_7 (LSTM)                (None, None, 20)          3280      \n",
            "_________________________________________________________________\n",
            "time_distributed_7 (TimeDist (None, None, 10)          210       \n",
            "=================================================================\n",
            "Total params: 5,250\n",
            "Trainable params: 5,250\n",
            "Non-trainable params: 0\n",
            "_________________________________________________________________\n"
          ],
          "name": "stdout"
        }
      ]
    },
    {
      "cell_type": "code",
      "metadata": {
        "id": "7DO119z5YwjY",
        "colab_type": "code",
        "outputId": "656c51f7-78b5-4ecd-8f38-5be58e9578ef",
        "colab": {
          "base_uri": "https://localhost:8080/",
          "height": 204
        }
      },
      "source": [
        "model.compile(loss=\"mse\", optimizer=\"adam\", metrics=[last_time_step_mse])\n",
        "history = model.fit(X_train, Y_train, epochs=20,\n",
        "                    validation_data=(X_valid, Y_valid))"
      ],
      "execution_count": 0,
      "outputs": [
        {
          "output_type": "stream",
          "text": [
            "Train on 7000 samples, validate on 2000 samples\n",
            "Epoch 1/5\n",
            "7000/7000 [==============================] - 7s 1ms/sample - loss: 0.0759 - last_time_step_mse: 0.0615 - val_loss: 0.0551 - val_last_time_step_mse: 0.0364\n",
            "Epoch 2/5\n",
            "7000/7000 [==============================] - 5s 755us/sample - loss: 0.0477 - last_time_step_mse: 0.0275 - val_loss: 0.0421 - val_last_time_step_mse: 0.0211\n",
            "Epoch 3/5\n",
            "7000/7000 [==============================] - 5s 746us/sample - loss: 0.0390 - last_time_step_mse: 0.0183 - val_loss: 0.0364 - val_last_time_step_mse: 0.0151\n",
            "Epoch 4/5\n",
            "7000/7000 [==============================] - 5s 751us/sample - loss: 0.0351 - last_time_step_mse: 0.0152 - val_loss: 0.0336 - val_last_time_step_mse: 0.0132\n",
            "Epoch 5/5\n",
            "7000/7000 [==============================] - 5s 748us/sample - loss: 0.0327 - last_time_step_mse: 0.0135 - val_loss: 0.0314 - val_last_time_step_mse: 0.0121\n"
          ],
          "name": "stdout"
        }
      ]
    },
    {
      "cell_type": "code",
      "metadata": {
        "id": "5AVlsdckM_Te",
        "colab_type": "code",
        "outputId": "52f04797-86f6-4d65-adef-da39b353fa92",
        "colab": {
          "base_uri": "https://localhost:8080/",
          "height": 51
        }
      },
      "source": [
        "model.evaluate(X_valid, Y_valid)"
      ],
      "execution_count": 0,
      "outputs": [
        {
          "output_type": "stream",
          "text": [
            "2000/2000 [==============================] - 0s 237us/sample - loss: 0.0314 - last_time_step_mse: 0.0121\n"
          ],
          "name": "stdout"
        },
        {
          "output_type": "execute_result",
          "data": {
            "text/plain": [
              "[0.03144018071889877, 0.01211183]"
            ]
          },
          "metadata": {
            "tags": []
          },
          "execution_count": 71
        }
      ]
    },
    {
      "cell_type": "code",
      "metadata": {
        "id": "1RPj8GRPM_Tg",
        "colab_type": "code",
        "outputId": "5eb25995-d5a3-48c4-c1e9-6960fe90b14d",
        "colab": {
          "base_uri": "https://localhost:8080/",
          "height": 291
        }
      },
      "source": [
        "plot_learning_curves(history.history[\"loss\"], history.history[\"val_loss\"])\n",
        "plt.show()"
      ],
      "execution_count": 0,
      "outputs": [
        {
          "output_type": "display_data",
          "data": {
            "image/png": "[encoded data removed]",
            "text/plain": [
              "<Figure size 432x288 with 1 Axes>"
            ]
          },
          "metadata": {
            "tags": []
          }
        }
      ]
    },
    {
      "cell_type": "code",
      "metadata": {
        "id": "7V34nvfKM_Tk",
        "colab_type": "code",
        "colab": {}
      },
      "source": [
        "np.random.seed(43)\n",
        "\n",
        "series = generate_time_series(1, 50 + 10)\n",
        "X_new, Y_new = series[:, :50, :], series[:, 50:, :]\n",
        "Y_pred = model.predict(X_new)[:, -1][..., np.newaxis]"
      ],
      "execution_count": 0,
      "outputs": []
    },
    {
      "cell_type": "code",
      "metadata": {
        "scrolled": true,
        "id": "1l65gH7ZM_Tl",
        "colab_type": "code",
        "outputId": "9dcd59ec-dd8a-45e3-9c9a-c58920cef7c3",
        "colab": {
          "base_uri": "https://localhost:8080/",
          "height": 293
        }
      },
      "source": [
        "plot_multiple_forecasts(X_new, Y_new, Y_pred)\n",
        "plt.show()"
      ],
      "execution_count": 0,
      "outputs": [
        {
          "output_type": "display_data",
          "data": {
            "image/png": "[encoded data removed]",
            "text/plain": [
              "<Figure size 432x288 with 1 Axes>"
            ]
          },
          "metadata": {
            "tags": []
          }
        }
      ]
    },
    {
      "cell_type": "markdown",
      "metadata": {
        "id": "pFJSXnO7M_Ts",
        "colab_type": "text"
      },
      "source": [
        "# GRUs"
      ]
    },
    {
      "cell_type": "markdown",
      "metadata": {
        "id": "PUEznHXhwmse",
        "colab_type": "text"
      },
      "source": [
        "(training time: 1~2 mins)\n",
        "![alt text](https://i.imgur.com/MplugMd.png)"
      ]
    },
    {
      "cell_type": "code",
      "metadata": {
        "scrolled": false,
        "id": "ZemB3leyM_Ts",
        "colab_type": "code",
        "outputId": "8014cd5e-c173-497a-9b7a-c64aecae8eb1",
        "colab": {
          "base_uri": "https://localhost:8080/",
          "height": 714
        }
      },
      "source": [
        "np.random.seed(42)\n",
        "tf.random.set_seed(42)\n",
        "\n",
        "model = keras.models.Sequential([\n",
        "    keras.layers.GRU(20, return_sequences=True, input_shape=[None, 1]),\n",
        "    keras.layers.GRU(20, return_sequences=True),\n",
        "    keras.layers.TimeDistributed(keras.layers.Dense(10))\n",
        "])\n",
        "\n",
        "model.compile(loss=\"mse\", optimizer=\"adam\", metrics=[last_time_step_mse])\n",
        "history = model.fit(X_train, Y_train, epochs=20,\n",
        "                    validation_data=(X_valid, Y_valid))"
      ],
      "execution_count": 0,
      "outputs": [
        {
          "output_type": "stream",
          "text": [
            "Train on 7000 samples, validate on 2000 samples\n",
            "Epoch 1/20\n",
            "7000/7000 [==============================] - 7s 1ms/sample - loss: 0.0742 - last_time_step_mse: 0.0667 - val_loss: 0.0528 - val_last_time_step_mse: 0.0414\n",
            "Epoch 2/20\n",
            "7000/7000 [==============================] - 5s 761us/sample - loss: 0.0476 - last_time_step_mse: 0.0365 - val_loss: 0.0440 - val_last_time_step_mse: 0.0326\n",
            "Epoch 3/20\n",
            "7000/7000 [==============================] - 5s 765us/sample - loss: 0.0418 - last_time_step_mse: 0.0303 - val_loss: 0.0394 - val_last_time_step_mse: 0.0271\n",
            "Epoch 4/20\n",
            "7000/7000 [==============================] - 5s 773us/sample - loss: 0.0373 - last_time_step_mse: 0.0249 - val_loss: 0.0359 - val_last_time_step_mse: 0.0226\n",
            "Epoch 5/20\n",
            "7000/7000 [==============================] - 5s 767us/sample - loss: 0.0328 - last_time_step_mse: 0.0181 - val_loss: 0.0316 - val_last_time_step_mse: 0.0168\n",
            "Epoch 6/20\n",
            "7000/7000 [==============================] - 5s 774us/sample - loss: 0.0308 - last_time_step_mse: 0.0157 - val_loss: 0.0299 - val_last_time_step_mse: 0.0146\n",
            "Epoch 7/20\n",
            "7000/7000 [==============================] - 5s 769us/sample - loss: 0.0298 - last_time_step_mse: 0.0149 - val_loss: 0.0289 - val_last_time_step_mse: 0.0137\n",
            "Epoch 8/20\n",
            "7000/7000 [==============================] - 5s 775us/sample - loss: 0.0288 - last_time_step_mse: 0.0140 - val_loss: 0.0282 - val_last_time_step_mse: 0.0136\n",
            "Epoch 9/20\n",
            "7000/7000 [==============================] - 5s 769us/sample - loss: 0.0280 - last_time_step_mse: 0.0135 - val_loss: 0.0274 - val_last_time_step_mse: 0.0126\n",
            "Epoch 10/20\n",
            "7000/7000 [==============================] - 5s 771us/sample - loss: 0.0272 - last_time_step_mse: 0.0126 - val_loss: 0.0268 - val_last_time_step_mse: 0.0126\n",
            "Epoch 11/20\n",
            "7000/7000 [==============================] - 5s 767us/sample - loss: 0.0269 - last_time_step_mse: 0.0126 - val_loss: 0.0262 - val_last_time_step_mse: 0.0120\n",
            "Epoch 12/20\n",
            "7000/7000 [==============================] - 5s 768us/sample - loss: 0.0264 - last_time_step_mse: 0.0122 - val_loss: 0.0264 - val_last_time_step_mse: 0.0128\n",
            "Epoch 13/20\n",
            "7000/7000 [==============================] - 5s 764us/sample - loss: 0.0261 - last_time_step_mse: 0.0120 - val_loss: 0.0260 - val_last_time_step_mse: 0.0123\n",
            "Epoch 14/20\n",
            "7000/7000 [==============================] - 5s 765us/sample - loss: 0.0258 - last_time_step_mse: 0.0119 - val_loss: 0.0254 - val_last_time_step_mse: 0.0116\n",
            "Epoch 15/20\n",
            "7000/7000 [==============================] - 5s 771us/sample - loss: 0.0256 - last_time_step_mse: 0.0117 - val_loss: 0.0258 - val_last_time_step_mse: 0.0127\n",
            "Epoch 16/20\n",
            "7000/7000 [==============================] - 5s 770us/sample - loss: 0.0254 - last_time_step_mse: 0.0116 - val_loss: 0.0253 - val_last_time_step_mse: 0.0116\n",
            "Epoch 17/20\n",
            "7000/7000 [==============================] - 5s 770us/sample - loss: 0.0252 - last_time_step_mse: 0.0116 - val_loss: 0.0250 - val_last_time_step_mse: 0.0118\n",
            "Epoch 18/20\n",
            "7000/7000 [==============================] - 5s 767us/sample - loss: 0.0248 - last_time_step_mse: 0.0111 - val_loss: 0.0250 - val_last_time_step_mse: 0.0120\n",
            "Epoch 19/20\n",
            "7000/7000 [==============================] - 5s 757us/sample - loss: 0.0246 - last_time_step_mse: 0.0110 - val_loss: 0.0243 - val_last_time_step_mse: 0.0109\n",
            "Epoch 20/20\n",
            "7000/7000 [==============================] - 5s 765us/sample - loss: 0.0245 - last_time_step_mse: 0.0110 - val_loss: 0.0246 - val_last_time_step_mse: 0.0111\n"
          ],
          "name": "stdout"
        }
      ]
    },
    {
      "cell_type": "code",
      "metadata": {
        "id": "dIrFK0MPM_Tx",
        "colab_type": "code",
        "outputId": "9eb4692f-6881-4f96-a6b9-88ec34d7746c",
        "colab": {
          "base_uri": "https://localhost:8080/",
          "height": 51
        }
      },
      "source": [
        "model.evaluate(X_valid, Y_valid)"
      ],
      "execution_count": 0,
      "outputs": [
        {
          "output_type": "stream",
          "text": [
            "2000/2000 [==============================] - 0s 238us/sample - loss: 0.0246 - last_time_step_mse: 0.0111\n"
          ],
          "name": "stdout"
        },
        {
          "output_type": "execute_result",
          "data": {
            "text/plain": [
              "[0.024557730928063393, 0.011060882]"
            ]
          },
          "metadata": {
            "tags": []
          },
          "execution_count": 76
        }
      ]
    },
    {
      "cell_type": "code",
      "metadata": {
        "id": "SxbZlxR5M_T0",
        "colab_type": "code",
        "outputId": "4a32c792-dcf1-4481-ecc5-92180afb035d",
        "colab": {
          "base_uri": "https://localhost:8080/",
          "height": 291
        }
      },
      "source": [
        "plot_learning_curves(history.history[\"loss\"], history.history[\"val_loss\"])\n",
        "plt.show()"
      ],
      "execution_count": 0,
      "outputs": [
        {
          "output_type": "display_data",
          "data": {
            "image/png": "[encoded data removed]",
            "text/plain": [
              "<Figure size 432x288 with 1 Axes>"
            ]
          },
          "metadata": {
            "tags": []
          }
        }
      ]
    },
    {
      "cell_type": "code",
      "metadata": {
        "id": "o_mbhy8gM_T2",
        "colab_type": "code",
        "colab": {}
      },
      "source": [
        "np.random.seed(43)\n",
        "\n",
        "series = generate_time_series(1, 50 + 10)\n",
        "X_new, Y_new = series[:, :50, :], series[:, 50:, :]\n",
        "Y_pred = model.predict(X_new)[:, -1][..., np.newaxis]"
      ],
      "execution_count": 0,
      "outputs": []
    },
    {
      "cell_type": "code",
      "metadata": {
        "scrolled": true,
        "id": "wUEkmoEVM_T4",
        "colab_type": "code",
        "outputId": "eeb0c396-a0e3-44cd-a667-d55d040fe40c",
        "colab": {
          "base_uri": "https://localhost:8080/",
          "height": 293
        }
      },
      "source": [
        "plot_multiple_forecasts(X_new, Y_new, Y_pred)\n",
        "plt.show()"
      ],
      "execution_count": 0,
      "outputs": [
        {
          "output_type": "display_data",
          "data": {
            "image/png": "[encoded data removed]",
            "text/plain": [
              "<Figure size 432x288 with 1 Axes>"
            ]
          },
          "metadata": {
            "tags": []
          }
        }
      ]
    },
    {
      "cell_type": "markdown",
      "metadata": {
        "id": "JlmlGvPGM_UE",
        "colab_type": "text"
      },
      "source": [
        "## Using One-Dimensional Convolutional Layers to Process Sequences"
      ]
    },
    {
      "cell_type": "markdown",
      "metadata": {
        "id": "Xa2C6BU-M_UH",
        "colab_type": "text"
      },
      "source": [
        "```\n",
        "1D conv layer with kernel size 4, stride 2, VALID padding:\n",
        "\n",
        "              |-----2-----|     |-----5---...------|     |-----23----|\n",
        "        |-----1-----|     |-----4-----|   ...      |-----22----|\n",
        "  |-----0----|      |-----3-----|     |---...|-----21----|\n",
        "X: 0  1  2  3  4  5  6  7  8  9  10 11 12 ... 42 43 44 45 46 47 48 49\n",
        "Y: 1  2  3  4  5  6  7  8  9  10 11 12 13 ... 43 44 45 46 47 48 49 50\n",
        "  /10 11 12 13 14 15 16 17 18 19 20 21 22 ... 52 53 54 55 56 57 58 59\n",
        "\n",
        "Output:\n",
        "\n",
        "X:     0/3   2/5   4/7   6/9   8/11 10/13 .../43 42/45 44/47 46/49\n",
        "Y:     4/13  6/15  8/17 10/19 12/21 14/23 .../53 46/55 48/57 50/59\n",
        "```"
      ]
    },
    {
      "cell_type": "code",
      "metadata": {
        "id": "YYrgSYwiM_UI",
        "colab_type": "code",
        "outputId": "d1b142b2-a69f-4fcc-bac0-e14841bfe999",
        "colab": {
          "base_uri": "https://localhost:8080/",
          "height": 714
        }
      },
      "source": [
        "np.random.seed(42)\n",
        "tf.random.set_seed(42)\n",
        "\n",
        "model = keras.models.Sequential([\n",
        "    keras.layers.Conv1D(filters=20, kernel_size=4, strides=2, padding=\"valid\",\n",
        "                        input_shape=[None, 1]),\n",
        "    keras.layers.GRU(20, return_sequences=True),\n",
        "    keras.layers.GRU(20, return_sequences=True),\n",
        "    keras.layers.TimeDistributed(keras.layers.Dense(10))\n",
        "])\n",
        "\n",
        "model.compile(loss=\"mse\", optimizer=\"adam\", metrics=[last_time_step_mse])\n",
        "\n",
        "# skip the first 3 timesteps in the targets and downsample the targets by a factor of 2\n",
        "history = model.fit(X_train, Y_train[:, 3::2], epochs=20,\n",
        "                    validation_data=(X_valid, Y_valid[:, 3::2]))"
      ],
      "execution_count": 0,
      "outputs": [
        {
          "output_type": "stream",
          "text": [
            "Train on 7000 samples, validate on 2000 samples\n",
            "Epoch 1/20\n",
            "7000/7000 [==============================] - 6s 913us/sample - loss: 0.0681 - last_time_step_mse: 0.0608 - val_loss: 0.0477 - val_last_time_step_mse: 0.0397\n",
            "Epoch 2/20\n",
            "7000/7000 [==============================] - 3s 490us/sample - loss: 0.0411 - last_time_step_mse: 0.0338 - val_loss: 0.0367 - val_last_time_step_mse: 0.0287\n",
            "Epoch 3/20\n",
            "7000/7000 [==============================] - 3s 487us/sample - loss: 0.0339 - last_time_step_mse: 0.0259 - val_loss: 0.0310 - val_last_time_step_mse: 0.0217\n",
            "Epoch 4/20\n",
            "7000/7000 [==============================] - 3s 490us/sample - loss: 0.0284 - last_time_step_mse: 0.0186 - val_loss: 0.0260 - val_last_time_step_mse: 0.0151\n",
            "Epoch 5/20\n",
            "7000/7000 [==============================] - 3s 484us/sample - loss: 0.0248 - last_time_step_mse: 0.0140 - val_loss: 0.0243 - val_last_time_step_mse: 0.0137\n",
            "Epoch 6/20\n",
            "7000/7000 [==============================] - 3s 482us/sample - loss: 0.0234 - last_time_step_mse: 0.0126 - val_loss: 0.0228 - val_last_time_step_mse: 0.0118\n",
            "Epoch 7/20\n",
            "7000/7000 [==============================] - 3s 480us/sample - loss: 0.0227 - last_time_step_mse: 0.0119 - val_loss: 0.0222 - val_last_time_step_mse: 0.0112\n",
            "Epoch 8/20\n",
            "7000/7000 [==============================] - 3s 480us/sample - loss: 0.0221 - last_time_step_mse: 0.0112 - val_loss: 0.0217 - val_last_time_step_mse: 0.0109\n",
            "Epoch 9/20\n",
            "7000/7000 [==============================] - 3s 477us/sample - loss: 0.0217 - last_time_step_mse: 0.0109 - val_loss: 0.0215 - val_last_time_step_mse: 0.0108\n",
            "Epoch 10/20\n",
            "7000/7000 [==============================] - 3s 475us/sample - loss: 0.0212 - last_time_step_mse: 0.0105 - val_loss: 0.0210 - val_last_time_step_mse: 0.0102\n",
            "Epoch 11/20\n",
            "7000/7000 [==============================] - 3s 484us/sample - loss: 0.0210 - last_time_step_mse: 0.0105 - val_loss: 0.0208 - val_last_time_step_mse: 0.0098\n",
            "Epoch 12/20\n",
            "7000/7000 [==============================] - 3s 486us/sample - loss: 0.0207 - last_time_step_mse: 0.0101 - val_loss: 0.0206 - val_last_time_step_mse: 0.0100\n",
            "Epoch 13/20\n",
            "7000/7000 [==============================] - 3s 494us/sample - loss: 0.0204 - last_time_step_mse: 0.0099 - val_loss: 0.0205 - val_last_time_step_mse: 0.0099\n",
            "Epoch 14/20\n",
            "7000/7000 [==============================] - 3s 494us/sample - loss: 0.0202 - last_time_step_mse: 0.0098 - val_loss: 0.0200 - val_last_time_step_mse: 0.0094\n",
            "Epoch 15/20\n",
            "7000/7000 [==============================] - 3s 482us/sample - loss: 0.0200 - last_time_step_mse: 0.0096 - val_loss: 0.0200 - val_last_time_step_mse: 0.0094\n",
            "Epoch 16/20\n",
            "7000/7000 [==============================] - 3s 482us/sample - loss: 0.0197 - last_time_step_mse: 0.0094 - val_loss: 0.0200 - val_last_time_step_mse: 0.0094\n",
            "Epoch 17/20\n",
            "7000/7000 [==============================] - 3s 479us/sample - loss: 0.0196 - last_time_step_mse: 0.0093 - val_loss: 0.0195 - val_last_time_step_mse: 0.0093\n",
            "Epoch 18/20\n",
            "7000/7000 [==============================] - 3s 479us/sample - loss: 0.0193 - last_time_step_mse: 0.0090 - val_loss: 0.0195 - val_last_time_step_mse: 0.0090\n",
            "Epoch 19/20\n",
            "7000/7000 [==============================] - 3s 499us/sample - loss: 0.0190 - last_time_step_mse: 0.0088 - val_loss: 0.0188 - val_last_time_step_mse: 0.0084\n",
            "Epoch 20/20\n",
            "7000/7000 [==============================] - 4s 509us/sample - loss: 0.0187 - last_time_step_mse: 0.0085 - val_loss: 0.0186 - val_last_time_step_mse: 0.0081\n"
          ],
          "name": "stdout"
        }
      ]
    },
    {
      "cell_type": "code",
      "metadata": {
        "id": "BehGg2yAgjV4",
        "colab_type": "code",
        "outputId": "3413201d-0de3-4633-cebe-21770a674e7c",
        "colab": {
          "base_uri": "https://localhost:8080/",
          "height": 293
        }
      },
      "source": [
        "np.random.seed(43)\n",
        "\n",
        "series = generate_time_series(1, 50 + 10)\n",
        "X_new, Y_new = series[:, :50, :], series[:, 50:, :]\n",
        "Y_pred = model.predict(X_new)[:, -1][..., np.newaxis]\n",
        "plot_multiple_forecasts(X_new, Y_new, Y_pred)\n",
        "plt.show()"
      ],
      "execution_count": 0,
      "outputs": [
        {
          "output_type": "display_data",
          "data": {
            "image/png": "[encoded data removed]",
            "text/plain": [
              "<Figure size 432x288 with 1 Axes>"
            ]
          },
          "metadata": {
            "tags": []
          }
        }
      ]
    },
    {
      "cell_type": "markdown",
      "metadata": {
        "id": "Di6Ew60AM_UJ",
        "colab_type": "text"
      },
      "source": [
        "## WaveNet"
      ]
    },
    {
      "cell_type": "markdown",
      "metadata": {
        "id": "ubCXvzH7M_UK",
        "colab_type": "text"
      },
      "source": [
        "![alt text](https://cdn-images-1.medium.com/max/1400/1*0TbaaX8l86ghbGEhuSjPzw.jpeg)\n",
        "\n",
        "Please check this gif: https://deepmind.com/blog/wavenet-generative-model-raw-audio/#gif-7"
      ]
    },
    {
      "cell_type": "code",
      "metadata": {
        "id": "0ZfsYfXUM_UL",
        "colab_type": "code",
        "outputId": "cafc2ed5-69bb-4129-8777-010cefb75ae4",
        "colab": {
          "base_uri": "https://localhost:8080/",
          "height": 459
        }
      },
      "source": [
        "# dilated convolution: https://arxiv.org/pdf/1511.07122.pdf\n",
        "\n",
        "np.random.seed(42)\n",
        "tf.random.set_seed(42)\n",
        "\n",
        "model = keras.models.Sequential()\n",
        "model.add(keras.layers.InputLayer(input_shape=[None, 1]))\n",
        "for rate in (1, 2, 4, 8) * 2:\n",
        "    model.add(keras.layers.Conv1D(filters=20, kernel_size=2, padding=\"causal\",\n",
        "                                  activation=\"relu\", dilation_rate=rate))\n",
        "model.add(keras.layers.Conv1D(filters=10, kernel_size=1))\n",
        "\n",
        "model.summary()"
      ],
      "execution_count": 0,
      "outputs": [
        {
          "output_type": "stream",
          "text": [
            "Model: \"sequential_21\"\n",
            "_________________________________________________________________\n",
            "Layer (type)                 Output Shape              Param #   \n",
            "=================================================================\n",
            "conv1d_27 (Conv1D)           (None, None, 20)          60        \n",
            "_________________________________________________________________\n",
            "conv1d_28 (Conv1D)           (None, None, 20)          820       \n",
            "_________________________________________________________________\n",
            "conv1d_29 (Conv1D)           (None, None, 20)          820       \n",
            "_________________________________________________________________\n",
            "conv1d_30 (Conv1D)           (None, None, 20)          820       \n",
            "_________________________________________________________________\n",
            "conv1d_31 (Conv1D)           (None, None, 20)          820       \n",
            "_________________________________________________________________\n",
            "conv1d_32 (Conv1D)           (None, None, 20)          820       \n",
            "_________________________________________________________________\n",
            "conv1d_33 (Conv1D)           (None, None, 20)          820       \n",
            "_________________________________________________________________\n",
            "conv1d_34 (Conv1D)           (None, None, 20)          820       \n",
            "_________________________________________________________________\n",
            "conv1d_35 (Conv1D)           (None, None, 10)          210       \n",
            "=================================================================\n",
            "Total params: 6,010\n",
            "Trainable params: 6,010\n",
            "Non-trainable params: 0\n",
            "_________________________________________________________________\n"
          ],
          "name": "stdout"
        }
      ]
    },
    {
      "cell_type": "code",
      "metadata": {
        "id": "qk7EkXATb435",
        "colab_type": "code",
        "outputId": "8fdea15c-89d0-4213-e57b-b58603d013d0",
        "colab": {
          "base_uri": "https://localhost:8080/",
          "height": 714
        }
      },
      "source": [
        "model.compile(loss=\"mse\", optimizer=\"adam\", metrics=[last_time_step_mse])\n",
        "history = model.fit(X_train, Y_train, epochs=20,\n",
        "                    validation_data=(X_valid, Y_valid))"
      ],
      "execution_count": 0,
      "outputs": [
        {
          "output_type": "stream",
          "text": [
            "Train on 7000 samples, validate on 2000 samples\n",
            "Epoch 1/20\n",
            "7000/7000 [==============================] - 4s 592us/sample - loss: 0.0669 - last_time_step_mse: 0.0547 - val_loss: 0.0372 - val_last_time_step_mse: 0.0244\n",
            "Epoch 2/20\n",
            "7000/7000 [==============================] - 2s 324us/sample - loss: 0.0326 - last_time_step_mse: 0.0203 - val_loss: 0.0296 - val_last_time_step_mse: 0.0174\n",
            "Epoch 3/20\n",
            "7000/7000 [==============================] - 2s 340us/sample - loss: 0.0285 - last_time_step_mse: 0.0170 - val_loss: 0.0270 - val_last_time_step_mse: 0.0155\n",
            "Epoch 4/20\n",
            "7000/7000 [==============================] - 2s 338us/sample - loss: 0.0266 - last_time_step_mse: 0.0152 - val_loss: 0.0261 - val_last_time_step_mse: 0.0144\n",
            "Epoch 5/20\n",
            "7000/7000 [==============================] - 2s 338us/sample - loss: 0.0253 - last_time_step_mse: 0.0138 - val_loss: 0.0245 - val_last_time_step_mse: 0.0129\n",
            "Epoch 6/20\n",
            "7000/7000 [==============================] - 2s 338us/sample - loss: 0.0245 - last_time_step_mse: 0.0130 - val_loss: 0.0239 - val_last_time_step_mse: 0.0122\n",
            "Epoch 7/20\n",
            "7000/7000 [==============================] - 2s 350us/sample - loss: 0.0239 - last_time_step_mse: 0.0124 - val_loss: 0.0233 - val_last_time_step_mse: 0.0115\n",
            "Epoch 8/20\n",
            "7000/7000 [==============================] - 2s 330us/sample - loss: 0.0231 - last_time_step_mse: 0.0116 - val_loss: 0.0227 - val_last_time_step_mse: 0.0112\n",
            "Epoch 9/20\n",
            "7000/7000 [==============================] - 2s 323us/sample - loss: 0.0226 - last_time_step_mse: 0.0111 - val_loss: 0.0225 - val_last_time_step_mse: 0.0109\n",
            "Epoch 10/20\n",
            "7000/7000 [==============================] - 2s 344us/sample - loss: 0.0224 - last_time_step_mse: 0.0110 - val_loss: 0.0222 - val_last_time_step_mse: 0.0109\n",
            "Epoch 11/20\n",
            "7000/7000 [==============================] - 2s 334us/sample - loss: 0.0219 - last_time_step_mse: 0.0104 - val_loss: 0.0218 - val_last_time_step_mse: 0.0104\n",
            "Epoch 12/20\n",
            "7000/7000 [==============================] - 2s 327us/sample - loss: 0.0217 - last_time_step_mse: 0.0101 - val_loss: 0.0213 - val_last_time_step_mse: 0.0097\n",
            "Epoch 13/20\n",
            "7000/7000 [==============================] - 2s 340us/sample - loss: 0.0213 - last_time_step_mse: 0.0099 - val_loss: 0.0209 - val_last_time_step_mse: 0.0095\n",
            "Epoch 14/20\n",
            "7000/7000 [==============================] - 2s 338us/sample - loss: 0.0211 - last_time_step_mse: 0.0095 - val_loss: 0.0210 - val_last_time_step_mse: 0.0096\n",
            "Epoch 15/20\n",
            "7000/7000 [==============================] - 2s 342us/sample - loss: 0.0208 - last_time_step_mse: 0.0092 - val_loss: 0.0208 - val_last_time_step_mse: 0.0096\n",
            "Epoch 16/20\n",
            "7000/7000 [==============================] - 2s 346us/sample - loss: 0.0204 - last_time_step_mse: 0.0089 - val_loss: 0.0205 - val_last_time_step_mse: 0.0091\n",
            "Epoch 17/20\n",
            "7000/7000 [==============================] - 2s 351us/sample - loss: 0.0202 - last_time_step_mse: 0.0087 - val_loss: 0.0198 - val_last_time_step_mse: 0.0083\n",
            "Epoch 18/20\n",
            "7000/7000 [==============================] - 2s 351us/sample - loss: 0.0198 - last_time_step_mse: 0.0081 - val_loss: 0.0198 - val_last_time_step_mse: 0.0085\n",
            "Epoch 19/20\n",
            "7000/7000 [==============================] - 2s 340us/sample - loss: 0.0196 - last_time_step_mse: 0.0081 - val_loss: 0.0196 - val_last_time_step_mse: 0.0082\n",
            "Epoch 20/20\n",
            "7000/7000 [==============================] - 2s 335us/sample - loss: 0.0194 - last_time_step_mse: 0.0077 - val_loss: 0.0199 - val_last_time_step_mse: 0.0087\n"
          ],
          "name": "stdout"
        }
      ]
    },
    {
      "cell_type": "code",
      "metadata": {
        "id": "OAtw3leKba-c",
        "colab_type": "code",
        "colab": {}
      },
      "source": [
        "np.random.seed(43)\n",
        "\n",
        "series = generate_time_series(1, 50 + 10)\n",
        "X_new, Y_new = series[:, :50, :], series[:, 50:, :]\n",
        "Y_pred = model.predict(X_new)[:, -1][..., np.newaxis]"
      ],
      "execution_count": 0,
      "outputs": []
    },
    {
      "cell_type": "code",
      "metadata": {
        "id": "pMbKnhu3bm37",
        "colab_type": "code",
        "outputId": "1cd33c41-a20b-48d4-c0bd-dbf684a31266",
        "colab": {
          "base_uri": "https://localhost:8080/",
          "height": 293
        }
      },
      "source": [
        "plot_multiple_forecasts(X_new, Y_new, Y_pred)\n",
        "plt.show()"
      ],
      "execution_count": 0,
      "outputs": [
        {
          "output_type": "display_data",
          "data": {
            "image/png": "[encoded data removed]",
            "text/plain": [
              "<Figure size 432x288 with 1 Axes>"
            ]
          },
          "metadata": {
            "tags": []
          }
        }
      ]
    },
    {
      "cell_type": "markdown",
      "metadata": {
        "collapsed": true,
        "id": "Ku_b8xtHM_UX",
        "colab_type": "text"
      },
      "source": [
        "## Exercise"
      ]
    },
    {
      "cell_type": "code",
      "metadata": {
        "id": "k6PVolmHxmMz",
        "colab_type": "code",
        "colab": {}
      },
      "source": [
        "def generate_cos_time_series(batch_size, n_steps):\n",
        "    freq1, freq2, offsets1, offsets2 = np.random.rand(4, batch_size, 1)\n",
        "    time = np.linspace(0, 1, n_steps)                             # Return evenly spaced numbers over a specified interval\n",
        "    series = 0.5 * np.cos((time - offsets1) * (freq1 * 10 + 10))  #   wave 1\n",
        "    series += 0.2 * np.cos((time - offsets2) * (freq2 * 20 + 20)) # + wave 2\n",
        "    series += 0.1 * (np.random.rand(batch_size, n_steps) - 0.5)   # + noise\n",
        "    return series[..., np.newaxis].astype(np.float32)"
      ],
      "execution_count": 0,
      "outputs": []
    },
    {
      "cell_type": "code",
      "metadata": {
        "id": "UKiaV7U7yvNi",
        "colab_type": "code",
        "colab": {}
      },
      "source": [
        "np.random.seed(42)\n",
        "\n",
        "n_steps = 50\n",
        "series = generate_cos_time_series(10000, n_steps + 10)\n",
        "X_train = series[:7000, :n_steps]\n",
        "X_valid = series[7000:9000, :n_steps]\n",
        "X_test = series[9000:, :n_steps]\n",
        "Y = np.empty((10000, n_steps, 10))\n",
        "\n",
        "for step_ahead in range(1, 10 + 1):\n",
        "    Y[..., step_ahead - 1] = series[..., step_ahead:step_ahead + n_steps, 0]\n",
        "\n",
        "Y_train = Y[:7000]\n",
        "Y_valid = Y[7000:9000]\n",
        "Y_test = Y[9000:]"
      ],
      "execution_count": 0,
      "outputs": []
    },
    {
      "cell_type": "code",
      "metadata": {
        "id": "9EXmdCeYxq7D",
        "colab_type": "code",
        "outputId": "6b145b25-8256-45f0-f673-afdce934aa81",
        "colab": {
          "base_uri": "https://localhost:8080/",
          "height": 34
        }
      },
      "source": [
        "X_train.shape, Y_train.shape"
      ],
      "execution_count": 0,
      "outputs": [
        {
          "output_type": "execute_result",
          "data": {
            "text/plain": [
              "((7000, 50, 1), (7000, 50, 10))"
            ]
          },
          "metadata": {
            "tags": []
          },
          "execution_count": 39
        }
      ]
    },
    {
      "cell_type": "code",
      "metadata": {
        "id": "rR-sZZQlxsfK",
        "colab_type": "code",
        "outputId": "e9dd5a19-b258-4541-9038-0392871c8a1c",
        "colab": {
          "base_uri": "https://localhost:8080/",
          "height": 714
        }
      },
      "source": [
        "np.random.seed(42)\n",
        "tf.random.set_seed(42)\n",
        "\n",
        "''' \n",
        "TODO\n",
        "1. Construct the network.\n",
        "2. Define the loss function and optimizer\n",
        "3. train the model\n",
        "'''\n",
        "\n",
        "model = keras.models.Sequential([\n",
        "   '''\n",
        "   Define your network here\n",
        "   '''\n",
        "])\n",
        "\n",
        "'''\n",
        "Define the loss the optimizer\n",
        "'''\n",
        "model.compile(loss=???, optimizer=???, metrics=[last_time_step_mse])\n",
        "history = model.fit(X_train, Y_train, epochs=???, validation_data=(X_valid, Y_valid))"
      ],
      "execution_count": 0,
      "outputs": [
        {
          "output_type": "stream",
          "text": [
            "Train on 7000 samples, validate on 2000 samples\n",
            "Epoch 1/20\n",
            "7000/7000 [==============================] - 9s 1ms/sample - loss: 0.0754 - last_time_step_mse: 0.0617 - val_loss: 0.0544 - val_last_time_step_mse: 0.0361\n",
            "Epoch 2/20\n",
            "7000/7000 [==============================] - 5s 764us/sample - loss: 0.0462 - last_time_step_mse: 0.0263 - val_loss: 0.0409 - val_last_time_step_mse: 0.0200\n",
            "Epoch 3/20\n",
            "7000/7000 [==============================] - 5s 766us/sample - loss: 0.0378 - last_time_step_mse: 0.0177 - val_loss: 0.0359 - val_last_time_step_mse: 0.0164\n",
            "Epoch 4/20\n",
            "7000/7000 [==============================] - 5s 763us/sample - loss: 0.0344 - last_time_step_mse: 0.0154 - val_loss: 0.0329 - val_last_time_step_mse: 0.0136\n",
            "Epoch 5/20\n",
            "7000/7000 [==============================] - 5s 771us/sample - loss: 0.0321 - last_time_step_mse: 0.0139 - val_loss: 0.0309 - val_last_time_step_mse: 0.0127\n",
            "Epoch 6/20\n",
            "7000/7000 [==============================] - 5s 766us/sample - loss: 0.0304 - last_time_step_mse: 0.0126 - val_loss: 0.0300 - val_last_time_step_mse: 0.0123\n",
            "Epoch 7/20\n",
            "7000/7000 [==============================] - 5s 769us/sample - loss: 0.0293 - last_time_step_mse: 0.0119 - val_loss: 0.0286 - val_last_time_step_mse: 0.0113\n",
            "Epoch 8/20\n",
            "7000/7000 [==============================] - 5s 765us/sample - loss: 0.0285 - last_time_step_mse: 0.0114 - val_loss: 0.0279 - val_last_time_step_mse: 0.0107\n",
            "Epoch 9/20\n",
            "7000/7000 [==============================] - 5s 756us/sample - loss: 0.0277 - last_time_step_mse: 0.0108 - val_loss: 0.0271 - val_last_time_step_mse: 0.0105\n",
            "Epoch 10/20\n",
            "7000/7000 [==============================] - 5s 761us/sample - loss: 0.0271 - last_time_step_mse: 0.0106 - val_loss: 0.0267 - val_last_time_step_mse: 0.0105\n",
            "Epoch 11/20\n",
            "7000/7000 [==============================] - 5s 765us/sample - loss: 0.0265 - last_time_step_mse: 0.0102 - val_loss: 0.0262 - val_last_time_step_mse: 0.0098\n",
            "Epoch 12/20\n",
            "7000/7000 [==============================] - 5s 766us/sample - loss: 0.0260 - last_time_step_mse: 0.0098 - val_loss: 0.0262 - val_last_time_step_mse: 0.0098\n",
            "Epoch 13/20\n",
            "7000/7000 [==============================] - 5s 767us/sample - loss: 0.0257 - last_time_step_mse: 0.0096 - val_loss: 0.0254 - val_last_time_step_mse: 0.0096\n",
            "Epoch 14/20\n",
            "7000/7000 [==============================] - 5s 758us/sample - loss: 0.0253 - last_time_step_mse: 0.0095 - val_loss: 0.0256 - val_last_time_step_mse: 0.0105\n",
            "Epoch 15/20\n",
            "7000/7000 [==============================] - 5s 750us/sample - loss: 0.0250 - last_time_step_mse: 0.0093 - val_loss: 0.0250 - val_last_time_step_mse: 0.0094\n",
            "Epoch 16/20\n",
            "7000/7000 [==============================] - 5s 762us/sample - loss: 0.0248 - last_time_step_mse: 0.0092 - val_loss: 0.0249 - val_last_time_step_mse: 0.0098\n",
            "Epoch 17/20\n",
            "7000/7000 [==============================] - 5s 761us/sample - loss: 0.0245 - last_time_step_mse: 0.0091 - val_loss: 0.0244 - val_last_time_step_mse: 0.0091\n",
            "Epoch 18/20\n",
            "7000/7000 [==============================] - 5s 766us/sample - loss: 0.0243 - last_time_step_mse: 0.0089 - val_loss: 0.0242 - val_last_time_step_mse: 0.0092\n",
            "Epoch 19/20\n",
            "7000/7000 [==============================] - 5s 767us/sample - loss: 0.0242 - last_time_step_mse: 0.0090 - val_loss: 0.0240 - val_last_time_step_mse: 0.0090\n",
            "Epoch 20/20\n",
            "7000/7000 [==============================] - 5s 767us/sample - loss: 0.0238 - last_time_step_mse: 0.0087 - val_loss: 0.0240 - val_last_time_step_mse: 0.0090\n"
          ],
          "name": "stdout"
        }
      ]
    },
    {
      "cell_type": "code",
      "metadata": {
        "id": "VQ3ySUANxuNt",
        "colab_type": "code",
        "colab": {}
      },
      "source": [
        "np.random.seed(50) # not 42, as it would give the first series in the train set\n",
        "\n",
        "series = generate_time_series(1, n_steps + 20)            # generate a time series for testing\n",
        "X_new, Y_new = series[:, :n_steps], series[:, n_steps:]   # X_new: 50 steps, Y_new: 20 steps\n",
        "X = X_new\n",
        "\n",
        "for step_ahead in range(2):\n",
        "    y_pred_one = model.predict(X[:, step_ahead*10:])[:, -1][...,np.newaxis]\n",
        "    X = np.concatenate([X, y_pred_one], axis=1)\n",
        "\n",
        "Y_pred = X[:, n_steps:]"
      ],
      "execution_count": 0,
      "outputs": []
    },
    {
      "cell_type": "code",
      "metadata": {
        "id": "2DhsdZMd0Xcp",
        "colab_type": "code",
        "outputId": "d330589d-ca71-4163-be1f-497803be08fc",
        "colab": {
          "base_uri": "https://localhost:8080/",
          "height": 293
        }
      },
      "source": [
        "plot_multiple_forecasts(X_new, Y_new, Y_pred)\n",
        "plt.show()"
      ],
      "execution_count": 0,
      "outputs": [
        {
          "output_type": "display_data",
          "data": {
            "image/png": "[encoded data removed]",
            "text/plain": [
              "<Figure size 432x288 with 1 Axes>"
            ]
          },
          "metadata": {
            "tags": []
          }
        }
      ]
    }
  ]
}