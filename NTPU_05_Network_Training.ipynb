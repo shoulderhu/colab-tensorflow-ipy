{
  "nbformat": 4,
  "nbformat_minor": 0,
  "metadata": {
    "colab": {
      "name": "NTPU_05_Network_Training.ipynb",
      "version": "0.3.2",
      "provenance": [],
      "collapsed_sections": [
        "R2OeoykwQeoh",
        "QXEsXNIo7WP_",
        "EJKmuVpAUoK3",
        "E2P3pYC9y4rA",
        "JwN54SA-zIyt",
        "R7_3mtfZ53em",
        "UcWhhEgi7so0",
        "I3ov7Eid70kr"
      ],
      "include_colab_link": true
    },
    "kernelspec": {
      "name": "python3",
      "display_name": "Python 3"
    },
    "accelerator": "GPU"
  },
  "cells": [
    {
      "cell_type": "markdown",
      "metadata": {
        "id": "view-in-github",
        "colab_type": "text"
      },
      "source": [
        "<a href=\"https://colab.research.google.com/github/shoulderhu/colab-tensorflow-ipy/blob/master/NTPU_05_Network_Training.ipynb\" target=\"_parent\"><img src=\"https://colab.research.google.com/assets/colab-badge.svg\" alt=\"Open In Colab\"/></a>"
      ]
    },
    {
      "cell_type": "markdown",
      "metadata": {
        "id": "_8xxyMMi6WKk",
        "colab_type": "text"
      },
      "source": [
        "# Lab 5: Training Techniques and ResNet"
      ]
    },
    {
      "cell_type": "markdown",
      "metadata": {
        "id": "R2OeoykwQeoh",
        "colab_type": "text"
      },
      "source": [
        "## Part 0: Preliminaries"
      ]
    },
    {
      "cell_type": "code",
      "metadata": {
        "id": "t9Mm6XzYJz3j",
        "colab_type": "code",
        "colab": {}
      },
      "source": [
        "!pip uninstall -y tensorflow"
      ],
      "execution_count": 0,
      "outputs": []
    },
    {
      "cell_type": "code",
      "metadata": {
        "id": "U1dt8p9A6SXW",
        "colab_type": "code",
        "outputId": "1c8cfd33-9c78-4680-cab3-ab1886e2e00e",
        "colab": {
          "base_uri": "https://localhost:8080/",
          "height": 377
        }
      },
      "source": [
        "!pip install -U tensorflow-gpu==2.0.0-beta1"
      ],
      "execution_count": 0,
      "outputs": [
        {
          "output_type": "stream",
          "text": [
            "Requirement already up-to-date: tensorflow-gpu==2.0.0-beta1 in /usr/local/lib/python3.6/dist-packages (2.0.0b1)\n",
            "Requirement already satisfied, skipping upgrade: termcolor>=1.1.0 in /usr/local/lib/python3.6/dist-packages (from tensorflow-gpu==2.0.0-beta1) (1.1.0)\n",
            "Requirement already satisfied, skipping upgrade: absl-py>=0.7.0 in /usr/local/lib/python3.6/dist-packages (from tensorflow-gpu==2.0.0-beta1) (0.7.1)\n",
            "Requirement already satisfied, skipping upgrade: gast>=0.2.0 in /usr/local/lib/python3.6/dist-packages (from tensorflow-gpu==2.0.0-beta1) (0.2.2)\n",
            "Requirement already satisfied, skipping upgrade: numpy<2.0,>=1.14.5 in /usr/local/lib/python3.6/dist-packages (from tensorflow-gpu==2.0.0-beta1) (1.16.4)\n",
            "Requirement already satisfied, skipping upgrade: tb-nightly<1.14.0a20190604,>=1.14.0a20190603 in /usr/local/lib/python3.6/dist-packages (from tensorflow-gpu==2.0.0-beta1) (1.14.0a20190603)\n",
            "Requirement already satisfied, skipping upgrade: six>=1.10.0 in /usr/local/lib/python3.6/dist-packages (from tensorflow-gpu==2.0.0-beta1) (1.12.0)\n",
            "Requirement already satisfied, skipping upgrade: wheel>=0.26 in /usr/local/lib/python3.6/dist-packages (from tensorflow-gpu==2.0.0-beta1) (0.33.4)\n",
            "Requirement already satisfied, skipping upgrade: grpcio>=1.8.6 in /usr/local/lib/python3.6/dist-packages (from tensorflow-gpu==2.0.0-beta1) (1.15.0)\n",
            "Requirement already satisfied, skipping upgrade: protobuf>=3.6.1 in /usr/local/lib/python3.6/dist-packages (from tensorflow-gpu==2.0.0-beta1) (3.7.1)\n",
            "Requirement already satisfied, skipping upgrade: keras-preprocessing>=1.0.5 in /usr/local/lib/python3.6/dist-packages (from tensorflow-gpu==2.0.0-beta1) (1.1.0)\n",
            "Requirement already satisfied, skipping upgrade: google-pasta>=0.1.6 in /usr/local/lib/python3.6/dist-packages (from tensorflow-gpu==2.0.0-beta1) (0.1.7)\n",
            "Requirement already satisfied, skipping upgrade: tf-estimator-nightly<1.14.0.dev2019060502,>=1.14.0.dev2019060501 in /usr/local/lib/python3.6/dist-packages (from tensorflow-gpu==2.0.0-beta1) (1.14.0.dev2019060501)\n",
            "Requirement already satisfied, skipping upgrade: wrapt>=1.11.1 in /usr/local/lib/python3.6/dist-packages (from tensorflow-gpu==2.0.0-beta1) (1.11.2)\n",
            "Requirement already satisfied, skipping upgrade: astor>=0.6.0 in /usr/local/lib/python3.6/dist-packages (from tensorflow-gpu==2.0.0-beta1) (0.8.0)\n",
            "Requirement already satisfied, skipping upgrade: keras-applications>=1.0.6 in /usr/local/lib/python3.6/dist-packages (from tensorflow-gpu==2.0.0-beta1) (1.0.8)\n",
            "Requirement already satisfied, skipping upgrade: werkzeug>=0.11.15 in /usr/local/lib/python3.6/dist-packages (from tb-nightly<1.14.0a20190604,>=1.14.0a20190603->tensorflow-gpu==2.0.0-beta1) (0.15.4)\n",
            "Requirement already satisfied, skipping upgrade: markdown>=2.6.8 in /usr/local/lib/python3.6/dist-packages (from tb-nightly<1.14.0a20190604,>=1.14.0a20190603->tensorflow-gpu==2.0.0-beta1) (3.1.1)\n",
            "Requirement already satisfied, skipping upgrade: setuptools>=41.0.0 in /usr/local/lib/python3.6/dist-packages (from tb-nightly<1.14.0a20190604,>=1.14.0a20190603->tensorflow-gpu==2.0.0-beta1) (41.0.1)\n",
            "Requirement already satisfied, skipping upgrade: h5py in /usr/local/lib/python3.6/dist-packages (from keras-applications>=1.0.6->tensorflow-gpu==2.0.0-beta1) (2.8.0)\n"
          ],
          "name": "stdout"
        }
      ]
    },
    {
      "cell_type": "code",
      "metadata": {
        "id": "2cTLAnfH64hu",
        "colab_type": "code",
        "colab": {}
      },
      "source": [
        "# Python ≥3.5 is required\n",
        "import sys\n",
        "assert sys.version_info >= (3, 5)\n",
        "\n",
        "# Scikit-Learn ≥0.20 is required\n",
        "import sklearn\n",
        "assert sklearn.__version__ >= \"0.20\"\n",
        "\n",
        "# TensorFlow ≥2.0-preview is required\n",
        "import tensorflow as tf\n",
        "from tensorflow import keras\n",
        "assert tf.__version__ >= \"2.0\"\n",
        "\n",
        "# Common imports\n",
        "import numpy as np\n",
        "import os\n",
        "\n",
        "# to make this notebook's output stable across runs\n",
        "np.random.seed(42)\n",
        "\n",
        "# To plot pretty figures\n",
        "%matplotlib inline\n",
        "import matplotlib as mpl\n",
        "import matplotlib.pyplot as plt\n",
        "mpl.rc('axes', labelsize=14)\n",
        "mpl.rc('xtick', labelsize=12)\n",
        "mpl.rc('ytick', labelsize=12)\n",
        "\n",
        "# Where to save the figures\n",
        "PROJECT_ROOT_DIR = \".\"\n",
        "CHAPTER_ID = \"deep\"\n",
        "IMAGES_PATH = os.path.join(PROJECT_ROOT_DIR, \"images\", CHAPTER_ID)\n",
        "os.makedirs(IMAGES_PATH, exist_ok=True)\n",
        "\n",
        "def save_fig(fig_id, tight_layout=True, fig_extension=\"png\", resolution=300):\n",
        "    path = os.path.join(IMAGES_PATH, fig_id + \".\" + fig_extension)\n",
        "    print(\"Saving figure\", fig_id)\n",
        "    if tight_layout:\n",
        "        plt.tight_layout()\n",
        "    plt.savefig(path, format=fig_extension, dpi=resolution)"
      ],
      "execution_count": 0,
      "outputs": []
    },
    {
      "cell_type": "markdown",
      "metadata": {
        "id": "QXEsXNIo7WP_",
        "colab_type": "text"
      },
      "source": [
        "## Part 1: Activation Functions\n",
        "\n",
        "Let's list all the activation functions."
      ]
    },
    {
      "cell_type": "code",
      "metadata": {
        "id": "DW83bejZ7VrB",
        "colab_type": "code",
        "outputId": "7463b11f-9606-4c87-f26d-3e5dfa7a8a69",
        "colab": {
          "base_uri": "https://localhost:8080/",
          "height": 255
        }
      },
      "source": [
        "[m for m in dir(keras.activations) if not m.startswith(\"_\")]"
      ],
      "execution_count": 0,
      "outputs": [
        {
          "output_type": "execute_result",
          "data": {
            "text/plain": [
              "['deserialize',\n",
              " 'elu',\n",
              " 'exponential',\n",
              " 'get',\n",
              " 'hard_sigmoid',\n",
              " 'linear',\n",
              " 'relu',\n",
              " 'selu',\n",
              " 'serialize',\n",
              " 'sigmoid',\n",
              " 'softmax',\n",
              " 'softplus',\n",
              " 'softsign',\n",
              " 'tanh']"
            ]
          },
          "metadata": {
            "tags": []
          },
          "execution_count": 3
        }
      ]
    },
    {
      "cell_type": "markdown",
      "metadata": {
        "id": "LzShsuatypOJ",
        "colab_type": "text"
      },
      "source": [
        "Certain advanced activations are treated as layers in Keras. For these, do not specify any specific activation for the preceding layer. Simply add these advanced activations as a layer after a normal layer in your model."
      ]
    },
    {
      "cell_type": "code",
      "metadata": {
        "id": "bRXaIiYfx69T",
        "colab_type": "code",
        "outputId": "c008920d-a100-4d82-a49e-bd4e69750408",
        "colab": {
          "base_uri": "https://localhost:8080/",
          "height": 34
        }
      },
      "source": [
        "[m for m in dir(keras.layers) if \"relu\" in m.lower()]"
      ],
      "execution_count": 0,
      "outputs": [
        {
          "output_type": "execute_result",
          "data": {
            "text/plain": [
              "['LeakyReLU', 'PReLU', 'ReLU', 'ThresholdedReLU']"
            ]
          },
          "metadata": {
            "tags": []
          },
          "execution_count": 4
        }
      ]
    },
    {
      "cell_type": "markdown",
      "metadata": {
        "id": "EJKmuVpAUoK3",
        "colab_type": "text"
      },
      "source": [
        "### Softmax\n",
        "\n",
        "We've used the softmax activation many times now without explaining what it is. So let's talk about it now. Let's say we have a *k* class classification problem. For multinomial classifcation problems, we often use the softmax activation function to calculate the probability that an input belongs to a certain class, p_k. \n",
        "\n",
        "The way softmax works is, for each class, we will have a score:\n",
        "\n",
        "![alt text](https://drive.google.com/uc?id=1CN_oTjvwxTU_Nu4y1W8bipFv46UhEHmx)\n",
        "\n",
        "If you look at this closely, the score is just the weight multiplied by the input (so basically just what the neuron does before activation).\n",
        "\n",
        "Now, the probability that the input belongs to class *k* is:\n",
        "\n",
        "![alt text](https://drive.google.com/uc?id=1rSxk2Gp-VE2BFE_dzHtBRi8w-NushF8Z)\n",
        "\n",
        "where *K* is the total number of classes. So basically you divide the exponential score of this class by the sum of all the output exponentials of each class. This is different than, say, the linear ratio between class *k*'s score and the sum of all the scores. Namely, the softmax function makes the probability of the higher scored classes **further** apart from the ones with lower scores."
      ]
    },
    {
      "cell_type": "markdown",
      "metadata": {
        "id": "E2P3pYC9y4rA",
        "colab_type": "text"
      },
      "source": [
        "### Leaky ReLU\n",
        "\n",
        "Let's revisit the fashion MNIST problem using leaky ReLU."
      ]
    },
    {
      "cell_type": "code",
      "metadata": {
        "id": "KmU6ygDSaCR4",
        "colab_type": "code",
        "colab": {}
      },
      "source": [
        "# define the leaky relu activation function\n",
        "z = np.linspace(-5, 5, 200)\n",
        "\n",
        "def relu(z):\n",
        "    return np.where(z < 0, 0, z)\n",
        "  \n",
        "def leaky_relu(z, alpha=0.01):\n",
        "    return np.maximum(alpha*z, z)"
      ],
      "execution_count": 0,
      "outputs": []
    },
    {
      "cell_type": "code",
      "metadata": {
        "id": "jQnWneax12Tz",
        "colab_type": "code",
        "outputId": "e800e766-d827-4868-bcd5-0ced27f8daef",
        "colab": {
          "base_uri": "https://localhost:8080/",
          "height": 285
        }
      },
      "source": [
        "plt.plot(z, leaky_relu(z, 0.05), \"b-\", linewidth=2)\n",
        "plt.plot([-5, 5], [0, 0], 'k-')\n",
        "plt.plot([0, 0], [-0.5, 4.2], 'k-')\n",
        "plt.grid(True)\n",
        "props = dict(facecolor='black', shrink=0.1)\n",
        "plt.annotate('Leak', xytext=(-3.5, 0.5), xy=(-5, -0.2), arrowprops=props, fontsize=14, ha=\"center\")\n",
        "plt.title(\"Leaky ReLU activation function\", fontsize=14)\n",
        "plt.axis([-5, 5, -0.5, 4.2])\n",
        "\n",
        "plt.show()"
      ],
      "execution_count": 0,
      "outputs": [
        {
          "output_type": "display_data",
          "data": {
            "image/png": "[encoded data removed]",
            "text/plain": [
              "<Figure size 432x288 with 1 Axes>"
            ]
          },
          "metadata": {
            "tags": []
          }
        }
      ]
    },
    {
      "cell_type": "code",
      "metadata": {
        "id": "NVVO9mJ4x-CP",
        "colab_type": "code",
        "colab": {}
      },
      "source": [
        "(X_train_full, y_train_full), (X_test, y_test) = keras.datasets.fashion_mnist.load_data()\n",
        "X_train_full = X_train_full / 255.0\n",
        "X_test = X_test / 255.0\n",
        "X_valid, X_train = X_train_full[:5000], X_train_full[5000:]\n",
        "y_valid, y_train = y_train_full[:5000], y_train_full[5000:]"
      ],
      "execution_count": 0,
      "outputs": []
    },
    {
      "cell_type": "code",
      "metadata": {
        "id": "iXCHlTRpyAfk",
        "colab_type": "code",
        "colab": {}
      },
      "source": [
        "tf.random.set_seed(42)\n",
        "np.random.seed(42)\n",
        "\n",
        "model = keras.models.Sequential([\n",
        "    keras.layers.Flatten(input_shape=[28, 28]),\n",
        "    keras.layers.Dense(300, kernel_initializer=\"he_normal\"),\n",
        "    keras.layers.LeakyReLU(),\n",
        "    keras.layers.Dense(100, kernel_initializer=\"he_normal\"),\n",
        "    keras.layers.LeakyReLU(),\n",
        "    keras.layers.Dense(10, activation=\"softmax\")\n",
        "])"
      ],
      "execution_count": 0,
      "outputs": []
    },
    {
      "cell_type": "code",
      "metadata": {
        "id": "S_OOV2lpyBc_",
        "colab_type": "code",
        "colab": {}
      },
      "source": [
        "model.compile(loss=\"sparse_categorical_crossentropy\",\n",
        "              optimizer=keras.optimizers.SGD(lr=1e-3),\n",
        "              metrics=[\"accuracy\"])"
      ],
      "execution_count": 0,
      "outputs": []
    },
    {
      "cell_type": "code",
      "metadata": {
        "id": "wN3zy3hYyC2v",
        "colab_type": "code",
        "outputId": "cc7a1458-991b-4c85-e38e-cbb2180ab81a",
        "colab": {
          "base_uri": "https://localhost:8080/",
          "height": 462
        }
      },
      "source": [
        "history = model.fit(X_train, y_train, epochs=10,\n",
        "                    validation_data=(X_valid, y_valid))"
      ],
      "execution_count": 0,
      "outputs": [
        {
          "output_type": "stream",
          "text": [
            "WARNING: Logging before flag parsing goes to stderr.\n",
            "W0708 16:29:38.266940 140483582592896 deprecation.py:323] From /usr/local/lib/python3.6/dist-packages/tensorflow/python/ops/math_grad.py:1250: add_dispatch_support.<locals>.wrapper (from tensorflow.python.ops.array_ops) is deprecated and will be removed in a future version.\n",
            "Instructions for updating:\n",
            "Use tf.where in 2.0, which has the same broadcast rule as np.where\n"
          ],
          "name": "stderr"
        },
        {
          "output_type": "stream",
          "text": [
            "Train on 55000 samples, validate on 5000 samples\n",
            "Epoch 1/10\n",
            "55000/55000 [==============================] - 4s 77us/sample - loss: 1.2810 - accuracy: 0.6253 - val_loss: 0.8872 - val_accuracy: 0.7192\n",
            "Epoch 2/10\n",
            "55000/55000 [==============================] - 4s 68us/sample - loss: 0.7957 - accuracy: 0.7371 - val_loss: 0.7128 - val_accuracy: 0.7676\n",
            "Epoch 3/10\n",
            "55000/55000 [==============================] - 4s 68us/sample - loss: 0.6818 - accuracy: 0.7721 - val_loss: 0.6365 - val_accuracy: 0.7902\n",
            "Epoch 4/10\n",
            "55000/55000 [==============================] - 4s 69us/sample - loss: 0.6222 - accuracy: 0.7934 - val_loss: 0.5898 - val_accuracy: 0.8082\n",
            "Epoch 5/10\n",
            "55000/55000 [==============================] - 4s 68us/sample - loss: 0.5832 - accuracy: 0.8067 - val_loss: 0.5584 - val_accuracy: 0.8166\n",
            "Epoch 6/10\n",
            "55000/55000 [==============================] - 4s 68us/sample - loss: 0.5553 - accuracy: 0.8165 - val_loss: 0.5358 - val_accuracy: 0.8248\n",
            "Epoch 7/10\n",
            "55000/55000 [==============================] - 4s 68us/sample - loss: 0.5341 - accuracy: 0.8218 - val_loss: 0.5177 - val_accuracy: 0.8282\n",
            "Epoch 8/10\n",
            "55000/55000 [==============================] - 4s 68us/sample - loss: 0.5174 - accuracy: 0.8271 - val_loss: 0.5018 - val_accuracy: 0.8374\n",
            "Epoch 9/10\n",
            "55000/55000 [==============================] - 4s 68us/sample - loss: 0.5038 - accuracy: 0.8302 - val_loss: 0.4901 - val_accuracy: 0.8378\n",
            "Epoch 10/10\n",
            "55000/55000 [==============================] - 4s 67us/sample - loss: 0.4926 - accuracy: 0.8326 - val_loss: 0.4830 - val_accuracy: 0.8394\n"
          ],
          "name": "stdout"
        }
      ]
    },
    {
      "cell_type": "markdown",
      "metadata": {
        "id": "JwN54SA-zIyt",
        "colab_type": "text"
      },
      "source": [
        "### SELU\n",
        "SELU is a scaled ELU activation function. It's special because for a network consisting of purely dense layers, the SELU activation helps the outputs *self-normalize*. That means, the output will preserve mean 0 and std 1 during training, which automatically deals with the vanishing gradient problem. Sufficiently deep dense nets will therefore work nicely with SELU."
      ]
    },
    {
      "cell_type": "code",
      "metadata": {
        "id": "hjYqyjuE1Iis",
        "colab_type": "code",
        "colab": {}
      },
      "source": [
        "from scipy.special import erfc\n",
        "\n",
        "# alpha and scale to self normalize with mean 0 and standard deviation 1\n",
        "# (see equation 14 in the paper):\n",
        "alpha_0_1 = -np.sqrt(2 / np.pi) / (erfc(1/np.sqrt(2)) * np.exp(1/2) - 1)\n",
        "scale_0_1 = (1 - erfc(1 / np.sqrt(2)) * np.sqrt(np.e)) * np.sqrt(2 * np.pi) * (2 * erfc(np.sqrt(2))*np.e**2 + np.pi*erfc(1/np.sqrt(2))**2*np.e - 2*(2+np.pi)*erfc(1/np.sqrt(2))*np.sqrt(np.e)+np.pi+2)**(-1/2)"
      ],
      "execution_count": 0,
      "outputs": []
    },
    {
      "cell_type": "code",
      "metadata": {
        "id": "gLxJaw4vavt1",
        "colab_type": "code",
        "colab": {}
      },
      "source": [
        "# define the elu and selu activations\n",
        "def elu(z, alpha=1):\n",
        "    return np.where(z < 0, alpha * (np.exp(z) - 1), z)\n",
        "  \n",
        "def selu(z, scale=scale_0_1, alpha=alpha_0_1):\n",
        "    return scale * elu(z, alpha)"
      ],
      "execution_count": 0,
      "outputs": []
    },
    {
      "cell_type": "code",
      "metadata": {
        "id": "V1ouYRPe2Cm7",
        "colab_type": "code",
        "outputId": "5fc41769-cec4-4a73-eef2-8c3db83e884b",
        "colab": {
          "base_uri": "https://localhost:8080/",
          "height": 287
        }
      },
      "source": [
        "plt.plot(z, elu(z), \"b-\", linewidth=2)\n",
        "plt.plot([-5, 5], [0, 0], 'k-')\n",
        "plt.plot([-5, 5], [-1, -1], 'k--')\n",
        "plt.plot([0, 0], [-2.2, 3.2], 'k-')\n",
        "plt.grid(True)\n",
        "plt.title(r\"ELU activation function ($\\alpha=1$)\", fontsize=14)\n",
        "plt.axis([-5, 5, -2.2, 3.2])\n",
        "\n",
        "plt.show()"
      ],
      "execution_count": 0,
      "outputs": [
        {
          "output_type": "display_data",
          "data": {
            "image/png": "[encoded data removed]",
            "text/plain": [
              "<Figure size 432x288 with 1 Axes>"
            ]
          },
          "metadata": {
            "tags": []
          }
        }
      ]
    },
    {
      "cell_type": "code",
      "metadata": {
        "id": "D6VJR4Pt2G2i",
        "colab_type": "code",
        "outputId": "7eed6030-502b-4623-ae63-99c5ddc00027",
        "colab": {
          "base_uri": "https://localhost:8080/",
          "height": 285
        }
      },
      "source": [
        "plt.plot(z, selu(z), \"b-\", linewidth=2)\n",
        "plt.plot([-5, 5], [0, 0], 'k-')\n",
        "plt.plot([-5, 5], [-1.758, -1.758], 'k--')\n",
        "plt.plot([0, 0], [-2.2, 3.2], 'k-')\n",
        "plt.grid(True)\n",
        "plt.title(\"SELU activation function\", fontsize=14)\n",
        "plt.axis([-5, 5, -2.2, 3.2])\n",
        "\n",
        "plt.show()"
      ],
      "execution_count": 0,
      "outputs": [
        {
          "output_type": "display_data",
          "data": {
            "image/png": "[encoded data removed]",
            "text/plain": [
              "<Figure size 432x288 with 1 Axes>"
            ]
          },
          "metadata": {
            "tags": []
          }
        }
      ]
    },
    {
      "cell_type": "code",
      "metadata": {
        "id": "Ffe8tohL2UtA",
        "colab_type": "code",
        "colab": {}
      },
      "source": [
        "def try_1000_activations(activation):\n",
        "  np.random.seed(42)\n",
        "  Z = np.random.normal(size=(500, 100)) # standardized inputs\n",
        "  for layer in range(1000):\n",
        "    W = np.random.normal(size=(100, 100), scale=np.sqrt(1 / 100)) # LeCun initialization\n",
        "    Z = activation(np.dot(Z, W))\n",
        "    means = np.mean(Z, axis=0).mean()\n",
        "    stds = np.std(Z, axis=0).mean()\n",
        "    if layer % 100 == 0:\n",
        "      print(\"Layer {}: mean {:.2f}, std deviation {:.2f}\".format(layer, means, stds))"
      ],
      "execution_count": 0,
      "outputs": []
    },
    {
      "cell_type": "code",
      "metadata": {
        "id": "9ApGjHK02NMA",
        "colab_type": "code",
        "outputId": "50ab47b5-99d1-45ac-9046-2111844578dd",
        "colab": {
          "base_uri": "https://localhost:8080/",
          "height": 187
        }
      },
      "source": [
        "try_1000_activations(selu)"
      ],
      "execution_count": 0,
      "outputs": [
        {
          "output_type": "stream",
          "text": [
            "Layer 0: mean -0.00, std deviation 1.00\n",
            "Layer 100: mean 0.02, std deviation 0.96\n",
            "Layer 200: mean 0.01, std deviation 0.90\n",
            "Layer 300: mean -0.02, std deviation 0.92\n",
            "Layer 400: mean 0.05, std deviation 0.89\n",
            "Layer 500: mean 0.01, std deviation 0.93\n",
            "Layer 600: mean 0.02, std deviation 0.92\n",
            "Layer 700: mean -0.02, std deviation 0.90\n",
            "Layer 800: mean 0.05, std deviation 0.83\n",
            "Layer 900: mean 0.02, std deviation 1.00\n"
          ],
          "name": "stdout"
        }
      ]
    },
    {
      "cell_type": "code",
      "metadata": {
        "id": "UqetlRuDzHDs",
        "colab_type": "code",
        "outputId": "d8631dd5-40e7-4d9b-8483-818e89ef8dd2",
        "colab": {
          "base_uri": "https://localhost:8080/",
          "height": 187
        }
      },
      "source": [
        "try_1000_activations(relu)"
      ],
      "execution_count": 0,
      "outputs": [
        {
          "output_type": "stream",
          "text": [
            "Layer 0: mean 0.40, std deviation 0.58\n",
            "Layer 100: mean 0.00, std deviation 0.00\n",
            "Layer 200: mean 0.00, std deviation 0.00\n",
            "Layer 300: mean 0.00, std deviation 0.00\n",
            "Layer 400: mean 0.00, std deviation 0.00\n",
            "Layer 500: mean 0.00, std deviation 0.00\n",
            "Layer 600: mean 0.00, std deviation 0.00\n",
            "Layer 700: mean 0.00, std deviation 0.00\n",
            "Layer 800: mean 0.00, std deviation 0.00\n",
            "Layer 900: mean 0.00, std deviation 0.00\n"
          ],
          "name": "stdout"
        }
      ]
    },
    {
      "cell_type": "code",
      "metadata": {
        "id": "786szc0J3iPL",
        "colab_type": "code",
        "outputId": "98d26f52-783d-4c05-c14b-6b2c1fb2c05c",
        "colab": {
          "base_uri": "https://localhost:8080/",
          "height": 187
        }
      },
      "source": [
        "try_1000_activations(leaky_relu)"
      ],
      "execution_count": 0,
      "outputs": [
        {
          "output_type": "stream",
          "text": [
            "Layer 0: mean 0.39, std deviation 0.59\n",
            "Layer 100: mean 0.00, std deviation 0.00\n",
            "Layer 200: mean 0.00, std deviation 0.00\n",
            "Layer 300: mean 0.00, std deviation 0.00\n",
            "Layer 400: mean 0.00, std deviation 0.00\n",
            "Layer 500: mean 0.00, std deviation 0.00\n",
            "Layer 600: mean 0.00, std deviation 0.00\n",
            "Layer 700: mean 0.00, std deviation 0.00\n",
            "Layer 800: mean 0.00, std deviation 0.00\n",
            "Layer 900: mean 0.00, std deviation 0.00\n"
          ],
          "name": "stdout"
        }
      ]
    },
    {
      "cell_type": "code",
      "metadata": {
        "id": "uIVyyNQK1VdJ",
        "colab_type": "code",
        "outputId": "cc315412-0dbb-4094-a465-30cfd905370d",
        "colab": {
          "base_uri": "https://localhost:8080/",
          "height": 187
        }
      },
      "source": [
        "try_1000_activations(elu)"
      ],
      "execution_count": 0,
      "outputs": [
        {
          "output_type": "stream",
          "text": [
            "Layer 0: mean 0.16, std deviation 0.79\n",
            "Layer 100: mean -0.00, std deviation 0.02\n",
            "Layer 200: mean -0.00, std deviation 0.01\n",
            "Layer 300: mean -0.00, std deviation 0.00\n",
            "Layer 400: mean 0.00, std deviation 0.00\n",
            "Layer 500: mean -0.00, std deviation 0.00\n",
            "Layer 600: mean 0.00, std deviation 0.00\n",
            "Layer 700: mean 0.00, std deviation 0.00\n",
            "Layer 800: mean -0.00, std deviation 0.00\n",
            "Layer 900: mean -0.00, std deviation 0.00\n"
          ],
          "name": "stdout"
        }
      ]
    },
    {
      "cell_type": "markdown",
      "metadata": {
        "id": "hNYxS1BL3tmJ",
        "colab_type": "text"
      },
      "source": [
        "Let's try using the SELU activation on fashion MNIST."
      ]
    },
    {
      "cell_type": "code",
      "metadata": {
        "id": "hELNvWWn1b6v",
        "colab_type": "code",
        "colab": {}
      },
      "source": [
        "np.random.seed(42)\n",
        "tf.random.set_seed(42)\n",
        "\n",
        "model = keras.models.Sequential()\n",
        "model.add(keras.layers.Flatten(input_shape=[28, 28]))\n",
        "model.add(keras.layers.Dense(300, activation=\"selu\",\n",
        "                             kernel_initializer=\"lecun_normal\"))\n",
        "for layer in range(99):\n",
        "    model.add(keras.layers.Dense(100, activation=\"selu\",\n",
        "                                 kernel_initializer=\"lecun_normal\"))\n",
        "model.add(keras.layers.Dense(10, activation=\"softmax\"))\n",
        "\n",
        "model.compile(loss=\"sparse_categorical_crossentropy\",\n",
        "              optimizer=keras.optimizers.SGD(lr=1e-3),\n",
        "              metrics=[\"accuracy\"])"
      ],
      "execution_count": 0,
      "outputs": []
    },
    {
      "cell_type": "markdown",
      "metadata": {
        "id": "0wg_dnno4N5l",
        "colab_type": "text"
      },
      "source": [
        "Before training it, remember to scale the inputs to mean 0 and std 1 first."
      ]
    },
    {
      "cell_type": "code",
      "metadata": {
        "id": "ho4A7qf74F_7",
        "colab_type": "code",
        "colab": {}
      },
      "source": [
        "pixel_means = X_train.mean(axis=0, keepdims=True)\n",
        "pixel_stds = X_train.std(axis=0, keepdims=True)\n",
        "X_train_scaled = (X_train - pixel_means) / pixel_stds\n",
        "X_valid_scaled = (X_valid - pixel_means) / pixel_stds\n",
        "X_test_scaled = (X_test - pixel_means) / pixel_stds"
      ],
      "execution_count": 0,
      "outputs": []
    },
    {
      "cell_type": "code",
      "metadata": {
        "id": "YDD_2x3n4Sps",
        "colab_type": "code",
        "outputId": "1e74215b-b188-40b8-c885-849e5d6e3c6c",
        "colab": {
          "base_uri": "https://localhost:8080/",
          "height": 204
        }
      },
      "source": [
        "history = model.fit(X_train_scaled, y_train, epochs=5,\n",
        "                    validation_data=(X_valid_scaled, y_valid))"
      ],
      "execution_count": 0,
      "outputs": [
        {
          "output_type": "stream",
          "text": [
            "Train on 55000 samples, validate on 5000 samples\n",
            "Epoch 1/5\n",
            "55000/55000 [==============================] - 34s 617us/sample - loss: 1.2710 - accuracy: 0.5080 - val_loss: 1.0708 - val_accuracy: 0.5594\n",
            "Epoch 2/5\n",
            "55000/55000 [==============================] - 29s 534us/sample - loss: 0.8509 - accuracy: 0.6779 - val_loss: 0.6995 - val_accuracy: 0.7412\n",
            "Epoch 3/5\n",
            "55000/55000 [==============================] - 30s 537us/sample - loss: 0.7195 - accuracy: 0.7356 - val_loss: 0.7018 - val_accuracy: 0.7498\n",
            "Epoch 4/5\n",
            "55000/55000 [==============================] - 30s 538us/sample - loss: 0.7286 - accuracy: 0.7386 - val_loss: 0.8595 - val_accuracy: 0.7112\n",
            "Epoch 5/5\n",
            "55000/55000 [==============================] - 29s 535us/sample - loss: 0.6805 - accuracy: 0.7522 - val_loss: 0.5807 - val_accuracy: 0.8048\n"
          ],
          "name": "stdout"
        }
      ]
    },
    {
      "cell_type": "markdown",
      "metadata": {
        "id": "GZAZ_UW94cDs",
        "colab_type": "text"
      },
      "source": [
        "Let's do the same thing with ReLU to compare."
      ]
    },
    {
      "cell_type": "code",
      "metadata": {
        "id": "ufMNCqUv4ail",
        "colab_type": "code",
        "colab": {}
      },
      "source": [
        "np.random.seed(42)\n",
        "tf.random.set_seed(42)\n",
        "\n",
        "model = keras.models.Sequential()\n",
        "model.add(keras.layers.Flatten(input_shape=[28, 28]))\n",
        "model.add(keras.layers.Dense(300, activation=\"relu\", kernel_initializer=\"he_normal\"))\n",
        "for layer in range(99):\n",
        "    model.add(keras.layers.Dense(100, activation=\"relu\", kernel_initializer=\"he_normal\"))\n",
        "model.add(keras.layers.Dense(10, activation=\"softmax\"))\n",
        "\n",
        "model.compile(loss=\"sparse_categorical_crossentropy\",\n",
        "              optimizer=keras.optimizers.SGD(lr=1e-3),\n",
        "              metrics=[\"accuracy\"])"
      ],
      "execution_count": 0,
      "outputs": []
    },
    {
      "cell_type": "code",
      "metadata": {
        "id": "Vo-1EGAW4jzT",
        "colab_type": "code",
        "outputId": "590b47a0-d313-4b2c-c5bc-64f415a76972",
        "colab": {
          "base_uri": "https://localhost:8080/",
          "height": 204
        }
      },
      "source": [
        "history = model.fit(X_train_scaled, y_train, epochs=5,\n",
        "                    validation_data=(X_valid_scaled, y_valid))"
      ],
      "execution_count": 0,
      "outputs": [
        {
          "output_type": "stream",
          "text": [
            "Train on 55000 samples, validate on 5000 samples\n",
            "Epoch 1/5\n",
            "55000/55000 [==============================] - 21s 381us/sample - loss: 1.8279 - accuracy: 0.2662 - val_loss: 1.2287 - val_accuracy: 0.4560\n",
            "Epoch 2/5\n",
            "55000/55000 [==============================] - 19s 339us/sample - loss: 1.1299 - accuracy: 0.5147 - val_loss: 1.0086 - val_accuracy: 0.5574\n",
            "Epoch 3/5\n",
            "55000/55000 [==============================] - 19s 340us/sample - loss: 1.0200 - accuracy: 0.5735 - val_loss: 1.0418 - val_accuracy: 0.5538\n",
            "Epoch 4/5\n",
            "55000/55000 [==============================] - 19s 341us/sample - loss: 0.9309 - accuracy: 0.6126 - val_loss: 0.7873 - val_accuracy: 0.6586\n",
            "Epoch 5/5\n",
            "55000/55000 [==============================] - 19s 343us/sample - loss: 0.7924 - accuracy: 0.6719 - val_loss: 0.7257 - val_accuracy: 0.7084\n"
          ],
          "name": "stdout"
        }
      ]
    },
    {
      "cell_type": "markdown",
      "metadata": {
        "id": "R7_3mtfZ53em",
        "colab_type": "text"
      },
      "source": [
        "## Part 2: Batch Normalization"
      ]
    },
    {
      "cell_type": "code",
      "metadata": {
        "id": "HsmIK93Z55LA",
        "colab_type": "code",
        "outputId": "1b40ed2c-31cd-4bf6-9e18-a3e6816595d3",
        "colab": {
          "base_uri": "https://localhost:8080/",
          "height": 391
        }
      },
      "source": [
        "model = keras.models.Sequential([\n",
        "    keras.layers.Flatten(input_shape=[28, 28]),\n",
        "    keras.layers.BatchNormalization(),\n",
        "    keras.layers.Dense(300, activation=\"relu\"),\n",
        "    keras.layers.BatchNormalization(),\n",
        "    keras.layers.Dense(100, activation=\"relu\"),\n",
        "    keras.layers.BatchNormalization(),\n",
        "    keras.layers.Dense(10, activation=\"softmax\")\n",
        "])\n",
        "\n",
        "model.summary()"
      ],
      "execution_count": 0,
      "outputs": [
        {
          "output_type": "stream",
          "text": [
            "Model: \"sequential_3\"\n",
            "_________________________________________________________________\n",
            "Layer (type)                 Output Shape              Param #   \n",
            "=================================================================\n",
            "flatten_3 (Flatten)          (None, 784)               0         \n",
            "_________________________________________________________________\n",
            "batch_normalization (BatchNo (None, 784)               3136      \n",
            "_________________________________________________________________\n",
            "dense_205 (Dense)            (None, 300)               235500    \n",
            "_________________________________________________________________\n",
            "batch_normalization_1 (Batch (None, 300)               1200      \n",
            "_________________________________________________________________\n",
            "dense_206 (Dense)            (None, 100)               30100     \n",
            "_________________________________________________________________\n",
            "batch_normalization_2 (Batch (None, 100)               400       \n",
            "_________________________________________________________________\n",
            "dense_207 (Dense)            (None, 10)                1010      \n",
            "=================================================================\n",
            "Total params: 271,346\n",
            "Trainable params: 268,978\n",
            "Non-trainable params: 2,368\n",
            "_________________________________________________________________\n"
          ],
          "name": "stdout"
        }
      ]
    },
    {
      "cell_type": "code",
      "metadata": {
        "id": "eWwuzJfW6CwG",
        "colab_type": "code",
        "outputId": "6b540a01-6d59-40df-8b6d-e7ff080bf30c",
        "colab": {
          "base_uri": "https://localhost:8080/",
          "height": 85
        }
      },
      "source": [
        "bn1 = model.layers[1]\n",
        "[(var.name, var.trainable) for var in bn1.variables]"
      ],
      "execution_count": 0,
      "outputs": [
        {
          "output_type": "execute_result",
          "data": {
            "text/plain": [
              "[('batch_normalization/gamma:0', True),\n",
              " ('batch_normalization/beta:0', True),\n",
              " ('batch_normalization/moving_mean:0', False),\n",
              " ('batch_normalization/moving_variance:0', False)]"
            ]
          },
          "metadata": {
            "tags": []
          },
          "execution_count": 26
        }
      ]
    },
    {
      "cell_type": "code",
      "metadata": {
        "id": "DhEnRPF87LYH",
        "colab_type": "code",
        "outputId": "0421ce47-fd64-454f-944f-7c68e4953a79",
        "colab": {
          "base_uri": "https://localhost:8080/",
          "height": 374
        }
      },
      "source": [
        "model.compile(loss=\"sparse_categorical_crossentropy\",\n",
        "              optimizer=keras.optimizers.SGD(lr=1e-3),\n",
        "              metrics=[\"accuracy\"])\n",
        "\n",
        "history = model.fit(X_train, y_train, epochs=10,\n",
        "                    validation_data=(X_valid, y_valid))"
      ],
      "execution_count": 0,
      "outputs": [
        {
          "output_type": "stream",
          "text": [
            "Train on 55000 samples, validate on 5000 samples\n",
            "Epoch 1/10\n",
            "55000/55000 [==============================] - 6s 115us/sample - loss: 0.8756 - accuracy: 0.7140 - val_loss: 0.5515 - val_accuracy: 0.8216\n",
            "Epoch 2/10\n",
            "55000/55000 [==============================] - 6s 105us/sample - loss: 0.5765 - accuracy: 0.8033 - val_loss: 0.4743 - val_accuracy: 0.8434\n",
            "Epoch 3/10\n",
            "55000/55000 [==============================] - 6s 105us/sample - loss: 0.5146 - accuracy: 0.8213 - val_loss: 0.4382 - val_accuracy: 0.8534\n",
            "Epoch 4/10\n",
            "55000/55000 [==============================] - 6s 105us/sample - loss: 0.4821 - accuracy: 0.8322 - val_loss: 0.4171 - val_accuracy: 0.8594\n",
            "Epoch 5/10\n",
            "55000/55000 [==============================] - 6s 108us/sample - loss: 0.4590 - accuracy: 0.8403 - val_loss: 0.4002 - val_accuracy: 0.8658\n",
            "Epoch 6/10\n",
            "55000/55000 [==============================] - 6s 105us/sample - loss: 0.4428 - accuracy: 0.8459 - val_loss: 0.3884 - val_accuracy: 0.8690\n",
            "Epoch 7/10\n",
            "55000/55000 [==============================] - 6s 105us/sample - loss: 0.4219 - accuracy: 0.8521 - val_loss: 0.3792 - val_accuracy: 0.8718\n",
            "Epoch 8/10\n",
            "55000/55000 [==============================] - 6s 105us/sample - loss: 0.4150 - accuracy: 0.8549 - val_loss: 0.3695 - val_accuracy: 0.8758\n",
            "Epoch 9/10\n",
            "55000/55000 [==============================] - 6s 106us/sample - loss: 0.4014 - accuracy: 0.8588 - val_loss: 0.3630 - val_accuracy: 0.8740\n",
            "Epoch 10/10\n",
            "55000/55000 [==============================] - 6s 106us/sample - loss: 0.3932 - accuracy: 0.8614 - val_loss: 0.3581 - val_accuracy: 0.8770\n"
          ],
          "name": "stdout"
        }
      ]
    },
    {
      "cell_type": "markdown",
      "metadata": {
        "id": "zoboWrxH7jN4",
        "colab_type": "text"
      },
      "source": [
        "Let's try putting the batch normalization before the activations."
      ]
    },
    {
      "cell_type": "code",
      "metadata": {
        "id": "Z_a99bS97nU2",
        "colab_type": "code",
        "outputId": "cc80dc77-c302-4c1d-89e1-45a1b868434a",
        "colab": {
          "base_uri": "https://localhost:8080/",
          "height": 374
        }
      },
      "source": [
        "model = keras.models.Sequential([\n",
        "    keras.layers.Flatten(input_shape=[28, 28]),\n",
        "    keras.layers.BatchNormalization(),\n",
        "    keras.layers.Dense(300, use_bias=False),\n",
        "    keras.layers.BatchNormalization(),\n",
        "    keras.layers.Activation(\"relu\"),\n",
        "    keras.layers.Dense(100, use_bias=False),\n",
        "    keras.layers.Activation(\"relu\"),\n",
        "    keras.layers.BatchNormalization(),\n",
        "    keras.layers.Dense(10, activation=\"softmax\")\n",
        "])\n",
        "\n",
        "model.compile(loss=\"sparse_categorical_crossentropy\",\n",
        "              optimizer=keras.optimizers.SGD(lr=1e-3),\n",
        "              metrics=[\"accuracy\"])\n",
        "\n",
        "\n",
        "history = model.fit(X_train, y_train, epochs=10,\n",
        "                    validation_data=(X_valid, y_valid))"
      ],
      "execution_count": 0,
      "outputs": [
        {
          "output_type": "stream",
          "text": [
            "Train on 55000 samples, validate on 5000 samples\n",
            "Epoch 1/10\n",
            "55000/55000 [==============================] - 6s 115us/sample - loss: 0.8618 - accuracy: 0.7093 - val_loss: 0.5659 - val_accuracy: 0.8084\n",
            "Epoch 2/10\n",
            "55000/55000 [==============================] - 6s 107us/sample - loss: 0.5809 - accuracy: 0.8008 - val_loss: 0.4832 - val_accuracy: 0.8350\n",
            "Epoch 3/10\n",
            "55000/55000 [==============================] - 6s 108us/sample - loss: 0.5161 - accuracy: 0.8199 - val_loss: 0.4463 - val_accuracy: 0.8474\n",
            "Epoch 4/10\n",
            "55000/55000 [==============================] - 6s 103us/sample - loss: 0.4850 - accuracy: 0.8301 - val_loss: 0.4255 - val_accuracy: 0.8550\n",
            "Epoch 5/10\n",
            "55000/55000 [==============================] - 6s 103us/sample - loss: 0.4580 - accuracy: 0.8406 - val_loss: 0.4109 - val_accuracy: 0.8594\n",
            "Epoch 6/10\n",
            "55000/55000 [==============================] - 6s 102us/sample - loss: 0.4410 - accuracy: 0.8458 - val_loss: 0.3977 - val_accuracy: 0.8620\n",
            "Epoch 7/10\n",
            "55000/55000 [==============================] - 6s 103us/sample - loss: 0.4299 - accuracy: 0.8489 - val_loss: 0.3917 - val_accuracy: 0.8652\n",
            "Epoch 8/10\n",
            "55000/55000 [==============================] - 6s 103us/sample - loss: 0.4128 - accuracy: 0.8558 - val_loss: 0.3829 - val_accuracy: 0.8666\n",
            "Epoch 9/10\n",
            "55000/55000 [==============================] - 6s 103us/sample - loss: 0.4012 - accuracy: 0.8589 - val_loss: 0.3761 - val_accuracy: 0.8686\n",
            "Epoch 10/10\n",
            "55000/55000 [==============================] - 6s 103us/sample - loss: 0.3932 - accuracy: 0.8625 - val_loss: 0.3706 - val_accuracy: 0.8712\n"
          ],
          "name": "stdout"
        }
      ]
    },
    {
      "cell_type": "markdown",
      "metadata": {
        "id": "UcWhhEgi7so0",
        "colab_type": "text"
      },
      "source": [
        "## Part 3: Gradient Clipping"
      ]
    },
    {
      "cell_type": "code",
      "metadata": {
        "id": "jjhMyVNM7uJP",
        "colab_type": "code",
        "colab": {}
      },
      "source": [
        "optimizer = keras.optimizers.SGD(clipvalue=1.0)\n",
        "\n",
        "optimizer = keras.optimizers.SGD(clipnorm=1.0)\n",
        "\n",
        "#model.compile(loss=\"mse\", optimizer=optimizer)"
      ],
      "execution_count": 0,
      "outputs": []
    },
    {
      "cell_type": "markdown",
      "metadata": {
        "id": "I3ov7Eid70kr",
        "colab_type": "text"
      },
      "source": [
        "## Part 4: Transfer learning"
      ]
    },
    {
      "cell_type": "markdown",
      "metadata": {
        "id": "PyW4xHWuh4gk",
        "colab_type": "text"
      },
      "source": [
        "Using the fashion MNIST dataset, let's pretrain a network to classify 8 classes, then reuse parts of that network to perform binary classification on the remaining 2 classes.\n",
        "\n",
        "Let's start by splitting the dataset into two parts.\n",
        "\n",
        "*   ```X_train_A```: all classes except class 5 and 6 (sandals and shirts)\n",
        "*   ```X_train_B```: just the first 200 images of sandals and shirts.\n",
        "\n",
        "We also split the validation and test sets."
      ]
    },
    {
      "cell_type": "code",
      "metadata": {
        "id": "WnDyX71M70Fr",
        "colab_type": "code",
        "colab": {}
      },
      "source": [
        "def split_dataset(X, y):\n",
        "    y_5_or_6 = (y == 5) | (y == 6) # sandals or shirts\n",
        "    y_A = y[~y_5_or_6]\n",
        "    y_A[y_A > 6] -= 2 # class indices 7, 8, 9 should be moved to 5, 6, 7\n",
        "    y_B = (y[y_5_or_6] == 6).astype(np.float32) # binary classification task: is it a shirt (class 6)?\n",
        "    return ((X[~y_5_or_6], y_A),\n",
        "            (X[y_5_or_6], y_B))\n",
        "\n",
        "(X_train_A, y_train_A), (X_train_B, y_train_B) = split_dataset(X_train, y_train)\n",
        "(X_valid_A, y_valid_A), (X_valid_B, y_valid_B) = split_dataset(X_valid, y_valid)\n",
        "(X_test_A, y_test_A), (X_test_B, y_test_B) = split_dataset(X_test, y_test)\n",
        "X_train_B = X_train_B[:200]\n",
        "y_train_B = y_train_B[:200]\n",
        "\n",
        "# reshape the inputs for CNN\n",
        "data = [X_train_A, X_valid_A, X_test_A, X_train_B, X_valid_B, X_test_B]\n",
        "for i in range(len(data)):\n",
        "  data[i].resize(*data[i].shape, 1)"
      ],
      "execution_count": 0,
      "outputs": []
    },
    {
      "cell_type": "code",
      "metadata": {
        "id": "qic1Ic_L-sCp",
        "colab_type": "code",
        "outputId": "141ea673-dca5-4510-ac18-3000ce8ddbdc",
        "colab": {
          "base_uri": "https://localhost:8080/",
          "height": 34
        }
      },
      "source": [
        "X_train_A.shape"
      ],
      "execution_count": 0,
      "outputs": [
        {
          "output_type": "execute_result",
          "data": {
            "text/plain": [
              "(43986, 28, 28, 1)"
            ]
          },
          "metadata": {
            "tags": []
          },
          "execution_count": 31
        }
      ]
    },
    {
      "cell_type": "code",
      "metadata": {
        "id": "QYjWSCYS-uRU",
        "colab_type": "code",
        "outputId": "84038530-f032-4efd-e25c-688d2234c137",
        "colab": {
          "base_uri": "https://localhost:8080/",
          "height": 34
        }
      },
      "source": [
        "X_train_B.shape"
      ],
      "execution_count": 0,
      "outputs": [
        {
          "output_type": "execute_result",
          "data": {
            "text/plain": [
              "(200, 28, 28, 1)"
            ]
          },
          "metadata": {
            "tags": []
          },
          "execution_count": 32
        }
      ]
    },
    {
      "cell_type": "code",
      "metadata": {
        "id": "WVimhQ5x-waf",
        "colab_type": "code",
        "outputId": "980f6be6-5033-4a30-fda2-0f6b1036eb8b",
        "colab": {
          "base_uri": "https://localhost:8080/",
          "height": 51
        }
      },
      "source": [
        "y_train_A[:30]"
      ],
      "execution_count": 0,
      "outputs": [
        {
          "output_type": "execute_result",
          "data": {
            "text/plain": [
              "array([4, 0, 5, 7, 7, 7, 4, 4, 3, 4, 0, 1, 6, 3, 4, 3, 2, 6, 5, 3, 4, 5,\n",
              "       1, 3, 4, 2, 0, 6, 7, 1], dtype=uint8)"
            ]
          },
          "metadata": {
            "tags": []
          },
          "execution_count": 33
        }
      ]
    },
    {
      "cell_type": "code",
      "metadata": {
        "id": "6d3jiztr-y0J",
        "colab_type": "code",
        "outputId": "4e6e3b95-9f47-4cda-ab3f-7097dc8fa508",
        "colab": {
          "base_uri": "https://localhost:8080/",
          "height": 51
        }
      },
      "source": [
        "y_train_B[:30]"
      ],
      "execution_count": 0,
      "outputs": [
        {
          "output_type": "execute_result",
          "data": {
            "text/plain": [
              "array([1., 1., 0., 0., 0., 0., 1., 1., 1., 0., 0., 1., 1., 0., 0., 0., 0.,\n",
              "       0., 0., 1., 1., 0., 0., 1., 1., 0., 1., 1., 1., 1.], dtype=float32)"
            ]
          },
          "metadata": {
            "tags": []
          },
          "execution_count": 34
        }
      ]
    },
    {
      "cell_type": "code",
      "metadata": {
        "id": "0KYvj9WA-02u",
        "colab_type": "code",
        "colab": {}
      },
      "source": [
        "tf.random.set_seed(42)\n",
        "np.random.seed(42)\n",
        "\n",
        "from functools import partial\n",
        "\n",
        "DefaultConv2D = partial(keras.layers.Conv2D,\n",
        "                       kernel_size=3, activation='relu', padding=\"SAME\")\n",
        "\n",
        "model_A = keras.models.Sequential([\n",
        "    DefaultConv2D(filters=64, kernel_size=7, input_shape=[28, 28, 1]),\n",
        "    keras.layers.MaxPooling2D(pool_size=2),\n",
        "    DefaultConv2D(filters=128),\n",
        "    DefaultConv2D(filters=128),\n",
        "    keras.layers.MaxPooling2D(pool_size=2),\n",
        "    DefaultConv2D(filters=256),\n",
        "    DefaultConv2D(filters=256),\n",
        "    keras.layers.MaxPooling2D(pool_size=2),\n",
        "    keras.layers.Flatten(),\n",
        "    keras.layers.Dense(units=128, activation='relu'),\n",
        "    keras.layers.Dense(units=64, activation='relu'),\n",
        "    keras.layers.Dense(units=8, activation='softmax'),\n",
        "])"
      ],
      "execution_count": 0,
      "outputs": []
    },
    {
      "cell_type": "code",
      "metadata": {
        "id": "q2OLss-2_aJM",
        "colab_type": "code",
        "outputId": "e6ae8f72-3ccb-400c-adc0-43611c2836b8",
        "colab": {
          "base_uri": "https://localhost:8080/",
          "height": 391
        }
      },
      "source": [
        "model_A.compile(loss=\"sparse_categorical_crossentropy\", optimizer=\"sgd\", metrics=[\"accuracy\"])\n",
        "history = model_A.fit(X_train_A, y_train_A, epochs=10, validation_data=[X_valid_A, y_valid_A])\n",
        "score = model_A.evaluate(X_test_A, y_test_A)"
      ],
      "execution_count": 0,
      "outputs": [
        {
          "output_type": "stream",
          "text": [
            "Train on 43986 samples, validate on 4014 samples\n",
            "Epoch 1/10\n",
            "43986/43986 [==============================] - 10s 236us/sample - loss: 0.7185 - accuracy: 0.7476 - val_loss: 0.4156 - val_accuracy: 0.8498\n",
            "Epoch 2/10\n",
            "43986/43986 [==============================] - 8s 191us/sample - loss: 0.3727 - accuracy: 0.8672 - val_loss: 0.3338 - val_accuracy: 0.8802\n",
            "Epoch 3/10\n",
            "43986/43986 [==============================] - 8s 191us/sample - loss: 0.3077 - accuracy: 0.8904 - val_loss: 0.2714 - val_accuracy: 0.9041\n",
            "Epoch 4/10\n",
            "43986/43986 [==============================] - 8s 191us/sample - loss: 0.2730 - accuracy: 0.9029 - val_loss: 0.2376 - val_accuracy: 0.9168\n",
            "Epoch 5/10\n",
            "43986/43986 [==============================] - 8s 188us/sample - loss: 0.2472 - accuracy: 0.9127 - val_loss: 0.2389 - val_accuracy: 0.9163\n",
            "Epoch 6/10\n",
            "43986/43986 [==============================] - 8s 187us/sample - loss: 0.2306 - accuracy: 0.9178 - val_loss: 0.2183 - val_accuracy: 0.9215\n",
            "Epoch 7/10\n",
            "43986/43986 [==============================] - 8s 186us/sample - loss: 0.2179 - accuracy: 0.9219 - val_loss: 0.2314 - val_accuracy: 0.9183\n",
            "Epoch 8/10\n",
            "43986/43986 [==============================] - 8s 186us/sample - loss: 0.2045 - accuracy: 0.9267 - val_loss: 0.2098 - val_accuracy: 0.9238\n",
            "Epoch 9/10\n",
            "43986/43986 [==============================] - 8s 187us/sample - loss: 0.1952 - accuracy: 0.9293 - val_loss: 0.2000 - val_accuracy: 0.9255\n",
            "Epoch 10/10\n",
            "43986/43986 [==============================] - 8s 187us/sample - loss: 0.1860 - accuracy: 0.9316 - val_loss: 0.1985 - val_accuracy: 0.9283\n",
            "8000/8000 [==============================] - 1s 81us/sample - loss: 0.2176 - accuracy: 0.9227\n"
          ],
          "name": "stdout"
        }
      ]
    },
    {
      "cell_type": "code",
      "metadata": {
        "id": "7BSHBY6K2AFd",
        "colab_type": "code",
        "colab": {}
      },
      "source": [
        "model_A.save(\"my_model_A.h5\")"
      ],
      "execution_count": 0,
      "outputs": []
    },
    {
      "cell_type": "code",
      "metadata": {
        "id": "Hu1zTIT72Kw_",
        "colab_type": "code",
        "colab": {}
      },
      "source": [
        "model_B = keras.models.Sequential([\n",
        "    DefaultConv2D(filters=64, kernel_size=7, input_shape=[28, 28, 1]),\n",
        "    keras.layers.MaxPooling2D(pool_size=2),\n",
        "    DefaultConv2D(filters=128),\n",
        "    DefaultConv2D(filters=128),\n",
        "    keras.layers.MaxPooling2D(pool_size=2),\n",
        "    DefaultConv2D(filters=256),\n",
        "    DefaultConv2D(filters=256),\n",
        "    keras.layers.MaxPooling2D(pool_size=2),\n",
        "    keras.layers.Flatten(),\n",
        "    keras.layers.Dense(units=128, activation='relu'),\n",
        "    keras.layers.Dense(units=64, activation='relu'),\n",
        "    keras.layers.Dense(units=1, activation='sigmoid'),\n",
        "])"
      ],
      "execution_count": 0,
      "outputs": []
    },
    {
      "cell_type": "code",
      "metadata": {
        "id": "8R6O-eRF3S5B",
        "colab_type": "code",
        "outputId": "4cbe3e80-5a1e-459d-9154-8a8d691c4dcc",
        "colab": {
          "base_uri": "https://localhost:8080/",
          "height": 391
        }
      },
      "source": [
        "model_B.compile(loss=\"binary_crossentropy\",\n",
        "                 optimizer=\"sgd\", metrics=[\"accuracy\"])\n",
        "history = model_B.fit(X_train_B, y_train_B, epochs=10, validation_data=[X_valid_B, y_valid_B])\n",
        "score = model_B.evaluate(X_test_B, y_test_B)"
      ],
      "execution_count": 0,
      "outputs": [
        {
          "output_type": "stream",
          "text": [
            "Train on 200 samples, validate on 986 samples\n",
            "Epoch 1/10\n",
            "200/200 [==============================] - 1s 3ms/sample - loss: 0.6898 - accuracy: 0.4950 - val_loss: 0.6869 - val_accuracy: 0.5000\n",
            "Epoch 2/10\n",
            "200/200 [==============================] - 0s 630us/sample - loss: 0.6850 - accuracy: 0.5050 - val_loss: 0.6826 - val_accuracy: 0.5304\n",
            "Epoch 3/10\n",
            "200/200 [==============================] - 0s 593us/sample - loss: 0.6807 - accuracy: 0.5400 - val_loss: 0.6784 - val_accuracy: 0.7373\n",
            "Epoch 4/10\n",
            "200/200 [==============================] - 0s 619us/sample - loss: 0.6763 - accuracy: 0.7500 - val_loss: 0.6740 - val_accuracy: 0.7414\n",
            "Epoch 5/10\n",
            "200/200 [==============================] - 0s 601us/sample - loss: 0.6716 - accuracy: 0.7550 - val_loss: 0.6689 - val_accuracy: 0.7110\n",
            "Epoch 6/10\n",
            "200/200 [==============================] - 0s 586us/sample - loss: 0.6660 - accuracy: 0.7950 - val_loss: 0.6631 - val_accuracy: 0.6714\n",
            "Epoch 7/10\n",
            "200/200 [==============================] - 0s 580us/sample - loss: 0.6595 - accuracy: 0.7500 - val_loss: 0.6562 - val_accuracy: 0.8763\n",
            "Epoch 8/10\n",
            "200/200 [==============================] - 0s 597us/sample - loss: 0.6514 - accuracy: 0.8600 - val_loss: 0.6467 - val_accuracy: 0.6653\n",
            "Epoch 9/10\n",
            "200/200 [==============================] - 0s 601us/sample - loss: 0.6410 - accuracy: 0.7800 - val_loss: 0.6346 - val_accuracy: 0.7708\n",
            "Epoch 10/10\n",
            "200/200 [==============================] - 0s 625us/sample - loss: 0.6273 - accuracy: 0.7800 - val_loss: 0.6212 - val_accuracy: 0.8895\n",
            "2000/2000 [==============================] - 0s 114us/sample - loss: 0.6219 - accuracy: 0.8860\n"
          ],
          "name": "stdout"
        }
      ]
    },
    {
      "cell_type": "markdown",
      "metadata": {
        "id": "6JKkw6aCWx0u",
        "colab_type": "text"
      },
      "source": [
        "Load model A and replace the output layer."
      ]
    },
    {
      "cell_type": "code",
      "metadata": {
        "id": "AvfmPpIX3dKe",
        "colab_type": "code",
        "colab": {}
      },
      "source": [
        "model_A = keras.models.load_model(\"my_model_A.h5\")\n",
        "model_B_on_A = keras. models.Sequential(model_A.layers[:-1])\n",
        "model_B_on_A.add(keras.layers.Dense(1, activation=\"sigmoid\"))"
      ],
      "execution_count": 0,
      "outputs": []
    },
    {
      "cell_type": "markdown",
      "metadata": {
        "id": "SIRERkxzW5S_",
        "colab_type": "text"
      },
      "source": [
        "Because the layers for ```model_B_on_A``` are shared with ```model_A```, training performed on ```model_B_on_A``` will also affect ```model_A```. If  you want to avoid that, you can make a copy of ```model_A```, which will not be affected."
      ]
    },
    {
      "cell_type": "code",
      "metadata": {
        "id": "2EbAFK1ZWMTo",
        "colab_type": "code",
        "colab": {}
      },
      "source": [
        "model_A_clone = keras.models.clone_model(model_A)\n",
        "model_A_clone.set_weights(model_A.get_weights())"
      ],
      "execution_count": 0,
      "outputs": []
    },
    {
      "cell_type": "markdown",
      "metadata": {
        "id": "blFYWQ0UXx9Y",
        "colab_type": "text"
      },
      "source": [
        "Let's freeze all of the reused layers first."
      ]
    },
    {
      "cell_type": "code",
      "metadata": {
        "id": "ccjm5vdMX5eP",
        "colab_type": "code",
        "colab": {}
      },
      "source": [
        "for layer in model_B_on_A.layers[:-1]:\n",
        "    layer.trainable = False\n",
        "\n",
        "model_B_on_A.compile(loss=\"binary_crossentropy\",\n",
        "                     optimizer=keras.optimizers.SGD(lr=1e-3),\n",
        "                     metrics=[\"accuracy\"])"
      ],
      "execution_count": 0,
      "outputs": []
    },
    {
      "cell_type": "code",
      "metadata": {
        "id": "FULgo9dNX_mK",
        "colab_type": "code",
        "outputId": "1888123c-8822-46b3-fc9d-a28a496e9855",
        "colab": {
          "base_uri": "https://localhost:8080/",
          "height": 731
        }
      },
      "source": [
        "history = model_B_on_A.fit(X_train_B, y_train_B, epochs=4,\n",
        "                           validation_data=(X_valid_B, y_valid_B))\n",
        "\n",
        "for layer in model_B_on_A.layers[:-1]:\n",
        "    layer.trainable = True\n",
        "\n",
        "model_B_on_A.compile(loss=\"binary_crossentropy\",\n",
        "                     optimizer=keras.optimizers.SGD(lr=1e-3),\n",
        "                     metrics=[\"accuracy\"])\n",
        "history = model_B_on_A.fit(X_train_B, y_train_B, epochs=16,\n",
        "                           validation_data=(X_valid_B, y_valid_B))"
      ],
      "execution_count": 0,
      "outputs": [
        {
          "output_type": "stream",
          "text": [
            "Train on 200 samples, validate on 986 samples\n",
            "Epoch 1/4\n",
            "200/200 [==============================] - 0s 2ms/sample - loss: 1.1990 - accuracy: 0.5050 - val_loss: 1.0853 - val_accuracy: 0.5010\n",
            "Epoch 2/4\n",
            "200/200 [==============================] - 0s 514us/sample - loss: 1.0411 - accuracy: 0.5000 - val_loss: 0.9422 - val_accuracy: 0.5020\n",
            "Epoch 3/4\n",
            "200/200 [==============================] - 0s 513us/sample - loss: 0.9031 - accuracy: 0.5050 - val_loss: 0.8110 - val_accuracy: 0.5112\n",
            "Epoch 4/4\n",
            "200/200 [==============================] - 0s 531us/sample - loss: 0.7786 - accuracy: 0.5200 - val_loss: 0.7097 - val_accuracy: 0.5345\n",
            "Train on 200 samples, validate on 986 samples\n",
            "Epoch 1/16\n",
            "200/200 [==============================] - 0s 2ms/sample - loss: 0.5634 - accuracy: 0.6800 - val_loss: 0.3850 - val_accuracy: 0.8377\n",
            "Epoch 2/16\n",
            "200/200 [==============================] - 0s 611us/sample - loss: 0.3238 - accuracy: 0.8900 - val_loss: 0.2790 - val_accuracy: 0.9138\n",
            "Epoch 3/16\n",
            "200/200 [==============================] - 0s 589us/sample - loss: 0.2341 - accuracy: 0.9450 - val_loss: 0.2209 - val_accuracy: 0.9462\n",
            "Epoch 4/16\n",
            "200/200 [==============================] - 0s 587us/sample - loss: 0.1820 - accuracy: 0.9700 - val_loss: 0.1818 - val_accuracy: 0.9604\n",
            "Epoch 5/16\n",
            "200/200 [==============================] - 0s 614us/sample - loss: 0.1466 - accuracy: 0.9800 - val_loss: 0.1557 - val_accuracy: 0.9746\n",
            "Epoch 6/16\n",
            "200/200 [==============================] - 0s 589us/sample - loss: 0.1231 - accuracy: 0.9850 - val_loss: 0.1366 - val_accuracy: 0.9817\n",
            "Epoch 7/16\n",
            "200/200 [==============================] - 0s 594us/sample - loss: 0.1062 - accuracy: 0.9950 - val_loss: 0.1216 - val_accuracy: 0.9838\n",
            "Epoch 8/16\n",
            "200/200 [==============================] - 0s 602us/sample - loss: 0.0930 - accuracy: 0.9950 - val_loss: 0.1095 - val_accuracy: 0.9878\n",
            "Epoch 9/16\n",
            "200/200 [==============================] - 0s 590us/sample - loss: 0.0824 - accuracy: 0.9950 - val_loss: 0.1003 - val_accuracy: 0.9888\n",
            "Epoch 10/16\n",
            "200/200 [==============================] - 0s 630us/sample - loss: 0.0743 - accuracy: 0.9950 - val_loss: 0.0925 - val_accuracy: 0.9888\n",
            "Epoch 11/16\n",
            "200/200 [==============================] - 0s 587us/sample - loss: 0.0676 - accuracy: 0.9950 - val_loss: 0.0857 - val_accuracy: 0.9899\n",
            "Epoch 12/16\n",
            "200/200 [==============================] - 0s 603us/sample - loss: 0.0614 - accuracy: 0.9950 - val_loss: 0.0800 - val_accuracy: 0.9899\n",
            "Epoch 13/16\n",
            "200/200 [==============================] - 0s 594us/sample - loss: 0.0566 - accuracy: 0.9950 - val_loss: 0.0752 - val_accuracy: 0.9899\n",
            "Epoch 14/16\n",
            "200/200 [==============================] - 0s 592us/sample - loss: 0.0524 - accuracy: 0.9950 - val_loss: 0.0711 - val_accuracy: 0.9899\n",
            "Epoch 15/16\n",
            "200/200 [==============================] - 0s 618us/sample - loss: 0.0491 - accuracy: 0.9950 - val_loss: 0.0673 - val_accuracy: 0.9899\n",
            "Epoch 16/16\n",
            "200/200 [==============================] - 0s 594us/sample - loss: 0.0459 - accuracy: 0.9950 - val_loss: 0.0640 - val_accuracy: 0.9899\n"
          ],
          "name": "stdout"
        }
      ]
    },
    {
      "cell_type": "code",
      "metadata": {
        "id": "7eFj-P9cbPce",
        "colab_type": "code",
        "outputId": "4275733d-dc2c-402c-c6ee-1fb3e692506a",
        "colab": {
          "base_uri": "https://localhost:8080/",
          "height": 51
        }
      },
      "source": [
        "model_B.evaluate(X_test_B, y_test_B)"
      ],
      "execution_count": 0,
      "outputs": [
        {
          "output_type": "stream",
          "text": [
            "2000/2000 [==============================] - 0s 83us/sample - loss: 0.6219 - accuracy: 0.8860\n"
          ],
          "name": "stdout"
        },
        {
          "output_type": "execute_result",
          "data": {
            "text/plain": [
              "[0.6219099011421204, 0.886]"
            ]
          },
          "metadata": {
            "tags": []
          },
          "execution_count": 44
        }
      ]
    },
    {
      "cell_type": "code",
      "metadata": {
        "id": "Ux930hCPbRLo",
        "colab_type": "code",
        "outputId": "c8ea99cf-3d3c-4938-c845-cc156384a583",
        "colab": {
          "base_uri": "https://localhost:8080/",
          "height": 51
        }
      },
      "source": [
        "model_B_on_A.evaluate(X_test_B, y_test_B)"
      ],
      "execution_count": 0,
      "outputs": [
        {
          "output_type": "stream",
          "text": [
            "2000/2000 [==============================] - 0s 101us/sample - loss: 0.0557 - accuracy: 0.9945\n"
          ],
          "name": "stdout"
        },
        {
          "output_type": "execute_result",
          "data": {
            "text/plain": [
              "[0.05565613985061645, 0.9945]"
            ]
          },
          "metadata": {
            "tags": []
          },
          "execution_count": 45
        }
      ]
    }
  ]
}